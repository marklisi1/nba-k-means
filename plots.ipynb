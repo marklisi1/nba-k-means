{
 "cells": [
  {
   "cell_type": "code",
   "execution_count": null,
   "metadata": {},
   "outputs": [],
   "source": [
    "import pandas as pd\n",
    "import numpy as np \n",
    "from sklearn.cluster import KMeans\n",
    "from sklearn.decomposition import PCA\n",
    "import matplotlib.pyplot as plt\n",
    "from sklearn.preprocessing import StandardScaler, OneHotEncoder\n",
    "from sklearn.compose import ColumnTransformer\n",
    "from sklearn.pipeline import Pipeline\n",
    "import plotly.express as px\n",
    "from sklearn.manifold import TSNE "
   ]
  },
  {
   "cell_type": "markdown",
   "metadata": {},
   "source": [
    "### Playoff Stats"
   ]
  },
  {
   "cell_type": "code",
   "execution_count": 26,
   "metadata": {},
   "outputs": [
    {
     "data": {
      "text/plain": [
       "Index(['RANK', 'NAME', 'TEAM', 'POS', 'AGE', 'GP', 'MPG', 'USG%', 'TO%', 'FTA',\n",
       "       'FT%', '2PA', '2P%', '3PA', '3P%', 'eFG%', 'TS%', 'PPG', 'RPG', 'APG',\n",
       "       'SPG', 'BPG', 'TPG', 'P+R', 'P+A', 'P+R+A', 'VI', 'ORtg', 'DRtg'],\n",
       "      dtype='object')"
      ]
     },
     "execution_count": 26,
     "metadata": {},
     "output_type": "execute_result"
    }
   ],
   "source": [
    "stat_df = pd.read_csv('playoff_stats.csv')\n",
    "stat_df.columns"
   ]
  },
  {
   "cell_type": "code",
   "execution_count": null,
   "metadata": {},
   "outputs": [],
   "source": [
    "# Filter the df to contain only players that play significant minutes\n",
    "stat_df = stat_df[stat_df['MPG'] > 10]"
   ]
  },
  {
   "cell_type": "code",
   "execution_count": 28,
   "metadata": {},
   "outputs": [
    {
     "data": {
      "text/html": [
       "<div>\n",
       "<style scoped>\n",
       "    .dataframe tbody tr th:only-of-type {\n",
       "        vertical-align: middle;\n",
       "    }\n",
       "\n",
       "    .dataframe tbody tr th {\n",
       "        vertical-align: top;\n",
       "    }\n",
       "\n",
       "    .dataframe thead th {\n",
       "        text-align: right;\n",
       "    }\n",
       "</style>\n",
       "<table border=\"1\" class=\"dataframe\">\n",
       "  <thead>\n",
       "    <tr style=\"text-align: right;\">\n",
       "      <th></th>\n",
       "      <th>POS</th>\n",
       "      <th>AGE</th>\n",
       "      <th>GP</th>\n",
       "      <th>MPG</th>\n",
       "      <th>USG%</th>\n",
       "      <th>TO%</th>\n",
       "      <th>FTA</th>\n",
       "      <th>FT%</th>\n",
       "      <th>2PA</th>\n",
       "      <th>2P%</th>\n",
       "      <th>...</th>\n",
       "      <th>APG</th>\n",
       "      <th>SPG</th>\n",
       "      <th>BPG</th>\n",
       "      <th>TPG</th>\n",
       "      <th>P+R</th>\n",
       "      <th>P+A</th>\n",
       "      <th>P+R+A</th>\n",
       "      <th>VI</th>\n",
       "      <th>ORtg</th>\n",
       "      <th>DRtg</th>\n",
       "    </tr>\n",
       "  </thead>\n",
       "  <tbody>\n",
       "    <tr>\n",
       "      <th>0</th>\n",
       "      <td>C</td>\n",
       "      <td>30.2</td>\n",
       "      <td>6</td>\n",
       "      <td>41.4</td>\n",
       "      <td>35.7</td>\n",
       "      <td>15.8</td>\n",
       "      <td>78</td>\n",
       "      <td>0.859</td>\n",
       "      <td>94</td>\n",
       "      <td>0.489</td>\n",
       "      <td>...</td>\n",
       "      <td>5.7</td>\n",
       "      <td>1.2</td>\n",
       "      <td>1.5</td>\n",
       "      <td>4.2</td>\n",
       "      <td>43.8</td>\n",
       "      <td>38.7</td>\n",
       "      <td>49.5</td>\n",
       "      <td>12.2</td>\n",
       "      <td>117.1</td>\n",
       "      <td>108.0</td>\n",
       "    </tr>\n",
       "    <tr>\n",
       "      <th>1</th>\n",
       "      <td>G</td>\n",
       "      <td>27.8</td>\n",
       "      <td>13</td>\n",
       "      <td>39.8</td>\n",
       "      <td>36.4</td>\n",
       "      <td>9.3</td>\n",
       "      <td>120</td>\n",
       "      <td>0.775</td>\n",
       "      <td>256</td>\n",
       "      <td>0.488</td>\n",
       "      <td>...</td>\n",
       "      <td>7.5</td>\n",
       "      <td>0.8</td>\n",
       "      <td>0.2</td>\n",
       "      <td>2.7</td>\n",
       "      <td>35.7</td>\n",
       "      <td>39.8</td>\n",
       "      <td>43.2</td>\n",
       "      <td>9.3</td>\n",
       "      <td>114.8</td>\n",
       "      <td>114.7</td>\n",
       "    </tr>\n",
       "    <tr>\n",
       "      <th>2</th>\n",
       "      <td>G</td>\n",
       "      <td>33.9</td>\n",
       "      <td>4</td>\n",
       "      <td>39.1</td>\n",
       "      <td>31.4</td>\n",
       "      <td>10.0</td>\n",
       "      <td>38</td>\n",
       "      <td>0.974</td>\n",
       "      <td>33</td>\n",
       "      <td>0.424</td>\n",
       "      <td>...</td>\n",
       "      <td>5.0</td>\n",
       "      <td>1.0</td>\n",
       "      <td>0.0</td>\n",
       "      <td>2.3</td>\n",
       "      <td>34.5</td>\n",
       "      <td>36.3</td>\n",
       "      <td>39.5</td>\n",
       "      <td>8.2</td>\n",
       "      <td>127.6</td>\n",
       "      <td>115.7</td>\n",
       "    </tr>\n",
       "    <tr>\n",
       "      <th>3</th>\n",
       "      <td>G</td>\n",
       "      <td>25.9</td>\n",
       "      <td>10</td>\n",
       "      <td>39.9</td>\n",
       "      <td>32.3</td>\n",
       "      <td>8.9</td>\n",
       "      <td>81</td>\n",
       "      <td>0.790</td>\n",
       "      <td>187</td>\n",
       "      <td>0.508</td>\n",
       "      <td>...</td>\n",
       "      <td>6.4</td>\n",
       "      <td>1.3</td>\n",
       "      <td>1.7</td>\n",
       "      <td>2.2</td>\n",
       "      <td>37.4</td>\n",
       "      <td>36.6</td>\n",
       "      <td>43.8</td>\n",
       "      <td>11.2</td>\n",
       "      <td>118.3</td>\n",
       "      <td>106.9</td>\n",
       "    </tr>\n",
       "    <tr>\n",
       "      <th>4</th>\n",
       "      <td>G</td>\n",
       "      <td>23.6</td>\n",
       "      <td>6</td>\n",
       "      <td>44.6</td>\n",
       "      <td>28.1</td>\n",
       "      <td>8.6</td>\n",
       "      <td>28</td>\n",
       "      <td>0.893</td>\n",
       "      <td>83</td>\n",
       "      <td>0.530</td>\n",
       "      <td>...</td>\n",
       "      <td>6.8</td>\n",
       "      <td>0.8</td>\n",
       "      <td>0.3</td>\n",
       "      <td>2.2</td>\n",
       "      <td>35.0</td>\n",
       "      <td>36.7</td>\n",
       "      <td>41.8</td>\n",
       "      <td>9.1</td>\n",
       "      <td>120.9</td>\n",
       "      <td>113.3</td>\n",
       "    </tr>\n",
       "    <tr>\n",
       "      <th>...</th>\n",
       "      <td>...</td>\n",
       "      <td>...</td>\n",
       "      <td>...</td>\n",
       "      <td>...</td>\n",
       "      <td>...</td>\n",
       "      <td>...</td>\n",
       "      <td>...</td>\n",
       "      <td>...</td>\n",
       "      <td>...</td>\n",
       "      <td>...</td>\n",
       "      <td>...</td>\n",
       "      <td>...</td>\n",
       "      <td>...</td>\n",
       "      <td>...</td>\n",
       "      <td>...</td>\n",
       "      <td>...</td>\n",
       "      <td>...</td>\n",
       "      <td>...</td>\n",
       "      <td>...</td>\n",
       "      <td>...</td>\n",
       "      <td>...</td>\n",
       "    </tr>\n",
       "    <tr>\n",
       "      <th>147</th>\n",
       "      <td>F</td>\n",
       "      <td>30.1</td>\n",
       "      <td>5</td>\n",
       "      <td>11.9</td>\n",
       "      <td>17.2</td>\n",
       "      <td>23.8</td>\n",
       "      <td>0</td>\n",
       "      <td>0.000</td>\n",
       "      <td>3</td>\n",
       "      <td>0.667</td>\n",
       "      <td>...</td>\n",
       "      <td>1.2</td>\n",
       "      <td>0.4</td>\n",
       "      <td>0.0</td>\n",
       "      <td>1.0</td>\n",
       "      <td>3.6</td>\n",
       "      <td>3.8</td>\n",
       "      <td>4.8</td>\n",
       "      <td>4.9</td>\n",
       "      <td>74.6</td>\n",
       "      <td>105.5</td>\n",
       "    </tr>\n",
       "    <tr>\n",
       "      <th>149</th>\n",
       "      <td>G</td>\n",
       "      <td>22.6</td>\n",
       "      <td>5</td>\n",
       "      <td>11.9</td>\n",
       "      <td>10.8</td>\n",
       "      <td>21.4</td>\n",
       "      <td>0</td>\n",
       "      <td>0.000</td>\n",
       "      <td>5</td>\n",
       "      <td>0.600</td>\n",
       "      <td>...</td>\n",
       "      <td>2.0</td>\n",
       "      <td>1.0</td>\n",
       "      <td>0.2</td>\n",
       "      <td>0.6</td>\n",
       "      <td>4.6</td>\n",
       "      <td>4.4</td>\n",
       "      <td>6.6</td>\n",
       "      <td>7.4</td>\n",
       "      <td>123.9</td>\n",
       "      <td>98.8</td>\n",
       "    </tr>\n",
       "    <tr>\n",
       "      <th>150</th>\n",
       "      <td>F</td>\n",
       "      <td>33.9</td>\n",
       "      <td>4</td>\n",
       "      <td>10.5</td>\n",
       "      <td>14.1</td>\n",
       "      <td>0.0</td>\n",
       "      <td>2</td>\n",
       "      <td>1.000</td>\n",
       "      <td>5</td>\n",
       "      <td>0.400</td>\n",
       "      <td>...</td>\n",
       "      <td>0.5</td>\n",
       "      <td>0.0</td>\n",
       "      <td>0.5</td>\n",
       "      <td>0.0</td>\n",
       "      <td>3.8</td>\n",
       "      <td>2.8</td>\n",
       "      <td>4.3</td>\n",
       "      <td>4.6</td>\n",
       "      <td>93.4</td>\n",
       "      <td>111.7</td>\n",
       "    </tr>\n",
       "    <tr>\n",
       "      <th>159</th>\n",
       "      <td>G</td>\n",
       "      <td>26.2</td>\n",
       "      <td>4</td>\n",
       "      <td>15.4</td>\n",
       "      <td>17.1</td>\n",
       "      <td>16.7</td>\n",
       "      <td>0</td>\n",
       "      <td>0.000</td>\n",
       "      <td>6</td>\n",
       "      <td>0.333</td>\n",
       "      <td>...</td>\n",
       "      <td>2.3</td>\n",
       "      <td>1.3</td>\n",
       "      <td>0.3</td>\n",
       "      <td>1.0</td>\n",
       "      <td>2.8</td>\n",
       "      <td>4.0</td>\n",
       "      <td>5.0</td>\n",
       "      <td>4.2</td>\n",
       "      <td>53.7</td>\n",
       "      <td>110.2</td>\n",
       "    </tr>\n",
       "    <tr>\n",
       "      <th>167</th>\n",
       "      <td>G</td>\n",
       "      <td>28.0</td>\n",
       "      <td>5</td>\n",
       "      <td>13.8</td>\n",
       "      <td>10.0</td>\n",
       "      <td>20.0</td>\n",
       "      <td>0</td>\n",
       "      <td>0.000</td>\n",
       "      <td>5</td>\n",
       "      <td>0.400</td>\n",
       "      <td>...</td>\n",
       "      <td>0.6</td>\n",
       "      <td>0.4</td>\n",
       "      <td>0.0</td>\n",
       "      <td>0.6</td>\n",
       "      <td>3.0</td>\n",
       "      <td>2.0</td>\n",
       "      <td>3.6</td>\n",
       "      <td>3.2</td>\n",
       "      <td>62.4</td>\n",
       "      <td>107.0</td>\n",
       "    </tr>\n",
       "  </tbody>\n",
       "</table>\n",
       "<p>143 rows × 26 columns</p>\n",
       "</div>"
      ],
      "text/plain": [
       "    POS   AGE  GP   MPG  USG%   TO%  FTA    FT%  2PA    2P%  ...  APG  SPG  \\\n",
       "0     C  30.2   6  41.4  35.7  15.8   78  0.859   94  0.489  ...  5.7  1.2   \n",
       "1     G  27.8  13  39.8  36.4   9.3  120  0.775  256  0.488  ...  7.5  0.8   \n",
       "2     G  33.9   4  39.1  31.4  10.0   38  0.974   33  0.424  ...  5.0  1.0   \n",
       "3     G  25.9  10  39.9  32.3   8.9   81  0.790  187  0.508  ...  6.4  1.3   \n",
       "4     G  23.6   6  44.6  28.1   8.6   28  0.893   83  0.530  ...  6.8  0.8   \n",
       "..   ..   ...  ..   ...   ...   ...  ...    ...  ...    ...  ...  ...  ...   \n",
       "147   F  30.1   5  11.9  17.2  23.8    0  0.000    3  0.667  ...  1.2  0.4   \n",
       "149   G  22.6   5  11.9  10.8  21.4    0  0.000    5  0.600  ...  2.0  1.0   \n",
       "150   F  33.9   4  10.5  14.1   0.0    2  1.000    5  0.400  ...  0.5  0.0   \n",
       "159   G  26.2   4  15.4  17.1  16.7    0  0.000    6  0.333  ...  2.3  1.3   \n",
       "167   G  28.0   5  13.8  10.0  20.0    0  0.000    5  0.400  ...  0.6  0.4   \n",
       "\n",
       "     BPG  TPG   P+R   P+A  P+R+A    VI   ORtg   DRtg  \n",
       "0    1.5  4.2  43.8  38.7   49.5  12.2  117.1  108.0  \n",
       "1    0.2  2.7  35.7  39.8   43.2   9.3  114.8  114.7  \n",
       "2    0.0  2.3  34.5  36.3   39.5   8.2  127.6  115.7  \n",
       "3    1.7  2.2  37.4  36.6   43.8  11.2  118.3  106.9  \n",
       "4    0.3  2.2  35.0  36.7   41.8   9.1  120.9  113.3  \n",
       "..   ...  ...   ...   ...    ...   ...    ...    ...  \n",
       "147  0.0  1.0   3.6   3.8    4.8   4.9   74.6  105.5  \n",
       "149  0.2  0.6   4.6   4.4    6.6   7.4  123.9   98.8  \n",
       "150  0.5  0.0   3.8   2.8    4.3   4.6   93.4  111.7  \n",
       "159  0.3  1.0   2.8   4.0    5.0   4.2   53.7  110.2  \n",
       "167  0.0  0.6   3.0   2.0    3.6   3.2   62.4  107.0  \n",
       "\n",
       "[143 rows x 26 columns]"
      ]
     },
     "execution_count": 28,
     "metadata": {},
     "output_type": "execute_result"
    }
   ],
   "source": [
    "names = stat_df['NAME']\n",
    "position = stat_df['POS']\n",
    "X = stat_df.drop(['RANK', 'TEAM','NAME'], axis=1)\n",
    "X\n"
   ]
  },
  {
   "cell_type": "code",
   "execution_count": 29,
   "metadata": {},
   "outputs": [],
   "source": [
    "# preprocessing for position (categorical)\n",
    "X.POS = pd.factorize(X['POS'])[0]"
   ]
  },
  {
   "cell_type": "code",
   "execution_count": 30,
   "metadata": {},
   "outputs": [
    {
     "name": "stderr",
     "output_type": "stream",
     "text": [
      "c:\\Users\\mlisi\\anaconda3\\lib\\site-packages\\sklearn\\cluster\\_kmeans.py:1412: FutureWarning:\n",
      "\n",
      "The default value of `n_init` will change from 10 to 'auto' in 1.4. Set the value of `n_init` explicitly to suppress the warning\n",
      "\n",
      "c:\\Users\\mlisi\\anaconda3\\lib\\site-packages\\sklearn\\cluster\\_kmeans.py:1436: UserWarning:\n",
      "\n",
      "KMeans is known to have a memory leak on Windows with MKL, when there are less chunks than available threads. You can avoid it by setting the environment variable OMP_NUM_THREADS=1.\n",
      "\n"
     ]
    },
    {
     "data": {
      "application/vnd.plotly.v1+json": {
       "config": {
        "plotlyServerURL": "https://plot.ly"
       },
       "data": [
        {
         "hovertemplate": "<b>%{hovertext}</b><br><br>PCA Component 1=%{x}<br>PCA Component 2=%{y}<br>cluster=%{marker.color}<extra></extra>",
         "hovertext": [
          "Joel Embiid",
          "Jalen Brunson",
          "Damian Lillard",
          "Shai Gilgeous-Alexander",
          "Tyrese Maxey",
          "Donovan Mitchell",
          "Luka Doncic",
          "Nikola Jokic",
          "LeBron James",
          "Anthony Davis",
          "Anthony Edwards",
          "Devin Booker",
          "Paolo Banchero",
          "Kevin Durant",
          "Jayson Tatum",
          "Jaylen Brown",
          "Khris Middleton",
          "Kyrie Irving",
          "Bam Adebayo",
          "Pascal Siakam",
          "James Harden",
          "Jamal Murray",
          "Paul George",
          "Karl-Anthony Towns",
          "Franz Wagner",
          "Tyrese Haliburton",
          "Jalen Williams",
          "CJ McCollum",
          "Donte DiVincenzo",
          "Brook Lopez",
          "Derrick White",
          "Myles Turner",
          "Jarrett Allen",
          "Tyler Herro",
          "Austin Reaves",
          "Bradley Beal",
          "Bobby Portis",
          "Ivica Zubac",
          "Evan Mobley",
          "Michael Porter Jr.",
          "Darius Garland",
          "Chet Holmgren",
          "OG Anunoby",
          "Andrew Nembhard",
          "Alec Burks",
          "Jalen Suggs",
          "Jonas Valanciunas",
          "Josh Hart",
          "Aaron Gordon",
          "Brandon Ingram",
          "D'Angelo Russell",
          "P.J. Washington",
          "Kristaps Porzingis",
          "Jrue Holiday",
          "Kelly Oubre Jr.",
          "Herbert Jones",
          "Norman Powell",
          "Jaime Jaquez Jr.",
          "Jaden McDaniels",
          "Rudy Gobert",
          "Kawhi Leonard",
          "T.J. McConnell",
          "Mike Conley",
          "Caleb Martin",
          "Trey Murphy III",
          "Naz Reid",
          "Miles McBride",
          "Obi Toppin",
          "Luguentz Dort",
          "Aaron Nesmith",
          "Caris LeVert",
          "Al Horford",
          "Max Strus",
          "Nikola Jovic",
          "Derrick Jones Jr.",
          "Terance Mann",
          "Daniel Gafford",
          "Tobias Harris",
          "Naji Marshall",
          "Malik Beasley",
          "Josh Giddey",
          "Isaiah Hartenstein",
          "Patrick Beverley",
          "Kentavious Caldwell-Pope",
          "Eric Gordon",
          "Dereck Lively II",
          "Delon Wright",
          "Jusuf Nurkic",
          "Rui Hachimura",
          "Wendell Carter Jr.",
          "Taurean Prince",
          "Nickeil Alexander-Walker",
          "Kyle Lowry",
          "Markelle Fultz",
          "Isaiah Joe",
          "Payton Pritchard",
          "Russell Westbrook",
          "Nicolas Batum",
          "Larry Nance Jr.",
          "Jonathan Isaac",
          "Moritz Wagner",
          "Aaron Wiggins",
          "Marcus Morris Sr.",
          "Bojan Bogdanovic",
          "Patty Mills",
          "Drew Eubanks",
          "Cameron Payne",
          "P.J. Tucker",
          "Isaac Okoro",
          "Buddy Hield",
          "Precious Achiuwa",
          "Ben Sheppard",
          "Cole Anthony",
          "Christian Braun",
          "Royce O'Neale",
          "Haywood Highsmith",
          "Sam Hauser",
          "Josh Green",
          "Pat Connaughton",
          "Jaylin Williams",
          "Kyle Anderson",
          "Gary Harris",
          "Cason Wallace",
          "Tim Hardaway Jr.",
          "Isaiah Jackson",
          "Maxi Kleber",
          "Dean Wade",
          "Danilo Gallinari",
          "Luke Kornet",
          "Grayson Allen",
          "Sam Merrill",
          "Mason Plumlee",
          "Spencer Dinwiddie",
          "Justin Holiday",
          "Georges Niang",
          "Mitchell Robinson",
          "Amir Coffey",
          "AJ Green",
          "Duncan Robinson",
          "Andre Jackson Jr.",
          "Jae Crowder",
          "Jose Alvarado",
          "Gabe Vincent"
         ],
         "legendgroup": "",
         "marker": {
          "color": [
           2,
           2,
           2,
           2,
           2,
           2,
           2,
           2,
           2,
           2,
           2,
           2,
           2,
           2,
           2,
           2,
           2,
           2,
           3,
           2,
           2,
           2,
           3,
           0,
           0,
           2,
           2,
           3,
           0,
           0,
           0,
           0,
           0,
           3,
           3,
           3,
           3,
           3,
           0,
           0,
           3,
           0,
           0,
           0,
           4,
           3,
           3,
           0,
           0,
           3,
           3,
           0,
           0,
           0,
           3,
           3,
           4,
           3,
           0,
           0,
           3,
           3,
           3,
           4,
           3,
           0,
           4,
           0,
           4,
           0,
           3,
           0,
           4,
           4,
           0,
           4,
           0,
           4,
           4,
           4,
           4,
           0,
           3,
           4,
           1,
           0,
           4,
           3,
           1,
           4,
           4,
           4,
           4,
           4,
           4,
           4,
           1,
           4,
           4,
           4,
           4,
           4,
           4,
           1,
           1,
           4,
           4,
           4,
           1,
           4,
           4,
           4,
           1,
           4,
           1,
           1,
           4,
           4,
           4,
           4,
           4,
           1,
           4,
           1,
           4,
           4,
           1,
           4,
           4,
           1,
           4,
           1,
           1,
           1,
           1,
           4,
           1,
           4,
           1,
           4,
           1,
           1,
           1
          ],
          "coloraxis": "coloraxis",
          "symbol": "circle"
         },
         "mode": "markers",
         "name": "",
         "orientation": "v",
         "showlegend": false,
         "type": "scatter",
         "x": [
          7.590523405411176,
          6.986427699275446,
          4.252863074155571,
          6.662424965646578,
          4.900213354725958,
          5.599713392947888,
          9.558502995849663,
          8.43074180280323,
          6.28484207812416,
          5.593475086735278,
          7.166299491800787,
          4.354328361147086,
          5.295757170452184,
          3.733474606227632,
          6.884645061777762,
          5.330622529679108,
          3.940026116155773,
          4.771293757088717,
          2.901178877463639,
          4.034709010823228,
          3.7269004714736975,
          3.3679489554111166,
          2.7916193494257584,
          3.4455239207258233,
          2.4112871346396627,
          4.404071521178098,
          3.2320337861699664,
          2.3987349687883386,
          1.9250539875745627,
          1.0425330148786265,
          2.805483293311766,
          2.882845635087892,
          2.547654163535001,
          1.37378187772781,
          1.1859032720744611,
          1.1509996387462404,
          1.0448675806337122,
          1.1006061645654863,
          2.684584303596955,
          1.2742303660644312,
          2.0780579948779243,
          2.1532387589914967,
          0.5570684688217903,
          1.887620262115876,
          -0.051801374984327124,
          1.4914948285667557,
          1.3560594210502417,
          3.194617014589444,
          2.1513045942279376,
          0.4300903894049427,
          0.046848172929371594,
          1.6120714297112237,
          0.4852095968469353,
          2.111414319462934,
          0.05935684302401076,
          0.4624825870926913,
          -1.3150502139882025,
          -0.2742410777435784,
          0.3511088979732481,
          1.7425298381972396,
          0.19136674841807938,
          1.296722620555186,
          1.2327612012716822,
          -1.0851348610147231,
          -0.2930130301961044,
          -0.44661320700286583,
          -0.7313794573545382,
          0.3209115390653638,
          -0.477787742644367,
          0.28746547425377955,
          -0.4686393670411025,
          0.06742858605973638,
          -0.31923257537058836,
          -0.3052022410796716,
          -0.3725131132322951,
          -1.4655146555866696,
          -0.11823552348589744,
          -1.2887817630456797,
          -1.8028881380363138,
          -2.1093750170319345,
          -0.7589819589250676,
          0.42228023750295485,
          -0.5288610173693833,
          -0.9293564268957525,
          -2.2526122885060835,
          0.4507607599410368,
          -1.0919825251420467,
          -0.11832060401483006,
          -2.861163549530424,
          -1.403627124544115,
          -2.6901772899234033,
          -1.5099257318532449,
          -1.2606540885671114,
          -2.3529999750747366,
          -2.5665811324839063,
          -1.6930388392691043,
          -1.9096491449470765,
          -2.004762626579627,
          -1.1061697969474371,
          -2.080262697966301,
          -2.578330146022591,
          -1.6760201668349868,
          -2.9242637562244758,
          -3.1229891616541665,
          -3.67377683716203,
          -3.7747272002374066,
          -3.0174743998966216,
          -3.150016789058338,
          -2.7804511807686105,
          -3.154213618026478,
          -2.8235328373159816,
          -2.104327313145871,
          -3.0855060060760615,
          -2.8891079152049284,
          -3.6104801184015973,
          -3.2280302302197144,
          -2.7144350129006205,
          -2.160579334450249,
          -2.211651705791179,
          -2.093534916670217,
          -2.2209198389733813,
          -3.683075807966567,
          -3.271864399350872,
          -4.040460557034691,
          -2.698260457395383,
          -3.295312709533866,
          -4.038467822745543,
          -3.520100555316496,
          -2.500415570657052,
          -3.5981968973085046,
          -4.020581353237218,
          -4.047437499422914,
          -3.9410107399296095,
          -4.679744817999861,
          -4.579142589405218,
          -2.8359544050793013,
          -4.934235530849782,
          -4.138127752152932,
          -4.310366273223806,
          -3.1336648741279083,
          -4.901198642519112,
          -4.756707167738095,
          -5.545771743443383
         ],
         "xaxis": "x",
         "y": [
          1.9384357414742353,
          1.6841670651923069,
          0.4324145246991647,
          0.7818039959373354,
          0.39447044672746756,
          1.1604765188170734,
          1.8236723250051532,
          0.6018134770062965,
          0.9798648521626586,
          -0.7551068346359976,
          0.8014173055881607,
          0.4564568987457249,
          2.1773746953105726,
          -0.7558030750775777,
          1.0458499394016219,
          -0.2712271807511747,
          0.48013033107713216,
          0.24571219861344987,
          1.2014060176335526,
          -0.7802519183727534,
          0.0019433679632226055,
          2.1762680066005253,
          1.2792598640038224,
          -0.2472144574626899,
          0.5160608488027708,
          -1.1617987856971628,
          0.8247690454571092,
          3.2917640966684316,
          -0.30674324477493453,
          -1.978926035684633,
          -2.0150885458794607,
          -1.5867155010964455,
          -1.7887210871578318,
          1.9253440898759462,
          -0.4637604325036614,
          1.5518379242313396,
          0.8969037465932898,
          -0.5470387554284284,
          -0.6397571024518095,
          -0.9133494102098465,
          1.2604082835721446,
          -0.5778105513759413,
          -1.0128471335203302,
          -2.495946446251522,
          -3.329516921679376,
          1.5191795423526333,
          1.1250137969777672,
          0.6069343117615994,
          -2.179207901824479,
          2.829401723588745,
          1.720303788588826,
          -0.870987742913953,
          -1.2844332379852004,
          -1.8586600415217873,
          -0.3554899819947833,
          1.424635229491428,
          -0.0350646646535643,
          2.221586464344401,
          -2.0112644985231545,
          -1.2562933443434132,
          2.508578675025665,
          0.4020843553333519,
          0.08412432359080138,
          -1.6128123527906473,
          1.856001860591062,
          -1.2261184783661356,
          -0.8118205142595868,
          -2.395928998407162,
          0.3652260776246978,
          -0.9902371069082466,
          1.1044652359332545,
          -2.875662626700122,
          -0.3404701511863903,
          -0.5464970239530185,
          -1.7223339386403171,
          -1.1380010696114897,
          -2.812461832476349,
          -0.5643759525116779,
          -1.127762796933374,
          -1.9069591354149802,
          -0.28909179349530956,
          -2.5096430256201745,
          0.22587507289297593,
          -0.1501765884120359,
          1.4930266047885272,
          -2.5702433900068273,
          -4.9683587816538815,
          1.3968883971259165,
          0.34740128414854204,
          0.149613816212512,
          -1.3454783582088845,
          -0.129147682219939,
          0.029053692335280528,
          -0.18328565570671876,
          -1.2248451971108165,
          -1.360029854135662,
          4.620058393240292,
          -1.2924040464211064,
          -1.373490787086477,
          -1.077826257384408,
          0.9207329706849442,
          -1.0571827945011432,
          -0.9592781074706771,
          1.552414520210777,
          0.6028918063441111,
          -1.1156311109794739,
          0.08859143528152508,
          -4.179992743615817,
          1.4085347717005763,
          -1.1901594328494711,
          -0.08207281752273213,
          -1.6643944186211395,
          2.7496439283275134,
          -0.6539815719270584,
          1.163853340414584,
          1.280151271279987,
          -2.2893838035954097,
          -1.6073758725133878,
          -0.37153601992332536,
          -2.8090779785913265,
          -0.414468718903571,
          1.6431447710677847,
          -0.24793591670581797,
          0.77217465539327,
          -1.4294109174570795,
          -1.038195019447943,
          1.7511619073563864,
          -0.9359184321335101,
          -4.104393886810059,
          3.3356177473719106,
          -0.8185205504112623,
          1.2487450157684992,
          0.5570170109307411,
          0.9965732453372477,
          3.9482053611652126,
          0.16344332126853994,
          2.53354629160773,
          -0.472477468999443,
          2.4023100190137248,
          -0.34650720288280384,
          1.8463831021408599,
          6.610955875639718,
          4.276812393841668
         ],
         "yaxis": "y"
        }
       ],
       "layout": {
        "coloraxis": {
         "colorbar": {
          "title": {
           "text": "cluster"
          }
         },
         "colorscale": [
          [
           0,
           "#0d0887"
          ],
          [
           0.1111111111111111,
           "#46039f"
          ],
          [
           0.2222222222222222,
           "#7201a8"
          ],
          [
           0.3333333333333333,
           "#9c179e"
          ],
          [
           0.4444444444444444,
           "#bd3786"
          ],
          [
           0.5555555555555556,
           "#d8576b"
          ],
          [
           0.6666666666666666,
           "#ed7953"
          ],
          [
           0.7777777777777778,
           "#fb9f3a"
          ],
          [
           0.8888888888888888,
           "#fdca26"
          ],
          [
           1,
           "#f0f921"
          ]
         ]
        },
        "height": 600,
        "legend": {
         "tracegroupgap": 0
        },
        "template": {
         "data": {
          "bar": [
           {
            "error_x": {
             "color": "#2a3f5f"
            },
            "error_y": {
             "color": "#2a3f5f"
            },
            "marker": {
             "line": {
              "color": "#E5ECF6",
              "width": 0.5
             },
             "pattern": {
              "fillmode": "overlay",
              "size": 10,
              "solidity": 0.2
             }
            },
            "type": "bar"
           }
          ],
          "barpolar": [
           {
            "marker": {
             "line": {
              "color": "#E5ECF6",
              "width": 0.5
             },
             "pattern": {
              "fillmode": "overlay",
              "size": 10,
              "solidity": 0.2
             }
            },
            "type": "barpolar"
           }
          ],
          "carpet": [
           {
            "aaxis": {
             "endlinecolor": "#2a3f5f",
             "gridcolor": "white",
             "linecolor": "white",
             "minorgridcolor": "white",
             "startlinecolor": "#2a3f5f"
            },
            "baxis": {
             "endlinecolor": "#2a3f5f",
             "gridcolor": "white",
             "linecolor": "white",
             "minorgridcolor": "white",
             "startlinecolor": "#2a3f5f"
            },
            "type": "carpet"
           }
          ],
          "choropleth": [
           {
            "colorbar": {
             "outlinewidth": 0,
             "ticks": ""
            },
            "type": "choropleth"
           }
          ],
          "contour": [
           {
            "colorbar": {
             "outlinewidth": 0,
             "ticks": ""
            },
            "colorscale": [
             [
              0,
              "#0d0887"
             ],
             [
              0.1111111111111111,
              "#46039f"
             ],
             [
              0.2222222222222222,
              "#7201a8"
             ],
             [
              0.3333333333333333,
              "#9c179e"
             ],
             [
              0.4444444444444444,
              "#bd3786"
             ],
             [
              0.5555555555555556,
              "#d8576b"
             ],
             [
              0.6666666666666666,
              "#ed7953"
             ],
             [
              0.7777777777777778,
              "#fb9f3a"
             ],
             [
              0.8888888888888888,
              "#fdca26"
             ],
             [
              1,
              "#f0f921"
             ]
            ],
            "type": "contour"
           }
          ],
          "contourcarpet": [
           {
            "colorbar": {
             "outlinewidth": 0,
             "ticks": ""
            },
            "type": "contourcarpet"
           }
          ],
          "heatmap": [
           {
            "colorbar": {
             "outlinewidth": 0,
             "ticks": ""
            },
            "colorscale": [
             [
              0,
              "#0d0887"
             ],
             [
              0.1111111111111111,
              "#46039f"
             ],
             [
              0.2222222222222222,
              "#7201a8"
             ],
             [
              0.3333333333333333,
              "#9c179e"
             ],
             [
              0.4444444444444444,
              "#bd3786"
             ],
             [
              0.5555555555555556,
              "#d8576b"
             ],
             [
              0.6666666666666666,
              "#ed7953"
             ],
             [
              0.7777777777777778,
              "#fb9f3a"
             ],
             [
              0.8888888888888888,
              "#fdca26"
             ],
             [
              1,
              "#f0f921"
             ]
            ],
            "type": "heatmap"
           }
          ],
          "heatmapgl": [
           {
            "colorbar": {
             "outlinewidth": 0,
             "ticks": ""
            },
            "colorscale": [
             [
              0,
              "#0d0887"
             ],
             [
              0.1111111111111111,
              "#46039f"
             ],
             [
              0.2222222222222222,
              "#7201a8"
             ],
             [
              0.3333333333333333,
              "#9c179e"
             ],
             [
              0.4444444444444444,
              "#bd3786"
             ],
             [
              0.5555555555555556,
              "#d8576b"
             ],
             [
              0.6666666666666666,
              "#ed7953"
             ],
             [
              0.7777777777777778,
              "#fb9f3a"
             ],
             [
              0.8888888888888888,
              "#fdca26"
             ],
             [
              1,
              "#f0f921"
             ]
            ],
            "type": "heatmapgl"
           }
          ],
          "histogram": [
           {
            "marker": {
             "pattern": {
              "fillmode": "overlay",
              "size": 10,
              "solidity": 0.2
             }
            },
            "type": "histogram"
           }
          ],
          "histogram2d": [
           {
            "colorbar": {
             "outlinewidth": 0,
             "ticks": ""
            },
            "colorscale": [
             [
              0,
              "#0d0887"
             ],
             [
              0.1111111111111111,
              "#46039f"
             ],
             [
              0.2222222222222222,
              "#7201a8"
             ],
             [
              0.3333333333333333,
              "#9c179e"
             ],
             [
              0.4444444444444444,
              "#bd3786"
             ],
             [
              0.5555555555555556,
              "#d8576b"
             ],
             [
              0.6666666666666666,
              "#ed7953"
             ],
             [
              0.7777777777777778,
              "#fb9f3a"
             ],
             [
              0.8888888888888888,
              "#fdca26"
             ],
             [
              1,
              "#f0f921"
             ]
            ],
            "type": "histogram2d"
           }
          ],
          "histogram2dcontour": [
           {
            "colorbar": {
             "outlinewidth": 0,
             "ticks": ""
            },
            "colorscale": [
             [
              0,
              "#0d0887"
             ],
             [
              0.1111111111111111,
              "#46039f"
             ],
             [
              0.2222222222222222,
              "#7201a8"
             ],
             [
              0.3333333333333333,
              "#9c179e"
             ],
             [
              0.4444444444444444,
              "#bd3786"
             ],
             [
              0.5555555555555556,
              "#d8576b"
             ],
             [
              0.6666666666666666,
              "#ed7953"
             ],
             [
              0.7777777777777778,
              "#fb9f3a"
             ],
             [
              0.8888888888888888,
              "#fdca26"
             ],
             [
              1,
              "#f0f921"
             ]
            ],
            "type": "histogram2dcontour"
           }
          ],
          "mesh3d": [
           {
            "colorbar": {
             "outlinewidth": 0,
             "ticks": ""
            },
            "type": "mesh3d"
           }
          ],
          "parcoords": [
           {
            "line": {
             "colorbar": {
              "outlinewidth": 0,
              "ticks": ""
             }
            },
            "type": "parcoords"
           }
          ],
          "pie": [
           {
            "automargin": true,
            "type": "pie"
           }
          ],
          "scatter": [
           {
            "fillpattern": {
             "fillmode": "overlay",
             "size": 10,
             "solidity": 0.2
            },
            "type": "scatter"
           }
          ],
          "scatter3d": [
           {
            "line": {
             "colorbar": {
              "outlinewidth": 0,
              "ticks": ""
             }
            },
            "marker": {
             "colorbar": {
              "outlinewidth": 0,
              "ticks": ""
             }
            },
            "type": "scatter3d"
           }
          ],
          "scattercarpet": [
           {
            "marker": {
             "colorbar": {
              "outlinewidth": 0,
              "ticks": ""
             }
            },
            "type": "scattercarpet"
           }
          ],
          "scattergeo": [
           {
            "marker": {
             "colorbar": {
              "outlinewidth": 0,
              "ticks": ""
             }
            },
            "type": "scattergeo"
           }
          ],
          "scattergl": [
           {
            "marker": {
             "colorbar": {
              "outlinewidth": 0,
              "ticks": ""
             }
            },
            "type": "scattergl"
           }
          ],
          "scattermapbox": [
           {
            "marker": {
             "colorbar": {
              "outlinewidth": 0,
              "ticks": ""
             }
            },
            "type": "scattermapbox"
           }
          ],
          "scatterpolar": [
           {
            "marker": {
             "colorbar": {
              "outlinewidth": 0,
              "ticks": ""
             }
            },
            "type": "scatterpolar"
           }
          ],
          "scatterpolargl": [
           {
            "marker": {
             "colorbar": {
              "outlinewidth": 0,
              "ticks": ""
             }
            },
            "type": "scatterpolargl"
           }
          ],
          "scatterternary": [
           {
            "marker": {
             "colorbar": {
              "outlinewidth": 0,
              "ticks": ""
             }
            },
            "type": "scatterternary"
           }
          ],
          "surface": [
           {
            "colorbar": {
             "outlinewidth": 0,
             "ticks": ""
            },
            "colorscale": [
             [
              0,
              "#0d0887"
             ],
             [
              0.1111111111111111,
              "#46039f"
             ],
             [
              0.2222222222222222,
              "#7201a8"
             ],
             [
              0.3333333333333333,
              "#9c179e"
             ],
             [
              0.4444444444444444,
              "#bd3786"
             ],
             [
              0.5555555555555556,
              "#d8576b"
             ],
             [
              0.6666666666666666,
              "#ed7953"
             ],
             [
              0.7777777777777778,
              "#fb9f3a"
             ],
             [
              0.8888888888888888,
              "#fdca26"
             ],
             [
              1,
              "#f0f921"
             ]
            ],
            "type": "surface"
           }
          ],
          "table": [
           {
            "cells": {
             "fill": {
              "color": "#EBF0F8"
             },
             "line": {
              "color": "white"
             }
            },
            "header": {
             "fill": {
              "color": "#C8D4E3"
             },
             "line": {
              "color": "white"
             }
            },
            "type": "table"
           }
          ]
         },
         "layout": {
          "annotationdefaults": {
           "arrowcolor": "#2a3f5f",
           "arrowhead": 0,
           "arrowwidth": 1
          },
          "autotypenumbers": "strict",
          "coloraxis": {
           "colorbar": {
            "outlinewidth": 0,
            "ticks": ""
           }
          },
          "colorscale": {
           "diverging": [
            [
             0,
             "#8e0152"
            ],
            [
             0.1,
             "#c51b7d"
            ],
            [
             0.2,
             "#de77ae"
            ],
            [
             0.3,
             "#f1b6da"
            ],
            [
             0.4,
             "#fde0ef"
            ],
            [
             0.5,
             "#f7f7f7"
            ],
            [
             0.6,
             "#e6f5d0"
            ],
            [
             0.7,
             "#b8e186"
            ],
            [
             0.8,
             "#7fbc41"
            ],
            [
             0.9,
             "#4d9221"
            ],
            [
             1,
             "#276419"
            ]
           ],
           "sequential": [
            [
             0,
             "#0d0887"
            ],
            [
             0.1111111111111111,
             "#46039f"
            ],
            [
             0.2222222222222222,
             "#7201a8"
            ],
            [
             0.3333333333333333,
             "#9c179e"
            ],
            [
             0.4444444444444444,
             "#bd3786"
            ],
            [
             0.5555555555555556,
             "#d8576b"
            ],
            [
             0.6666666666666666,
             "#ed7953"
            ],
            [
             0.7777777777777778,
             "#fb9f3a"
            ],
            [
             0.8888888888888888,
             "#fdca26"
            ],
            [
             1,
             "#f0f921"
            ]
           ],
           "sequentialminus": [
            [
             0,
             "#0d0887"
            ],
            [
             0.1111111111111111,
             "#46039f"
            ],
            [
             0.2222222222222222,
             "#7201a8"
            ],
            [
             0.3333333333333333,
             "#9c179e"
            ],
            [
             0.4444444444444444,
             "#bd3786"
            ],
            [
             0.5555555555555556,
             "#d8576b"
            ],
            [
             0.6666666666666666,
             "#ed7953"
            ],
            [
             0.7777777777777778,
             "#fb9f3a"
            ],
            [
             0.8888888888888888,
             "#fdca26"
            ],
            [
             1,
             "#f0f921"
            ]
           ]
          },
          "colorway": [
           "#636efa",
           "#EF553B",
           "#00cc96",
           "#ab63fa",
           "#FFA15A",
           "#19d3f3",
           "#FF6692",
           "#B6E880",
           "#FF97FF",
           "#FECB52"
          ],
          "font": {
           "color": "#2a3f5f"
          },
          "geo": {
           "bgcolor": "white",
           "lakecolor": "white",
           "landcolor": "#E5ECF6",
           "showlakes": true,
           "showland": true,
           "subunitcolor": "white"
          },
          "hoverlabel": {
           "align": "left"
          },
          "hovermode": "closest",
          "mapbox": {
           "style": "light"
          },
          "paper_bgcolor": "white",
          "plot_bgcolor": "#E5ECF6",
          "polar": {
           "angularaxis": {
            "gridcolor": "white",
            "linecolor": "white",
            "ticks": ""
           },
           "bgcolor": "#E5ECF6",
           "radialaxis": {
            "gridcolor": "white",
            "linecolor": "white",
            "ticks": ""
           }
          },
          "scene": {
           "xaxis": {
            "backgroundcolor": "#E5ECF6",
            "gridcolor": "white",
            "gridwidth": 2,
            "linecolor": "white",
            "showbackground": true,
            "ticks": "",
            "zerolinecolor": "white"
           },
           "yaxis": {
            "backgroundcolor": "#E5ECF6",
            "gridcolor": "white",
            "gridwidth": 2,
            "linecolor": "white",
            "showbackground": true,
            "ticks": "",
            "zerolinecolor": "white"
           },
           "zaxis": {
            "backgroundcolor": "#E5ECF6",
            "gridcolor": "white",
            "gridwidth": 2,
            "linecolor": "white",
            "showbackground": true,
            "ticks": "",
            "zerolinecolor": "white"
           }
          },
          "shapedefaults": {
           "line": {
            "color": "#2a3f5f"
           }
          },
          "ternary": {
           "aaxis": {
            "gridcolor": "white",
            "linecolor": "white",
            "ticks": ""
           },
           "baxis": {
            "gridcolor": "white",
            "linecolor": "white",
            "ticks": ""
           },
           "bgcolor": "#E5ECF6",
           "caxis": {
            "gridcolor": "white",
            "linecolor": "white",
            "ticks": ""
           }
          },
          "title": {
           "x": 0.05
          },
          "xaxis": {
           "automargin": true,
           "gridcolor": "white",
           "linecolor": "white",
           "ticks": "",
           "title": {
            "standoff": 15
           },
           "zerolinecolor": "white",
           "zerolinewidth": 2
          },
          "yaxis": {
           "automargin": true,
           "gridcolor": "white",
           "linecolor": "white",
           "ticks": "",
           "title": {
            "standoff": 15
           },
           "zerolinecolor": "white",
           "zerolinewidth": 2
          }
         }
        },
        "title": {
         "text": "NBA Players Clustering"
        },
        "width": 800,
        "xaxis": {
         "anchor": "y",
         "domain": [
          0,
          1
         ],
         "title": {
          "text": "PCA Component 1"
         }
        },
        "yaxis": {
         "anchor": "x",
         "domain": [
          0,
          1
         ],
         "title": {
          "text": "PCA Component 2"
         }
        }
       }
      }
     },
     "metadata": {},
     "output_type": "display_data"
    }
   ],
   "source": [
    "preprocessor = ColumnTransformer(\n",
    "    transformers=[\n",
    "        ('num', StandardScaler(), X.columns),\n",
    "        ('cat', OneHotEncoder(), ['POS'])\n",
    "    ]\n",
    ")\n",
    "\n",
    "X_processed = preprocessor.fit_transform(X)\n",
    "\n",
    "kmeans = KMeans(n_clusters=5, random_state=42)\n",
    "stat_df['cluster'] = kmeans.fit_predict(X_processed)\n",
    "\n",
    "# Optionally, reduce dimensions for visualization\n",
    "pca = PCA(n_components=2)\n",
    "X_pca = pca.fit_transform(X_processed)\n",
    "\n",
    "# Add the PCA components to the DataFrame for plotting\n",
    "stat_df['PCA1'] = X_pca[:, 0]\n",
    "stat_df['PCA2'] = X_pca[:, 1]\n",
    "\n",
    "fig = px.scatter(\n",
    "    stat_df,\n",
    "    x='PCA1',\n",
    "    y='PCA2',\n",
    "    color='cluster',\n",
    "    hover_name=stat_df['NAME'],  # Assuming player names are the index, otherwise use df['player_name']\n",
    "    title='NBA Players Clustering',\n",
    "    labels={'PCA1': 'PCA Component 1', 'PCA2': 'PCA Component 2'},\n",
    ")\n",
    "\n",
    "fig.update_layout(\n",
    "    width=800,  # Width of the plot in pixels\n",
    "    height=600  # Height of the plot in pixels\n",
    ")\n",
    "# Show the plot\n",
    "fig.show()\n"
   ]
  },
  {
   "cell_type": "code",
   "execution_count": 31,
   "metadata": {},
   "outputs": [
    {
     "data": {
      "application/vnd.plotly.v1+json": {
       "config": {
        "plotlyServerURL": "https://plot.ly"
       },
       "data": [
        {
         "hovertemplate": "<b>%{hovertext}</b><br><br>PCA Component 1=%{x}<br>PCA Component 2=%{y}<br>point_size=%{marker.size}<br>cluster=%{marker.color}<extra></extra>",
         "hovertext": [
          "Joel Embiid",
          "Jalen Brunson",
          "Damian Lillard",
          "Shai Gilgeous-Alexander",
          "Tyrese Maxey",
          "Donovan Mitchell",
          "Luka Doncic",
          "Nikola Jokic",
          "LeBron James",
          "Anthony Davis",
          "Anthony Edwards",
          "Devin Booker",
          "Paolo Banchero",
          "Kevin Durant",
          "Jayson Tatum",
          "Jaylen Brown",
          "Khris Middleton",
          "Kyrie Irving",
          "Bam Adebayo",
          "Pascal Siakam",
          "James Harden",
          "Jamal Murray",
          "Paul George",
          "Karl-Anthony Towns",
          "Franz Wagner",
          "Tyrese Haliburton",
          "Jalen Williams",
          "CJ McCollum",
          "Donte DiVincenzo",
          "Brook Lopez",
          "Derrick White",
          "Myles Turner",
          "Jarrett Allen",
          "Tyler Herro",
          "Austin Reaves",
          "Bradley Beal",
          "Bobby Portis",
          "Ivica Zubac",
          "Evan Mobley",
          "Michael Porter Jr.",
          "Darius Garland",
          "Chet Holmgren",
          "OG Anunoby",
          "Andrew Nembhard",
          "Alec Burks",
          "Jalen Suggs",
          "Jonas Valanciunas",
          "Josh Hart",
          "Aaron Gordon",
          "Brandon Ingram",
          "D'Angelo Russell",
          "P.J. Washington",
          "Kristaps Porzingis",
          "Jrue Holiday",
          "Kelly Oubre Jr.",
          "Herbert Jones",
          "Norman Powell",
          "Jaime Jaquez Jr.",
          "Jaden McDaniels",
          "Rudy Gobert",
          "Kawhi Leonard",
          "T.J. McConnell",
          "Mike Conley",
          "Caleb Martin",
          "Trey Murphy III",
          "Naz Reid",
          "Miles McBride",
          "Obi Toppin",
          "Luguentz Dort",
          "Aaron Nesmith",
          "Caris LeVert",
          "Al Horford",
          "Max Strus",
          "Nikola Jovic",
          "Derrick Jones Jr.",
          "Terance Mann",
          "Daniel Gafford",
          "Tobias Harris",
          "Naji Marshall",
          "Malik Beasley",
          "Josh Giddey",
          "Isaiah Hartenstein",
          "Patrick Beverley",
          "Kentavious Caldwell-Pope",
          "Eric Gordon",
          "Dereck Lively II",
          "Delon Wright",
          "Jusuf Nurkic",
          "Rui Hachimura",
          "Wendell Carter Jr.",
          "Taurean Prince",
          "Nickeil Alexander-Walker",
          "Kyle Lowry",
          "Markelle Fultz",
          "Isaiah Joe",
          "Payton Pritchard",
          "Russell Westbrook",
          "Nicolas Batum",
          "Larry Nance Jr.",
          "Jonathan Isaac",
          "Moritz Wagner",
          "Aaron Wiggins",
          "Marcus Morris Sr.",
          "Bojan Bogdanovic",
          "Patty Mills",
          "Drew Eubanks",
          "Cameron Payne",
          "P.J. Tucker",
          "Isaac Okoro",
          "Buddy Hield",
          "Precious Achiuwa",
          "Ben Sheppard",
          "Cole Anthony",
          "Christian Braun",
          "Royce O'Neale",
          "Haywood Highsmith",
          "Sam Hauser",
          "Josh Green",
          "Pat Connaughton",
          "Jaylin Williams",
          "Kyle Anderson",
          "Gary Harris",
          "Cason Wallace",
          "Tim Hardaway Jr.",
          "Isaiah Jackson",
          "Maxi Kleber",
          "Dean Wade",
          "Danilo Gallinari",
          "Luke Kornet",
          "Grayson Allen",
          "Sam Merrill",
          "Mason Plumlee",
          "Spencer Dinwiddie",
          "Justin Holiday",
          "Georges Niang",
          "Mitchell Robinson",
          "Amir Coffey",
          "AJ Green",
          "Duncan Robinson",
          "Andre Jackson Jr.",
          "Jae Crowder",
          "Jose Alvarado",
          "Gabe Vincent"
         ],
         "legendgroup": "",
         "marker": {
          "color": [
           2,
           2,
           2,
           2,
           2,
           2,
           2,
           2,
           2,
           2,
           2,
           2,
           2,
           2,
           2,
           2,
           2,
           2,
           3,
           2,
           2,
           2,
           3,
           0,
           0,
           2,
           2,
           3,
           0,
           0,
           0,
           0,
           0,
           3,
           3,
           3,
           3,
           3,
           0,
           0,
           3,
           0,
           0,
           0,
           4,
           3,
           3,
           0,
           0,
           3,
           3,
           0,
           0,
           0,
           3,
           3,
           4,
           3,
           0,
           0,
           3,
           3,
           3,
           4,
           3,
           0,
           4,
           0,
           4,
           0,
           3,
           0,
           4,
           4,
           0,
           4,
           0,
           4,
           4,
           4,
           4,
           0,
           3,
           4,
           1,
           0,
           4,
           3,
           1,
           4,
           4,
           4,
           4,
           4,
           4,
           4,
           1,
           4,
           4,
           4,
           4,
           4,
           4,
           1,
           1,
           4,
           4,
           4,
           1,
           4,
           4,
           4,
           1,
           4,
           1,
           1,
           4,
           4,
           4,
           4,
           4,
           1,
           4,
           1,
           4,
           4,
           1,
           4,
           4,
           1,
           4,
           1,
           1,
           1,
           1,
           4,
           1,
           4,
           1,
           4,
           1,
           1,
           1
          ],
          "coloraxis": "coloraxis",
          "size": [
           1,
           1,
           1,
           1,
           1,
           1,
           1,
           1,
           15,
           1,
           1,
           1,
           1,
           1,
           1,
           1,
           1,
           1,
           1,
           1,
           1,
           1,
           1,
           1,
           1,
           1,
           1,
           1,
           1,
           1,
           1,
           1,
           1,
           1,
           1,
           1,
           1,
           1,
           1,
           1,
           1,
           1,
           1,
           1,
           1,
           1,
           1,
           1,
           1,
           1,
           1,
           1,
           1,
           1,
           1,
           1,
           1,
           1,
           1,
           1,
           1,
           1,
           1,
           1,
           1,
           1,
           1,
           1,
           1,
           1,
           1,
           1,
           1,
           1,
           1,
           1,
           1,
           1,
           1,
           1,
           1,
           1,
           1,
           1,
           1,
           1,
           1,
           1,
           1,
           1,
           1,
           1,
           1,
           1,
           1,
           1,
           1,
           1,
           1,
           1,
           1,
           1,
           1,
           1,
           1,
           1,
           1,
           1,
           1,
           1,
           1,
           1,
           1,
           1,
           1,
           1,
           1,
           1,
           1,
           1,
           1,
           1,
           1,
           1,
           1,
           1,
           1,
           1,
           1,
           1,
           1,
           1,
           1,
           1,
           1,
           1,
           1,
           1,
           1,
           1,
           1,
           1,
           1
          ],
          "sizemode": "area",
          "sizeref": 0.0375,
          "symbol": "circle"
         },
         "mode": "markers",
         "name": "",
         "orientation": "v",
         "showlegend": false,
         "type": "scatter",
         "x": [
          7.590523405411176,
          6.986427699275446,
          4.252863074155571,
          6.662424965646578,
          4.900213354725958,
          5.599713392947888,
          9.558502995849663,
          8.43074180280323,
          6.28484207812416,
          5.593475086735278,
          7.166299491800787,
          4.354328361147086,
          5.295757170452184,
          3.733474606227632,
          6.884645061777762,
          5.330622529679108,
          3.940026116155773,
          4.771293757088717,
          2.901178877463639,
          4.034709010823228,
          3.7269004714736975,
          3.3679489554111166,
          2.7916193494257584,
          3.4455239207258233,
          2.4112871346396627,
          4.404071521178098,
          3.2320337861699664,
          2.3987349687883386,
          1.9250539875745627,
          1.0425330148786265,
          2.805483293311766,
          2.882845635087892,
          2.547654163535001,
          1.37378187772781,
          1.1859032720744611,
          1.1509996387462404,
          1.0448675806337122,
          1.1006061645654863,
          2.684584303596955,
          1.2742303660644312,
          2.0780579948779243,
          2.1532387589914967,
          0.5570684688217903,
          1.887620262115876,
          -0.051801374984327124,
          1.4914948285667557,
          1.3560594210502417,
          3.194617014589444,
          2.1513045942279376,
          0.4300903894049427,
          0.046848172929371594,
          1.6120714297112237,
          0.4852095968469353,
          2.111414319462934,
          0.05935684302401076,
          0.4624825870926913,
          -1.3150502139882025,
          -0.2742410777435784,
          0.3511088979732481,
          1.7425298381972396,
          0.19136674841807938,
          1.296722620555186,
          1.2327612012716822,
          -1.0851348610147231,
          -0.2930130301961044,
          -0.44661320700286583,
          -0.7313794573545382,
          0.3209115390653638,
          -0.477787742644367,
          0.28746547425377955,
          -0.4686393670411025,
          0.06742858605973638,
          -0.31923257537058836,
          -0.3052022410796716,
          -0.3725131132322951,
          -1.4655146555866696,
          -0.11823552348589744,
          -1.2887817630456797,
          -1.8028881380363138,
          -2.1093750170319345,
          -0.7589819589250676,
          0.42228023750295485,
          -0.5288610173693833,
          -0.9293564268957525,
          -2.2526122885060835,
          0.4507607599410368,
          -1.0919825251420467,
          -0.11832060401483006,
          -2.861163549530424,
          -1.403627124544115,
          -2.6901772899234033,
          -1.5099257318532449,
          -1.2606540885671114,
          -2.3529999750747366,
          -2.5665811324839063,
          -1.6930388392691043,
          -1.9096491449470765,
          -2.004762626579627,
          -1.1061697969474371,
          -2.080262697966301,
          -2.578330146022591,
          -1.6760201668349868,
          -2.9242637562244758,
          -3.1229891616541665,
          -3.67377683716203,
          -3.7747272002374066,
          -3.0174743998966216,
          -3.150016789058338,
          -2.7804511807686105,
          -3.154213618026478,
          -2.8235328373159816,
          -2.104327313145871,
          -3.0855060060760615,
          -2.8891079152049284,
          -3.6104801184015973,
          -3.2280302302197144,
          -2.7144350129006205,
          -2.160579334450249,
          -2.211651705791179,
          -2.093534916670217,
          -2.2209198389733813,
          -3.683075807966567,
          -3.271864399350872,
          -4.040460557034691,
          -2.698260457395383,
          -3.295312709533866,
          -4.038467822745543,
          -3.520100555316496,
          -2.500415570657052,
          -3.5981968973085046,
          -4.020581353237218,
          -4.047437499422914,
          -3.9410107399296095,
          -4.679744817999861,
          -4.579142589405218,
          -2.8359544050793013,
          -4.934235530849782,
          -4.138127752152932,
          -4.310366273223806,
          -3.1336648741279083,
          -4.901198642519112,
          -4.756707167738095,
          -5.545771743443383
         ],
         "xaxis": "x",
         "y": [
          1.9384357414742353,
          1.6841670651923069,
          0.4324145246991647,
          0.7818039959373354,
          0.39447044672746756,
          1.1604765188170734,
          1.8236723250051532,
          0.6018134770062965,
          0.9798648521626586,
          -0.7551068346359976,
          0.8014173055881607,
          0.4564568987457249,
          2.1773746953105726,
          -0.7558030750775777,
          1.0458499394016219,
          -0.2712271807511747,
          0.48013033107713216,
          0.24571219861344987,
          1.2014060176335526,
          -0.7802519183727534,
          0.0019433679632226055,
          2.1762680066005253,
          1.2792598640038224,
          -0.2472144574626899,
          0.5160608488027708,
          -1.1617987856971628,
          0.8247690454571092,
          3.2917640966684316,
          -0.30674324477493453,
          -1.978926035684633,
          -2.0150885458794607,
          -1.5867155010964455,
          -1.7887210871578318,
          1.9253440898759462,
          -0.4637604325036614,
          1.5518379242313396,
          0.8969037465932898,
          -0.5470387554284284,
          -0.6397571024518095,
          -0.9133494102098465,
          1.2604082835721446,
          -0.5778105513759413,
          -1.0128471335203302,
          -2.495946446251522,
          -3.329516921679376,
          1.5191795423526333,
          1.1250137969777672,
          0.6069343117615994,
          -2.179207901824479,
          2.829401723588745,
          1.720303788588826,
          -0.870987742913953,
          -1.2844332379852004,
          -1.8586600415217873,
          -0.3554899819947833,
          1.424635229491428,
          -0.0350646646535643,
          2.221586464344401,
          -2.0112644985231545,
          -1.2562933443434132,
          2.508578675025665,
          0.4020843553333519,
          0.08412432359080138,
          -1.6128123527906473,
          1.856001860591062,
          -1.2261184783661356,
          -0.8118205142595868,
          -2.395928998407162,
          0.3652260776246978,
          -0.9902371069082466,
          1.1044652359332545,
          -2.875662626700122,
          -0.3404701511863903,
          -0.5464970239530185,
          -1.7223339386403171,
          -1.1380010696114897,
          -2.812461832476349,
          -0.5643759525116779,
          -1.127762796933374,
          -1.9069591354149802,
          -0.28909179349530956,
          -2.5096430256201745,
          0.22587507289297593,
          -0.1501765884120359,
          1.4930266047885272,
          -2.5702433900068273,
          -4.9683587816538815,
          1.3968883971259165,
          0.34740128414854204,
          0.149613816212512,
          -1.3454783582088845,
          -0.129147682219939,
          0.029053692335280528,
          -0.18328565570671876,
          -1.2248451971108165,
          -1.360029854135662,
          4.620058393240292,
          -1.2924040464211064,
          -1.373490787086477,
          -1.077826257384408,
          0.9207329706849442,
          -1.0571827945011432,
          -0.9592781074706771,
          1.552414520210777,
          0.6028918063441111,
          -1.1156311109794739,
          0.08859143528152508,
          -4.179992743615817,
          1.4085347717005763,
          -1.1901594328494711,
          -0.08207281752273213,
          -1.6643944186211395,
          2.7496439283275134,
          -0.6539815719270584,
          1.163853340414584,
          1.280151271279987,
          -2.2893838035954097,
          -1.6073758725133878,
          -0.37153601992332536,
          -2.8090779785913265,
          -0.414468718903571,
          1.6431447710677847,
          -0.24793591670581797,
          0.77217465539327,
          -1.4294109174570795,
          -1.038195019447943,
          1.7511619073563864,
          -0.9359184321335101,
          -4.104393886810059,
          3.3356177473719106,
          -0.8185205504112623,
          1.2487450157684992,
          0.5570170109307411,
          0.9965732453372477,
          3.9482053611652126,
          0.16344332126853994,
          2.53354629160773,
          -0.472477468999443,
          2.4023100190137248,
          -0.34650720288280384,
          1.8463831021408599,
          6.610955875639718,
          4.276812393841668
         ],
         "yaxis": "y"
        }
       ],
       "layout": {
        "coloraxis": {
         "colorbar": {
          "title": {
           "text": "cluster"
          }
         },
         "colorscale": [
          [
           0,
           "#0d0887"
          ],
          [
           0.1111111111111111,
           "#46039f"
          ],
          [
           0.2222222222222222,
           "#7201a8"
          ],
          [
           0.3333333333333333,
           "#9c179e"
          ],
          [
           0.4444444444444444,
           "#bd3786"
          ],
          [
           0.5555555555555556,
           "#d8576b"
          ],
          [
           0.6666666666666666,
           "#ed7953"
          ],
          [
           0.7777777777777778,
           "#fb9f3a"
          ],
          [
           0.8888888888888888,
           "#fdca26"
          ],
          [
           1,
           "#f0f921"
          ]
         ]
        },
        "height": 600,
        "legend": {
         "itemsizing": "constant",
         "tracegroupgap": 0
        },
        "template": {
         "data": {
          "bar": [
           {
            "error_x": {
             "color": "#2a3f5f"
            },
            "error_y": {
             "color": "#2a3f5f"
            },
            "marker": {
             "line": {
              "color": "#E5ECF6",
              "width": 0.5
             },
             "pattern": {
              "fillmode": "overlay",
              "size": 10,
              "solidity": 0.2
             }
            },
            "type": "bar"
           }
          ],
          "barpolar": [
           {
            "marker": {
             "line": {
              "color": "#E5ECF6",
              "width": 0.5
             },
             "pattern": {
              "fillmode": "overlay",
              "size": 10,
              "solidity": 0.2
             }
            },
            "type": "barpolar"
           }
          ],
          "carpet": [
           {
            "aaxis": {
             "endlinecolor": "#2a3f5f",
             "gridcolor": "white",
             "linecolor": "white",
             "minorgridcolor": "white",
             "startlinecolor": "#2a3f5f"
            },
            "baxis": {
             "endlinecolor": "#2a3f5f",
             "gridcolor": "white",
             "linecolor": "white",
             "minorgridcolor": "white",
             "startlinecolor": "#2a3f5f"
            },
            "type": "carpet"
           }
          ],
          "choropleth": [
           {
            "colorbar": {
             "outlinewidth": 0,
             "ticks": ""
            },
            "type": "choropleth"
           }
          ],
          "contour": [
           {
            "colorbar": {
             "outlinewidth": 0,
             "ticks": ""
            },
            "colorscale": [
             [
              0,
              "#0d0887"
             ],
             [
              0.1111111111111111,
              "#46039f"
             ],
             [
              0.2222222222222222,
              "#7201a8"
             ],
             [
              0.3333333333333333,
              "#9c179e"
             ],
             [
              0.4444444444444444,
              "#bd3786"
             ],
             [
              0.5555555555555556,
              "#d8576b"
             ],
             [
              0.6666666666666666,
              "#ed7953"
             ],
             [
              0.7777777777777778,
              "#fb9f3a"
             ],
             [
              0.8888888888888888,
              "#fdca26"
             ],
             [
              1,
              "#f0f921"
             ]
            ],
            "type": "contour"
           }
          ],
          "contourcarpet": [
           {
            "colorbar": {
             "outlinewidth": 0,
             "ticks": ""
            },
            "type": "contourcarpet"
           }
          ],
          "heatmap": [
           {
            "colorbar": {
             "outlinewidth": 0,
             "ticks": ""
            },
            "colorscale": [
             [
              0,
              "#0d0887"
             ],
             [
              0.1111111111111111,
              "#46039f"
             ],
             [
              0.2222222222222222,
              "#7201a8"
             ],
             [
              0.3333333333333333,
              "#9c179e"
             ],
             [
              0.4444444444444444,
              "#bd3786"
             ],
             [
              0.5555555555555556,
              "#d8576b"
             ],
             [
              0.6666666666666666,
              "#ed7953"
             ],
             [
              0.7777777777777778,
              "#fb9f3a"
             ],
             [
              0.8888888888888888,
              "#fdca26"
             ],
             [
              1,
              "#f0f921"
             ]
            ],
            "type": "heatmap"
           }
          ],
          "heatmapgl": [
           {
            "colorbar": {
             "outlinewidth": 0,
             "ticks": ""
            },
            "colorscale": [
             [
              0,
              "#0d0887"
             ],
             [
              0.1111111111111111,
              "#46039f"
             ],
             [
              0.2222222222222222,
              "#7201a8"
             ],
             [
              0.3333333333333333,
              "#9c179e"
             ],
             [
              0.4444444444444444,
              "#bd3786"
             ],
             [
              0.5555555555555556,
              "#d8576b"
             ],
             [
              0.6666666666666666,
              "#ed7953"
             ],
             [
              0.7777777777777778,
              "#fb9f3a"
             ],
             [
              0.8888888888888888,
              "#fdca26"
             ],
             [
              1,
              "#f0f921"
             ]
            ],
            "type": "heatmapgl"
           }
          ],
          "histogram": [
           {
            "marker": {
             "pattern": {
              "fillmode": "overlay",
              "size": 10,
              "solidity": 0.2
             }
            },
            "type": "histogram"
           }
          ],
          "histogram2d": [
           {
            "colorbar": {
             "outlinewidth": 0,
             "ticks": ""
            },
            "colorscale": [
             [
              0,
              "#0d0887"
             ],
             [
              0.1111111111111111,
              "#46039f"
             ],
             [
              0.2222222222222222,
              "#7201a8"
             ],
             [
              0.3333333333333333,
              "#9c179e"
             ],
             [
              0.4444444444444444,
              "#bd3786"
             ],
             [
              0.5555555555555556,
              "#d8576b"
             ],
             [
              0.6666666666666666,
              "#ed7953"
             ],
             [
              0.7777777777777778,
              "#fb9f3a"
             ],
             [
              0.8888888888888888,
              "#fdca26"
             ],
             [
              1,
              "#f0f921"
             ]
            ],
            "type": "histogram2d"
           }
          ],
          "histogram2dcontour": [
           {
            "colorbar": {
             "outlinewidth": 0,
             "ticks": ""
            },
            "colorscale": [
             [
              0,
              "#0d0887"
             ],
             [
              0.1111111111111111,
              "#46039f"
             ],
             [
              0.2222222222222222,
              "#7201a8"
             ],
             [
              0.3333333333333333,
              "#9c179e"
             ],
             [
              0.4444444444444444,
              "#bd3786"
             ],
             [
              0.5555555555555556,
              "#d8576b"
             ],
             [
              0.6666666666666666,
              "#ed7953"
             ],
             [
              0.7777777777777778,
              "#fb9f3a"
             ],
             [
              0.8888888888888888,
              "#fdca26"
             ],
             [
              1,
              "#f0f921"
             ]
            ],
            "type": "histogram2dcontour"
           }
          ],
          "mesh3d": [
           {
            "colorbar": {
             "outlinewidth": 0,
             "ticks": ""
            },
            "type": "mesh3d"
           }
          ],
          "parcoords": [
           {
            "line": {
             "colorbar": {
              "outlinewidth": 0,
              "ticks": ""
             }
            },
            "type": "parcoords"
           }
          ],
          "pie": [
           {
            "automargin": true,
            "type": "pie"
           }
          ],
          "scatter": [
           {
            "fillpattern": {
             "fillmode": "overlay",
             "size": 10,
             "solidity": 0.2
            },
            "type": "scatter"
           }
          ],
          "scatter3d": [
           {
            "line": {
             "colorbar": {
              "outlinewidth": 0,
              "ticks": ""
             }
            },
            "marker": {
             "colorbar": {
              "outlinewidth": 0,
              "ticks": ""
             }
            },
            "type": "scatter3d"
           }
          ],
          "scattercarpet": [
           {
            "marker": {
             "colorbar": {
              "outlinewidth": 0,
              "ticks": ""
             }
            },
            "type": "scattercarpet"
           }
          ],
          "scattergeo": [
           {
            "marker": {
             "colorbar": {
              "outlinewidth": 0,
              "ticks": ""
             }
            },
            "type": "scattergeo"
           }
          ],
          "scattergl": [
           {
            "marker": {
             "colorbar": {
              "outlinewidth": 0,
              "ticks": ""
             }
            },
            "type": "scattergl"
           }
          ],
          "scattermapbox": [
           {
            "marker": {
             "colorbar": {
              "outlinewidth": 0,
              "ticks": ""
             }
            },
            "type": "scattermapbox"
           }
          ],
          "scatterpolar": [
           {
            "marker": {
             "colorbar": {
              "outlinewidth": 0,
              "ticks": ""
             }
            },
            "type": "scatterpolar"
           }
          ],
          "scatterpolargl": [
           {
            "marker": {
             "colorbar": {
              "outlinewidth": 0,
              "ticks": ""
             }
            },
            "type": "scatterpolargl"
           }
          ],
          "scatterternary": [
           {
            "marker": {
             "colorbar": {
              "outlinewidth": 0,
              "ticks": ""
             }
            },
            "type": "scatterternary"
           }
          ],
          "surface": [
           {
            "colorbar": {
             "outlinewidth": 0,
             "ticks": ""
            },
            "colorscale": [
             [
              0,
              "#0d0887"
             ],
             [
              0.1111111111111111,
              "#46039f"
             ],
             [
              0.2222222222222222,
              "#7201a8"
             ],
             [
              0.3333333333333333,
              "#9c179e"
             ],
             [
              0.4444444444444444,
              "#bd3786"
             ],
             [
              0.5555555555555556,
              "#d8576b"
             ],
             [
              0.6666666666666666,
              "#ed7953"
             ],
             [
              0.7777777777777778,
              "#fb9f3a"
             ],
             [
              0.8888888888888888,
              "#fdca26"
             ],
             [
              1,
              "#f0f921"
             ]
            ],
            "type": "surface"
           }
          ],
          "table": [
           {
            "cells": {
             "fill": {
              "color": "#EBF0F8"
             },
             "line": {
              "color": "white"
             }
            },
            "header": {
             "fill": {
              "color": "#C8D4E3"
             },
             "line": {
              "color": "white"
             }
            },
            "type": "table"
           }
          ]
         },
         "layout": {
          "annotationdefaults": {
           "arrowcolor": "#2a3f5f",
           "arrowhead": 0,
           "arrowwidth": 1
          },
          "autotypenumbers": "strict",
          "coloraxis": {
           "colorbar": {
            "outlinewidth": 0,
            "ticks": ""
           }
          },
          "colorscale": {
           "diverging": [
            [
             0,
             "#8e0152"
            ],
            [
             0.1,
             "#c51b7d"
            ],
            [
             0.2,
             "#de77ae"
            ],
            [
             0.3,
             "#f1b6da"
            ],
            [
             0.4,
             "#fde0ef"
            ],
            [
             0.5,
             "#f7f7f7"
            ],
            [
             0.6,
             "#e6f5d0"
            ],
            [
             0.7,
             "#b8e186"
            ],
            [
             0.8,
             "#7fbc41"
            ],
            [
             0.9,
             "#4d9221"
            ],
            [
             1,
             "#276419"
            ]
           ],
           "sequential": [
            [
             0,
             "#0d0887"
            ],
            [
             0.1111111111111111,
             "#46039f"
            ],
            [
             0.2222222222222222,
             "#7201a8"
            ],
            [
             0.3333333333333333,
             "#9c179e"
            ],
            [
             0.4444444444444444,
             "#bd3786"
            ],
            [
             0.5555555555555556,
             "#d8576b"
            ],
            [
             0.6666666666666666,
             "#ed7953"
            ],
            [
             0.7777777777777778,
             "#fb9f3a"
            ],
            [
             0.8888888888888888,
             "#fdca26"
            ],
            [
             1,
             "#f0f921"
            ]
           ],
           "sequentialminus": [
            [
             0,
             "#0d0887"
            ],
            [
             0.1111111111111111,
             "#46039f"
            ],
            [
             0.2222222222222222,
             "#7201a8"
            ],
            [
             0.3333333333333333,
             "#9c179e"
            ],
            [
             0.4444444444444444,
             "#bd3786"
            ],
            [
             0.5555555555555556,
             "#d8576b"
            ],
            [
             0.6666666666666666,
             "#ed7953"
            ],
            [
             0.7777777777777778,
             "#fb9f3a"
            ],
            [
             0.8888888888888888,
             "#fdca26"
            ],
            [
             1,
             "#f0f921"
            ]
           ]
          },
          "colorway": [
           "#636efa",
           "#EF553B",
           "#00cc96",
           "#ab63fa",
           "#FFA15A",
           "#19d3f3",
           "#FF6692",
           "#B6E880",
           "#FF97FF",
           "#FECB52"
          ],
          "font": {
           "color": "#2a3f5f"
          },
          "geo": {
           "bgcolor": "white",
           "lakecolor": "white",
           "landcolor": "#E5ECF6",
           "showlakes": true,
           "showland": true,
           "subunitcolor": "white"
          },
          "hoverlabel": {
           "align": "left"
          },
          "hovermode": "closest",
          "mapbox": {
           "style": "light"
          },
          "paper_bgcolor": "white",
          "plot_bgcolor": "#E5ECF6",
          "polar": {
           "angularaxis": {
            "gridcolor": "white",
            "linecolor": "white",
            "ticks": ""
           },
           "bgcolor": "#E5ECF6",
           "radialaxis": {
            "gridcolor": "white",
            "linecolor": "white",
            "ticks": ""
           }
          },
          "scene": {
           "xaxis": {
            "backgroundcolor": "#E5ECF6",
            "gridcolor": "white",
            "gridwidth": 2,
            "linecolor": "white",
            "showbackground": true,
            "ticks": "",
            "zerolinecolor": "white"
           },
           "yaxis": {
            "backgroundcolor": "#E5ECF6",
            "gridcolor": "white",
            "gridwidth": 2,
            "linecolor": "white",
            "showbackground": true,
            "ticks": "",
            "zerolinecolor": "white"
           },
           "zaxis": {
            "backgroundcolor": "#E5ECF6",
            "gridcolor": "white",
            "gridwidth": 2,
            "linecolor": "white",
            "showbackground": true,
            "ticks": "",
            "zerolinecolor": "white"
           }
          },
          "shapedefaults": {
           "line": {
            "color": "#2a3f5f"
           }
          },
          "ternary": {
           "aaxis": {
            "gridcolor": "white",
            "linecolor": "white",
            "ticks": ""
           },
           "baxis": {
            "gridcolor": "white",
            "linecolor": "white",
            "ticks": ""
           },
           "bgcolor": "#E5ECF6",
           "caxis": {
            "gridcolor": "white",
            "linecolor": "white",
            "ticks": ""
           }
          },
          "title": {
           "x": 0.05
          },
          "xaxis": {
           "automargin": true,
           "gridcolor": "white",
           "linecolor": "white",
           "ticks": "",
           "title": {
            "standoff": 15
           },
           "zerolinecolor": "white",
           "zerolinewidth": 2
          },
          "yaxis": {
           "automargin": true,
           "gridcolor": "white",
           "linecolor": "white",
           "ticks": "",
           "title": {
            "standoff": 15
           },
           "zerolinecolor": "white",
           "zerolinewidth": 2
          }
         }
        },
        "title": {
         "text": "NBA Players Clustering (Highlight: LeBron James)"
        },
        "width": 800,
        "xaxis": {
         "anchor": "y",
         "domain": [
          0,
          1
         ],
         "title": {
          "text": "PCA Component 1"
         }
        },
        "yaxis": {
         "anchor": "x",
         "domain": [
          0,
          1
         ],
         "title": {
          "text": "PCA Component 2"
         }
        }
       }
      }
     },
     "metadata": {},
     "output_type": "display_data"
    },
    {
     "name": "stdout",
     "output_type": "stream",
     "text": [
      "0      1\n",
      "1      1\n",
      "2      1\n",
      "3      1\n",
      "4      1\n",
      "      ..\n",
      "147    1\n",
      "149    1\n",
      "150    1\n",
      "159    1\n",
      "167    1\n",
      "Name: point_size, Length: 143, dtype: int64\n"
     ]
    }
   ],
   "source": [
    "import plotly.express as px\n",
    "\n",
    "def plot_player_highlight(df, player_name):\n",
    "    \"\"\"\n",
    "    Generates an interactive scatter plot with a specific player highlighted.\n",
    "    \n",
    "    Parameters:\n",
    "    df (pd.DataFrame): DataFrame containing the player data, including PCA components and cluster labels.\n",
    "    player_name (str): The name of the player to highlight.\n",
    "    \n",
    "    Returns:\n",
    "    plotly.graph_objects.Figure: The generated plot with the highlighted player.\n",
    "    \"\"\"\n",
    "    \n",
    "    # Check if the player_name exists in the DataFrame\n",
    "    if not df['NAME'].str.contains(player_name).any():\n",
    "        raise ValueError(f\"Player '{player_name}' not found in the DataFrame index.\")\n",
    "    \n",
    "    # Create a column to determine the size of each point (increase size for the highlighted player)\n",
    "    df['point_size'] = df['NAME'].map(lambda x: 15 if x == player_name else 1)\n",
    "    \n",
    "    # Create a column to determine the color of the point (distinct color for the highlighted player)\n",
    "    df['highlight_color'] = df['NAME'].map(lambda x: 'red' if x == player_name else 'blue')\n",
    "\n",
    "    # Plot using Plotly\n",
    "    fig = px.scatter(\n",
    "        df,\n",
    "        x='PCA1',\n",
    "        y='PCA2',\n",
    "        color='cluster',\n",
    "        hover_name=df['NAME'],  # Assuming player names are the index, otherwise use df['player_name']\n",
    "        size='point_size',  # Size of points, highlight player will be larger\n",
    "        color_discrete_sequence=df['highlight_color'],  # Custom colors\n",
    "        title=f'NBA Players Clustering (Highlight: {player_name})',\n",
    "        labels={'PCA1': 'PCA Component 1', 'PCA2': 'PCA Component 2'},\n",
    "    )\n",
    "\n",
    "    fig.update_layout(\n",
    "    width=800,  # Width of the plot in pixels\n",
    "    height=600  # Height of the plot in pixels\n",
    "    )\n",
    "\n",
    "    # Show the plot\n",
    "    fig.show()\n",
    "    print(stat_df['point_size'])\n",
    "\n",
    "# Example usage\n",
    "# plot_player_highlight(df, 'LeBron James')\n",
    "\n",
    "plot_player_highlight(stat_df, 'LeBron James')"
   ]
  },
  {
   "cell_type": "markdown",
   "metadata": {},
   "source": [
    "### Regular Season Stats"
   ]
  },
  {
   "cell_type": "code",
   "execution_count": 32,
   "metadata": {},
   "outputs": [
    {
     "data": {
      "text/html": [
       "<div>\n",
       "<style scoped>\n",
       "    .dataframe tbody tr th:only-of-type {\n",
       "        vertical-align: middle;\n",
       "    }\n",
       "\n",
       "    .dataframe tbody tr th {\n",
       "        vertical-align: top;\n",
       "    }\n",
       "\n",
       "    .dataframe thead th {\n",
       "        text-align: right;\n",
       "    }\n",
       "</style>\n",
       "<table border=\"1\" class=\"dataframe\">\n",
       "  <thead>\n",
       "    <tr style=\"text-align: right;\">\n",
       "      <th></th>\n",
       "      <th>Player</th>\n",
       "      <th>Pos</th>\n",
       "      <th>Age</th>\n",
       "      <th>Tm</th>\n",
       "      <th>G</th>\n",
       "      <th>GS</th>\n",
       "      <th>MP</th>\n",
       "      <th>FG</th>\n",
       "      <th>FGA</th>\n",
       "      <th>FG%</th>\n",
       "      <th>...</th>\n",
       "      <th>FT%</th>\n",
       "      <th>ORB</th>\n",
       "      <th>DRB</th>\n",
       "      <th>TRB</th>\n",
       "      <th>AST</th>\n",
       "      <th>STL</th>\n",
       "      <th>BLK</th>\n",
       "      <th>TOV</th>\n",
       "      <th>PF</th>\n",
       "      <th>PTS</th>\n",
       "    </tr>\n",
       "  </thead>\n",
       "  <tbody>\n",
       "    <tr>\n",
       "      <th>0</th>\n",
       "      <td>Bam Adebayo</td>\n",
       "      <td>C</td>\n",
       "      <td>26</td>\n",
       "      <td>MIA</td>\n",
       "      <td>23</td>\n",
       "      <td>23</td>\n",
       "      <td>34.1</td>\n",
       "      <td>8.0</td>\n",
       "      <td>15.7</td>\n",
       "      <td>0.506</td>\n",
       "      <td>...</td>\n",
       "      <td>0.777</td>\n",
       "      <td>2.1</td>\n",
       "      <td>8.3</td>\n",
       "      <td>10.4</td>\n",
       "      <td>4.0</td>\n",
       "      <td>1.1</td>\n",
       "      <td>1.0</td>\n",
       "      <td>2.7</td>\n",
       "      <td>2.4</td>\n",
       "      <td>22.0</td>\n",
       "    </tr>\n",
       "    <tr>\n",
       "      <th>1</th>\n",
       "      <td>Ochai Agbaji</td>\n",
       "      <td>SG</td>\n",
       "      <td>23</td>\n",
       "      <td>UTA</td>\n",
       "      <td>34</td>\n",
       "      <td>10</td>\n",
       "      <td>21.1</td>\n",
       "      <td>2.6</td>\n",
       "      <td>5.7</td>\n",
       "      <td>0.451</td>\n",
       "      <td>...</td>\n",
       "      <td>0.714</td>\n",
       "      <td>0.8</td>\n",
       "      <td>1.7</td>\n",
       "      <td>2.5</td>\n",
       "      <td>1.0</td>\n",
       "      <td>0.6</td>\n",
       "      <td>0.5</td>\n",
       "      <td>0.7</td>\n",
       "      <td>1.5</td>\n",
       "      <td>6.6</td>\n",
       "    </tr>\n",
       "    <tr>\n",
       "      <th>2</th>\n",
       "      <td>Santi Aldama</td>\n",
       "      <td>PF</td>\n",
       "      <td>23</td>\n",
       "      <td>MEM</td>\n",
       "      <td>25</td>\n",
       "      <td>5</td>\n",
       "      <td>24.0</td>\n",
       "      <td>4.2</td>\n",
       "      <td>9.5</td>\n",
       "      <td>0.443</td>\n",
       "      <td>...</td>\n",
       "      <td>0.590</td>\n",
       "      <td>1.3</td>\n",
       "      <td>4.0</td>\n",
       "      <td>5.4</td>\n",
       "      <td>1.8</td>\n",
       "      <td>0.6</td>\n",
       "      <td>0.7</td>\n",
       "      <td>1.0</td>\n",
       "      <td>1.6</td>\n",
       "      <td>11.0</td>\n",
       "    </tr>\n",
       "    <tr>\n",
       "      <th>3</th>\n",
       "      <td>Nickeil Alexander-Walker</td>\n",
       "      <td>SG</td>\n",
       "      <td>25</td>\n",
       "      <td>MIN</td>\n",
       "      <td>32</td>\n",
       "      <td>11</td>\n",
       "      <td>22.6</td>\n",
       "      <td>2.4</td>\n",
       "      <td>5.8</td>\n",
       "      <td>0.418</td>\n",
       "      <td>...</td>\n",
       "      <td>0.647</td>\n",
       "      <td>0.4</td>\n",
       "      <td>1.3</td>\n",
       "      <td>1.8</td>\n",
       "      <td>2.4</td>\n",
       "      <td>0.9</td>\n",
       "      <td>0.6</td>\n",
       "      <td>1.0</td>\n",
       "      <td>1.9</td>\n",
       "      <td>6.6</td>\n",
       "    </tr>\n",
       "    <tr>\n",
       "      <th>4</th>\n",
       "      <td>Grayson Allen</td>\n",
       "      <td>SG</td>\n",
       "      <td>28</td>\n",
       "      <td>PHO</td>\n",
       "      <td>28</td>\n",
       "      <td>28</td>\n",
       "      <td>33.2</td>\n",
       "      <td>4.5</td>\n",
       "      <td>8.8</td>\n",
       "      <td>0.506</td>\n",
       "      <td>...</td>\n",
       "      <td>0.907</td>\n",
       "      <td>0.9</td>\n",
       "      <td>3.5</td>\n",
       "      <td>4.3</td>\n",
       "      <td>2.8</td>\n",
       "      <td>1.0</td>\n",
       "      <td>0.6</td>\n",
       "      <td>1.4</td>\n",
       "      <td>2.2</td>\n",
       "      <td>13.1</td>\n",
       "    </tr>\n",
       "  </tbody>\n",
       "</table>\n",
       "<p>5 rows × 29 columns</p>\n",
       "</div>"
      ],
      "text/plain": [
       "                     Player Pos  Age   Tm   G  GS    MP   FG   FGA    FG%  \\\n",
       "0               Bam Adebayo   C   26  MIA  23  23  34.1  8.0  15.7  0.506   \n",
       "1              Ochai Agbaji  SG   23  UTA  34  10  21.1  2.6   5.7  0.451   \n",
       "2              Santi Aldama  PF   23  MEM  25   5  24.0  4.2   9.5  0.443   \n",
       "3  Nickeil Alexander-Walker  SG   25  MIN  32  11  22.6  2.4   5.8  0.418   \n",
       "4             Grayson Allen  SG   28  PHO  28  28  33.2  4.5   8.8  0.506   \n",
       "\n",
       "   ...    FT%  ORB  DRB   TRB  AST  STL  BLK  TOV   PF   PTS  \n",
       "0  ...  0.777  2.1  8.3  10.4  4.0  1.1  1.0  2.7  2.4  22.0  \n",
       "1  ...  0.714  0.8  1.7   2.5  1.0  0.6  0.5  0.7  1.5   6.6  \n",
       "2  ...  0.590  1.3  4.0   5.4  1.8  0.6  0.7  1.0  1.6  11.0  \n",
       "3  ...  0.647  0.4  1.3   1.8  2.4  0.9  0.6  1.0  1.9   6.6  \n",
       "4  ...  0.907  0.9  3.5   4.3  2.8  1.0  0.6  1.4  2.2  13.1  \n",
       "\n",
       "[5 rows x 29 columns]"
      ]
     },
     "execution_count": 32,
     "metadata": {},
     "output_type": "execute_result"
    }
   ],
   "source": [
    "reg_stats = pd.read_csv(\"reg_stats.csv\")\n",
    "player_count = reg_stats.Player.value_counts() \n",
    "\n",
    "dupes = reg_stats[reg_stats['Player'].isin(player_count[player_count > 1].index)]\n",
    "dupes = dupes[dupes['Tm'] == 'TOT']\n",
    "\n",
    "reg_stats = pd.concat([reg_stats[~reg_stats['Player'].isin(dupes.Player)], dupes], ignore_index=True)\n",
    "reg_stats = reg_stats.dropna()\n",
    "reg_stats.head()"
   ]
  },
  {
   "cell_type": "code",
   "execution_count": 33,
   "metadata": {},
   "outputs": [
    {
     "data": {
      "text/html": [
       "<div>\n",
       "<style scoped>\n",
       "    .dataframe tbody tr th:only-of-type {\n",
       "        vertical-align: middle;\n",
       "    }\n",
       "\n",
       "    .dataframe tbody tr th {\n",
       "        vertical-align: top;\n",
       "    }\n",
       "\n",
       "    .dataframe thead th {\n",
       "        text-align: right;\n",
       "    }\n",
       "</style>\n",
       "<table border=\"1\" class=\"dataframe\">\n",
       "  <thead>\n",
       "    <tr style=\"text-align: right;\">\n",
       "      <th></th>\n",
       "      <th>Pos</th>\n",
       "      <th>Age</th>\n",
       "      <th>G</th>\n",
       "      <th>GS</th>\n",
       "      <th>MP</th>\n",
       "      <th>FG</th>\n",
       "      <th>FGA</th>\n",
       "      <th>FG%</th>\n",
       "      <th>3P</th>\n",
       "      <th>3PA</th>\n",
       "      <th>...</th>\n",
       "      <th>FT%</th>\n",
       "      <th>ORB</th>\n",
       "      <th>DRB</th>\n",
       "      <th>TRB</th>\n",
       "      <th>AST</th>\n",
       "      <th>STL</th>\n",
       "      <th>BLK</th>\n",
       "      <th>TOV</th>\n",
       "      <th>PF</th>\n",
       "      <th>PTS</th>\n",
       "    </tr>\n",
       "  </thead>\n",
       "  <tbody>\n",
       "    <tr>\n",
       "      <th>0</th>\n",
       "      <td>0</td>\n",
       "      <td>26</td>\n",
       "      <td>23</td>\n",
       "      <td>23</td>\n",
       "      <td>34.1</td>\n",
       "      <td>8.0</td>\n",
       "      <td>15.7</td>\n",
       "      <td>0.506</td>\n",
       "      <td>0.0</td>\n",
       "      <td>0.3</td>\n",
       "      <td>...</td>\n",
       "      <td>0.777</td>\n",
       "      <td>2.1</td>\n",
       "      <td>8.3</td>\n",
       "      <td>10.4</td>\n",
       "      <td>4.0</td>\n",
       "      <td>1.1</td>\n",
       "      <td>1.0</td>\n",
       "      <td>2.7</td>\n",
       "      <td>2.4</td>\n",
       "      <td>22.0</td>\n",
       "    </tr>\n",
       "    <tr>\n",
       "      <th>1</th>\n",
       "      <td>1</td>\n",
       "      <td>23</td>\n",
       "      <td>34</td>\n",
       "      <td>10</td>\n",
       "      <td>21.1</td>\n",
       "      <td>2.6</td>\n",
       "      <td>5.7</td>\n",
       "      <td>0.451</td>\n",
       "      <td>1.2</td>\n",
       "      <td>3.3</td>\n",
       "      <td>...</td>\n",
       "      <td>0.714</td>\n",
       "      <td>0.8</td>\n",
       "      <td>1.7</td>\n",
       "      <td>2.5</td>\n",
       "      <td>1.0</td>\n",
       "      <td>0.6</td>\n",
       "      <td>0.5</td>\n",
       "      <td>0.7</td>\n",
       "      <td>1.5</td>\n",
       "      <td>6.6</td>\n",
       "    </tr>\n",
       "    <tr>\n",
       "      <th>2</th>\n",
       "      <td>2</td>\n",
       "      <td>23</td>\n",
       "      <td>25</td>\n",
       "      <td>5</td>\n",
       "      <td>24.0</td>\n",
       "      <td>4.2</td>\n",
       "      <td>9.5</td>\n",
       "      <td>0.443</td>\n",
       "      <td>1.6</td>\n",
       "      <td>4.8</td>\n",
       "      <td>...</td>\n",
       "      <td>0.590</td>\n",
       "      <td>1.3</td>\n",
       "      <td>4.0</td>\n",
       "      <td>5.4</td>\n",
       "      <td>1.8</td>\n",
       "      <td>0.6</td>\n",
       "      <td>0.7</td>\n",
       "      <td>1.0</td>\n",
       "      <td>1.6</td>\n",
       "      <td>11.0</td>\n",
       "    </tr>\n",
       "    <tr>\n",
       "      <th>3</th>\n",
       "      <td>1</td>\n",
       "      <td>25</td>\n",
       "      <td>32</td>\n",
       "      <td>11</td>\n",
       "      <td>22.6</td>\n",
       "      <td>2.4</td>\n",
       "      <td>5.8</td>\n",
       "      <td>0.418</td>\n",
       "      <td>1.4</td>\n",
       "      <td>3.8</td>\n",
       "      <td>...</td>\n",
       "      <td>0.647</td>\n",
       "      <td>0.4</td>\n",
       "      <td>1.3</td>\n",
       "      <td>1.8</td>\n",
       "      <td>2.4</td>\n",
       "      <td>0.9</td>\n",
       "      <td>0.6</td>\n",
       "      <td>1.0</td>\n",
       "      <td>1.9</td>\n",
       "      <td>6.6</td>\n",
       "    </tr>\n",
       "    <tr>\n",
       "      <th>4</th>\n",
       "      <td>1</td>\n",
       "      <td>28</td>\n",
       "      <td>28</td>\n",
       "      <td>28</td>\n",
       "      <td>33.2</td>\n",
       "      <td>4.5</td>\n",
       "      <td>8.8</td>\n",
       "      <td>0.506</td>\n",
       "      <td>2.4</td>\n",
       "      <td>5.3</td>\n",
       "      <td>...</td>\n",
       "      <td>0.907</td>\n",
       "      <td>0.9</td>\n",
       "      <td>3.5</td>\n",
       "      <td>4.3</td>\n",
       "      <td>2.8</td>\n",
       "      <td>1.0</td>\n",
       "      <td>0.6</td>\n",
       "      <td>1.4</td>\n",
       "      <td>2.2</td>\n",
       "      <td>13.1</td>\n",
       "    </tr>\n",
       "    <tr>\n",
       "      <th>...</th>\n",
       "      <td>...</td>\n",
       "      <td>...</td>\n",
       "      <td>...</td>\n",
       "      <td>...</td>\n",
       "      <td>...</td>\n",
       "      <td>...</td>\n",
       "      <td>...</td>\n",
       "      <td>...</td>\n",
       "      <td>...</td>\n",
       "      <td>...</td>\n",
       "      <td>...</td>\n",
       "      <td>...</td>\n",
       "      <td>...</td>\n",
       "      <td>...</td>\n",
       "      <td>...</td>\n",
       "      <td>...</td>\n",
       "      <td>...</td>\n",
       "      <td>...</td>\n",
       "      <td>...</td>\n",
       "      <td>...</td>\n",
       "      <td>...</td>\n",
       "    </tr>\n",
       "    <tr>\n",
       "      <th>512</th>\n",
       "      <td>6</td>\n",
       "      <td>33</td>\n",
       "      <td>29</td>\n",
       "      <td>6</td>\n",
       "      <td>16.8</td>\n",
       "      <td>1.5</td>\n",
       "      <td>3.4</td>\n",
       "      <td>0.439</td>\n",
       "      <td>0.7</td>\n",
       "      <td>1.9</td>\n",
       "      <td>...</td>\n",
       "      <td>0.846</td>\n",
       "      <td>1.1</td>\n",
       "      <td>2.3</td>\n",
       "      <td>3.3</td>\n",
       "      <td>0.8</td>\n",
       "      <td>1.3</td>\n",
       "      <td>0.6</td>\n",
       "      <td>0.4</td>\n",
       "      <td>1.9</td>\n",
       "      <td>4.4</td>\n",
       "    </tr>\n",
       "    <tr>\n",
       "      <th>513</th>\n",
       "      <td>4</td>\n",
       "      <td>23</td>\n",
       "      <td>20</td>\n",
       "      <td>0</td>\n",
       "      <td>6.4</td>\n",
       "      <td>0.8</td>\n",
       "      <td>1.6</td>\n",
       "      <td>0.484</td>\n",
       "      <td>0.1</td>\n",
       "      <td>0.4</td>\n",
       "      <td>...</td>\n",
       "      <td>0.500</td>\n",
       "      <td>0.3</td>\n",
       "      <td>0.6</td>\n",
       "      <td>0.9</td>\n",
       "      <td>0.5</td>\n",
       "      <td>0.5</td>\n",
       "      <td>0.1</td>\n",
       "      <td>0.3</td>\n",
       "      <td>0.9</td>\n",
       "      <td>1.8</td>\n",
       "    </tr>\n",
       "    <tr>\n",
       "      <th>515</th>\n",
       "      <td>7</td>\n",
       "      <td>24</td>\n",
       "      <td>31</td>\n",
       "      <td>1</td>\n",
       "      <td>24.1</td>\n",
       "      <td>5.1</td>\n",
       "      <td>11.2</td>\n",
       "      <td>0.451</td>\n",
       "      <td>2.1</td>\n",
       "      <td>5.4</td>\n",
       "      <td>...</td>\n",
       "      <td>0.866</td>\n",
       "      <td>0.2</td>\n",
       "      <td>2.5</td>\n",
       "      <td>2.7</td>\n",
       "      <td>2.5</td>\n",
       "      <td>0.6</td>\n",
       "      <td>0.1</td>\n",
       "      <td>1.0</td>\n",
       "      <td>1.5</td>\n",
       "      <td>15.0</td>\n",
       "    </tr>\n",
       "    <tr>\n",
       "      <th>516</th>\n",
       "      <td>0</td>\n",
       "      <td>31</td>\n",
       "      <td>22</td>\n",
       "      <td>0</td>\n",
       "      <td>16.5</td>\n",
       "      <td>2.8</td>\n",
       "      <td>5.4</td>\n",
       "      <td>0.517</td>\n",
       "      <td>0.5</td>\n",
       "      <td>1.0</td>\n",
       "      <td>...</td>\n",
       "      <td>0.742</td>\n",
       "      <td>1.5</td>\n",
       "      <td>1.9</td>\n",
       "      <td>3.4</td>\n",
       "      <td>0.7</td>\n",
       "      <td>0.4</td>\n",
       "      <td>0.8</td>\n",
       "      <td>0.7</td>\n",
       "      <td>2.4</td>\n",
       "      <td>7.0</td>\n",
       "    </tr>\n",
       "    <tr>\n",
       "      <th>517</th>\n",
       "      <td>2</td>\n",
       "      <td>38</td>\n",
       "      <td>15</td>\n",
       "      <td>3</td>\n",
       "      <td>15.9</td>\n",
       "      <td>0.4</td>\n",
       "      <td>1.3</td>\n",
       "      <td>0.316</td>\n",
       "      <td>0.3</td>\n",
       "      <td>1.1</td>\n",
       "      <td>...</td>\n",
       "      <td>1.000</td>\n",
       "      <td>1.1</td>\n",
       "      <td>1.8</td>\n",
       "      <td>2.9</td>\n",
       "      <td>0.5</td>\n",
       "      <td>0.6</td>\n",
       "      <td>0.2</td>\n",
       "      <td>0.3</td>\n",
       "      <td>2.3</td>\n",
       "      <td>1.3</td>\n",
       "    </tr>\n",
       "  </tbody>\n",
       "</table>\n",
       "<p>432 rows × 27 columns</p>\n",
       "</div>"
      ],
      "text/plain": [
       "     Pos  Age   G  GS    MP   FG   FGA    FG%   3P  3PA  ...    FT%  ORB  DRB  \\\n",
       "0      0   26  23  23  34.1  8.0  15.7  0.506  0.0  0.3  ...  0.777  2.1  8.3   \n",
       "1      1   23  34  10  21.1  2.6   5.7  0.451  1.2  3.3  ...  0.714  0.8  1.7   \n",
       "2      2   23  25   5  24.0  4.2   9.5  0.443  1.6  4.8  ...  0.590  1.3  4.0   \n",
       "3      1   25  32  11  22.6  2.4   5.8  0.418  1.4  3.8  ...  0.647  0.4  1.3   \n",
       "4      1   28  28  28  33.2  4.5   8.8  0.506  2.4  5.3  ...  0.907  0.9  3.5   \n",
       "..   ...  ...  ..  ..   ...  ...   ...    ...  ...  ...  ...    ...  ...  ...   \n",
       "512    6   33  29   6  16.8  1.5   3.4  0.439  0.7  1.9  ...  0.846  1.1  2.3   \n",
       "513    4   23  20   0   6.4  0.8   1.6  0.484  0.1  0.4  ...  0.500  0.3  0.6   \n",
       "515    7   24  31   1  24.1  5.1  11.2  0.451  2.1  5.4  ...  0.866  0.2  2.5   \n",
       "516    0   31  22   0  16.5  2.8   5.4  0.517  0.5  1.0  ...  0.742  1.5  1.9   \n",
       "517    2   38  15   3  15.9  0.4   1.3  0.316  0.3  1.1  ...  1.000  1.1  1.8   \n",
       "\n",
       "      TRB  AST  STL  BLK  TOV   PF   PTS  \n",
       "0    10.4  4.0  1.1  1.0  2.7  2.4  22.0  \n",
       "1     2.5  1.0  0.6  0.5  0.7  1.5   6.6  \n",
       "2     5.4  1.8  0.6  0.7  1.0  1.6  11.0  \n",
       "3     1.8  2.4  0.9  0.6  1.0  1.9   6.6  \n",
       "4     4.3  2.8  1.0  0.6  1.4  2.2  13.1  \n",
       "..    ...  ...  ...  ...  ...  ...   ...  \n",
       "512   3.3  0.8  1.3  0.6  0.4  1.9   4.4  \n",
       "513   0.9  0.5  0.5  0.1  0.3  0.9   1.8  \n",
       "515   2.7  2.5  0.6  0.1  1.0  1.5  15.0  \n",
       "516   3.4  0.7  0.4  0.8  0.7  2.4   7.0  \n",
       "517   2.9  0.5  0.6  0.2  0.3  2.3   1.3  \n",
       "\n",
       "[432 rows x 27 columns]"
      ]
     },
     "execution_count": 33,
     "metadata": {},
     "output_type": "execute_result"
    }
   ],
   "source": [
    "names = reg_stats['Player']\n",
    "position = reg_stats['Pos']\n",
    "X = reg_stats.drop(['Player', 'Tm'], axis=1)\n",
    "\n",
    "# preprocessing for position (categorical)\n",
    "X.Pos = pd.factorize(X['Pos'])[0]\n",
    "X"
   ]
  },
  {
   "cell_type": "code",
   "execution_count": null,
   "metadata": {},
   "outputs": [
    {
     "name": "stderr",
     "output_type": "stream",
     "text": [
      "c:\\Users\\mlisi\\anaconda3\\lib\\site-packages\\sklearn\\cluster\\_kmeans.py:1412: FutureWarning:\n",
      "\n",
      "The default value of `n_init` will change from 10 to 'auto' in 1.4. Set the value of `n_init` explicitly to suppress the warning\n",
      "\n",
      "c:\\Users\\mlisi\\anaconda3\\lib\\site-packages\\sklearn\\cluster\\_kmeans.py:1436: UserWarning:\n",
      "\n",
      "KMeans is known to have a memory leak on Windows with MKL, when there are less chunks than available threads. You can avoid it by setting the environment variable OMP_NUM_THREADS=2.\n",
      "\n"
     ]
    },
    {
     "data": {
      "application/vnd.plotly.v1+json": {
       "config": {
        "plotlyServerURL": "https://plot.ly"
       },
       "data": [
        {
         "hovertemplate": "<b>%{hovertext}</b><br><br>t-SNE Component 1=%{x}<br>t-SNE Component 2=%{y}<br>cluster=%{marker.color}<extra></extra>",
         "hovertext": [
          "Bam Adebayo",
          "Ochai Agbaji",
          "Santi Aldama",
          "Nickeil Alexander-Walker",
          "Grayson Allen",
          "Jarrett Allen",
          "Jose Alvarado",
          "Kyle Anderson",
          "Giannis Antetokounmpo",
          "Cole Anthony",
          "Deni Avdija",
          "Marvin Bagley III",
          "Amari Bailey",
          "Patrick Baldwin Jr.",
          "LaMelo Ball",
          "Mo Bamba",
          "Paolo Banchero",
          "Desmond Bane",
          "Dalano Banton",
          "Dominick Barlow",
          "Harrison Barnes",
          "Scottie Barnes",
          "Charles Bassey",
          "Emoni Bates",
          "Keita Bates-Diop",
          "Bradley Beal",
          "Malik Beasley",
          "MarJon Beauchamp",
          "Dāvis Bertāns",
          "Patrick Beverley",
          "Saddiq Bey",
          "Goga Bitadze",
          "Anthony Black",
          "Bogdan Bogdanović",
          "Bojan Bogdanović",
          "Bol Bol",
          "Devin Booker",
          "Brandon Boston Jr.",
          "Chris Boucher",
          "Malaki Branham",
          "Christian Braun",
          "Mikal Bridges",
          "Miles Bridges",
          "Oshae Brissett",
          "Malcolm Brogdon",
          "Armoni Brooks",
          "Dillon Brooks",
          "Bruce Brown",
          "Greg Brown III",
          "Jaylen Brown",
          "Kobe Brown",
          "Troy Brown Jr.",
          "Jalen Brunson",
          "Thomas Bryant",
          "Kobe Bufkin",
          "Reggie Bullock",
          "Alec Burks",
          "Jared Butler",
          "Jimmy Butler",
          "Jamal Cain",
          "Kentavious Caldwell-Pope",
          "Toumani Camara",
          "Jevon Carter",
          "Wendell Carter Jr.",
          "Alex Caruso",
          "Julian Champagnie",
          "Max Christie",
          "Sidy Cissoko",
          "Jordan Clarkson",
          "Nic Claxton",
          "Noah Clowney",
          "Amir Coffey",
          "John Collins",
          "Zach Collins",
          "Mike Conley",
          "Pat Connaughton",
          "Bilal Coulibaly",
          "Torrey Craig",
          "Jae Crowder",
          "Cade Cunningham",
          "Seth Curry",
          "Stephen Curry",
          "Dyson Daniels",
          "Anthony Davis",
          "Johnny Davis",
          "Dexter Dennis",
          "DeMar DeRozan",
          "Gradey Dick",
          "Ousmane Dieng",
          "Spencer Dinwiddie",
          "Donte DiVincenzo",
          "Luka Dončić",
          "Luguentz Dort",
          "Ayo Dosunmu",
          "Andre Drummond",
          "Chris Duarte",
          "Kris Dunn",
          "Kevin Durant",
          "Jalen Duren",
          "Tari Eason",
          "Anthony Edwards",
          "Kessler Edwards",
          "Keon Ellis",
          "Joel Embiid",
          "Drew Eubanks",
          "Dante Exum",
          "Bruno Fernando",
          "Dorian Finney-Smith",
          "Malachi Flynn",
          "Simone Fontecchio",
          "Jordan Ford",
          "Trent Forrest",
          "Evan Fournier",
          "De'Aaron Fox",
          "Alex Fudge",
          "Markelle Fultz",
          "Danilo Gallinari",
          "Darius Garland",
          "Luka Garza",
          "Keyonte George",
          "Paul George",
          "Josh Giddey",
          "Harry Giles",
          "Shai Gilgeous-Alexander",
          "Anthony Gill",
          "Collin Gillespie",
          "Jacob Gilyard",
          "Rudy Gobert",
          "Jordan Goodwin",
          "Aaron Gordon",
          "Eric Gordon",
          "Devonte' Graham",
          "Jerami Grant",
          "A.J. Green",
          "Draymond Green",
          "Jalen Green",
          "Jeff Green",
          "Josh Green",
          "AJ Griffin",
          "Quentin Grimes",
          "Rui Hachimura",
          "Tyrese Haliburton",
          "R.J. Hampton",
          "Tim Hardaway Jr.",
          "James Harden",
          "Jaden Hardy",
          "Gary Harris",
          "Joe Harris",
          "Tobias Harris",
          "Josh Hart",
          "Isaiah Hartenstein",
          "Sam Hauser",
          "Jordan Hawkins",
          "Jaxson Hayes",
          "Killian Hayes",
          "Gordon Hayward",
          "Scoot Henderson",
          "Taylor Hendricks",
          "Tyler Herro",
          "Buddy Hield",
          "Haywood Highsmith",
          "D'Moi Hodge",
          "Aaron Holiday",
          "Jrue Holiday",
          "Chet Holmgren",
          "Jalen Hood-Schifino",
          "Al Horford",
          "Talen Horton-Tucker",
          "Danuel House Jr.",
          "Caleb Houstan",
          "Jett Howard",
          "Kevin Huerter",
          "De'Andre Hunter",
          "Bones Hyland",
          "Joe Ingles",
          "Brandon Ingram",
          "Kyrie Irving",
          "Jonathan Isaac",
          "Jaden Ivey",
          "Andre Jackson Jr.",
          "Isaiah Jackson",
          "Jaren Jackson Jr.",
          "Reggie Jackson",
          "LeBron James",
          "Jaime Jaquez Jr.",
          "DaQuan Jeffries",
          "Isaiah Joe",
          "Cameron Johnson",
          "Jalen Johnson",
          "Keldon Johnson",
          "Keon Johnson",
          "Nikola Jokić",
          "Colby Jones",
          "Damian Jones",
          "Derrick Jones Jr.",
          "Herbert Jones",
          "Tre Jones",
          "Tyus Jones",
          "Cory Joseph",
          "Nikola Jović",
          "Luke Kennard",
          "Walker Kessler",
          "Braxton Key",
          "Corey Kispert",
          "Maxi Kleber",
          "Kevin Knox",
          "John Konchar",
          "Furkan Korkmaz",
          "Jonathan Kuminga",
          "Kyle Kuzma",
          "Jock Landale",
          "Jake LaRavia",
          "Zach LaVine",
          "A.J. Lawson",
          "Saben Lee",
          "Alex Len",
          "Kawhi Leonard",
          "Caris LeVert",
          "Kira Lewis Jr.",
          "E.J. Liddell",
          "Damian Lillard",
          "Nassir Little",
          "Dereck Lively II",
          "Isaiah Livers",
          "Kenneth Lofton Jr.",
          "Brook Lopez",
          "Robin Lopez",
          "Kevin Love",
          "Kyle Lowry",
          "Trey Lyles",
          "Théo Maledon",
          "Sandro Mamukelashvili",
          "Terance Mann",
          "Tre Mann",
          "Boban Marjanović",
          "Lauri Markkanen",
          "Naji Marshall",
          "Caleb Martin",
          "Cody Martin",
          "Garrison Mathews",
          "Bennedict Mathurin",
          "Wesley Matthews",
          "Tyrese Maxey",
          "Skylar Mays",
          "Miles McBride",
          "CJ McCollum",
          "T.J. McConnell",
          "Jaden McDaniels",
          "Jalen McDaniels",
          "Doug McDermott",
          "JaVale McGee",
          "Bryce McGowens",
          "Jordan McLaughlin",
          "De'Anthony Melton",
          "Sam Merrill",
          "Chimezie Metu",
          "Vasilije Micić",
          "Khris Middleton",
          "Brandon Miller",
          "Dariq Whitehead",
          "Shake Milton",
          "Justin Minaya",
          "Josh Minott",
          "Davion Mitchell",
          "Donovan Mitchell",
          "Evan Mobley",
          "Malik Monk",
          "Moses Moody",
          "Ja Morant",
          "Marcus Morris",
          "Markieff Morris",
          "Trey Murphy III",
          "Dejounte Murray",
          "Jamal Murray",
          "Keegan Murray",
          "Kris Murray",
          "Mike Muscala",
          "Larry Nance Jr.",
          "Andrew Nembhard",
          "Aaron Nesmith",
          "Georges Niang",
          "Daishen Nix",
          "Zeke Nnaji",
          "Jaylen Nowell",
          "Jusuf Nurkić",
          "Jordan Nwora",
          "Royce O'Neale",
          "Josh Okogie",
          "Onyeka Okongwu",
          "Isaac Okoro",
          "Kelly Olynyk",
          "Eugene Omoruyi",
          "Cedi Osman",
          "Kelly Oubre Jr.",
          "Chris Paul",
          "Cameron Payne",
          "Gary Payton II",
          "Julian Phillips",
          "Jalen Pickett",
          "Brandin Podziemski",
          "Aleksej Pokusevski",
          "Jordan Poole",
          "Craig Porter Jr.",
          "Michael Porter Jr.",
          "Otto Porter Jr.",
          "Bobby Portis",
          "Kristaps Porziņģis",
          "Dwight Powell",
          "Norman Powell",
          "Taurean Prince",
          "Payton Pritchard",
          "Olivier-Maxence Prosper",
          "Julius Randle",
          "Duop Reath",
          "Austin Reaves",
          "Cam Reddish",
          "Paul Reed",
          "Naz Reid",
          "Jared Rhoden",
          "Josh Richardson",
          "Duncan Robinson",
          "Jerome Robinson",
          "Orlando Robinson",
          "Jeremiah Robinson-Earl",
          "David Roddy",
          "Ryan Rollins",
          "Derrick Rose",
          "Terry Rozier",
          "Rayan Rupert",
          "D'Angelo Russell",
          "Matt Ryan",
          "Domantas Sabonis",
          "Luka Šamanić",
          "Jermaine Samuels",
          "Gui Santos",
          "Dario Šarić",
          "Olivier Sarr",
          "Marcus Sasser",
          "Admiral Schofield",
          "Dennis Schröder",
          "Dereon Seabron",
          "Alperen Şengün",
          "Collin Sexton",
          "Landry Shamet",
          "Day'Ron Sharpe",
          "Shaedon Sharpe",
          "Ben Sheppard",
          "Pascal Siakam",
          "Anfernee Simons",
          "Marcus Smart",
          "Dennis Smith Jr.",
          "Dru Smith",
          "Ish Smith",
          "Jabari Smith Jr.",
          "Jalen Smith",
          "Nick Smith Jr.",
          "Jeremy Sochan",
          "Jaden Springer",
          "Lamar Stevens",
          "Isaiah Stewart",
          "Julian Strawther",
          "Max Strus",
          "Jalen Suggs",
          "Jae'Sean Tate",
          "Jayson Tatum",
          "Garrett Temple",
          "Dalen Terry",
          "Cam Thomas",
          "Amen Thompson",
          "Ausar Thompson",
          "Klay Thompson",
          "JT Thor",
          "Matisse Thybulle",
          "Xavier Tillman Sr.",
          "Obi Toppin",
          "Karl-Anthony Towns",
          "Gary Trent Jr.",
          "Myles Turner",
          "Stanley Umude",
          "Jonas Valančiūnas",
          "Jarred Vanderbilt",
          "Fred VanVleet",
          "Devin Vassell",
          "Sasha Vezenkov",
          "Gabe Vincent",
          "Nikola Vučević",
          "Dean Wade",
          "Franz Wagner",
          "Moritz Wagner",
          "Ish Wainright",
          "Jabari Walker",
          "Jarace Walker",
          "Lonnie Walker IV",
          "Cason Wallace",
          "P.J. Washington",
          "Yuta Watanabe",
          "Trendon Watford",
          "Peyton Watson",
          "Victor Wembanyama",
          "Blake Wesley",
          "Russell Westbrook",
          "Coby White",
          "Derrick White",
          "Cam Whitmore",
          "Aaron Wiggins",
          "Andrew Wiggins",
          "Lindell Wigginton",
          "Grant Williams",
          "Jalen Williams",
          "Jaylin Williams",
          "Jeenathan Williams",
          "Kenrich Williams",
          "Patrick Williams",
          "Vince Williams Jr.",
          "Ziaire Williams",
          "Zion Williamson",
          "Jalen Wilson",
          "James Wiseman",
          "Christian Wood",
          "Delon Wright",
          "Trae Young",
          "Omer Yurtseven",
          "Cody Zeller",
          "Precious Achiuwa",
          "OG Anunoby",
          "RJ Barrett",
          "Nicolas Batum",
          "Robert Covington",
          "KJ Martin",
          "Immanuel Quickley",
          "Daniel Theis",
          "P.J. Tucker"
         ],
         "legendgroup": "",
         "marker": {
          "color": [
           0,
           1,
           2,
           1,
           2,
           2,
           1,
           1,
           0,
           2,
           2,
           1,
           3,
           3,
           0,
           1,
           0,
           0,
           3,
           3,
           2,
           0,
           1,
           3,
           1,
           2,
           2,
           1,
           3,
           1,
           2,
           2,
           1,
           2,
           2,
           1,
           0,
           3,
           1,
           1,
           1,
           0,
           0,
           1,
           2,
           3,
           2,
           2,
           3,
           0,
           1,
           1,
           0,
           1,
           3,
           3,
           1,
           1,
           0,
           1,
           2,
           2,
           1,
           2,
           2,
           1,
           1,
           3,
           0,
           2,
           1,
           1,
           2,
           2,
           2,
           1,
           1,
           1,
           1,
           0,
           1,
           0,
           1,
           0,
           3,
           1,
           0,
           3,
           1,
           2,
           2,
           0,
           2,
           1,
           2,
           1,
           1,
           0,
           2,
           2,
           0,
           3,
           1,
           0,
           1,
           1,
           3,
           2,
           1,
           1,
           1,
           3,
           3,
           0,
           3,
           2,
           1,
           0,
           3,
           2,
           0,
           2,
           3,
           0,
           3,
           3,
           1,
           2,
           1,
           2,
           2,
           3,
           0,
           1,
           2,
           2,
           1,
           1,
           3,
           1,
           1,
           0,
           3,
           2,
           0,
           1,
           1,
           3,
           2,
           2,
           2,
           1,
           1,
           1,
           2,
           2,
           2,
           1,
           0,
           2,
           1,
           3,
           1,
           2,
           2,
           3,
           2,
           2,
           1,
           1,
           3,
           2,
           2,
           1,
           1,
           0,
           0,
           1,
           2,
           1,
           1,
           0,
           2,
           0,
           2,
           3,
           1,
           2,
           2,
           2,
           1,
           0,
           3,
           1,
           2,
           2,
           1,
           2,
           3,
           1,
           1,
           2,
           3,
           1,
           3,
           1,
           1,
           3,
           2,
           0,
           3,
           3,
           0,
           1,
           3,
           1,
           0,
           2,
           3,
           3,
           0,
           1,
           2,
           3,
           3,
           2,
           3,
           2,
           2,
           1,
           3,
           3,
           1,
           1,
           3,
           0,
           1,
           2,
           1,
           3,
           2,
           3,
           0,
           1,
           1,
           0,
           1,
           2,
           3,
           1,
           1,
           1,
           1,
           2,
           1,
           1,
           3,
           2,
           2,
           3,
           1,
           3,
           3,
           3,
           0,
           2,
           2,
           1,
           0,
           1,
           3,
           2,
           0,
           0,
           2,
           3,
           1,
           1,
           1,
           2,
           1,
           3,
           1,
           3,
           2,
           1,
           2,
           1,
           2,
           2,
           2,
           1,
           1,
           2,
           2,
           1,
           1,
           3,
           1,
           2,
           3,
           2,
           1,
           2,
           1,
           2,
           0,
           1,
           2,
           2,
           1,
           3,
           0,
           1,
           2,
           1,
           1,
           2,
           1,
           1,
           2,
           3,
           1,
           1,
           1,
           1,
           1,
           0,
           3,
           2,
           1,
           0,
           3,
           1,
           1,
           2,
           1,
           1,
           3,
           2,
           3,
           0,
           2,
           1,
           2,
           2,
           3,
           0,
           0,
           2,
           1,
           1,
           1,
           2,
           1,
           1,
           2,
           3,
           1,
           2,
           1,
           2,
           2,
           1,
           0,
           1,
           3,
           0,
           1,
           2,
           2,
           3,
           1,
           1,
           2,
           0,
           1,
           2,
           1,
           2,
           3,
           0,
           2,
           1,
           1,
           2,
           1,
           0,
           2,
           3,
           1,
           3,
           1,
           1,
           2,
           1,
           1,
           1,
           0,
           3,
           2,
           2,
           2,
           1,
           1,
           2,
           3,
           2,
           2,
           1,
           3,
           1,
           2,
           1,
           1,
           0,
           1,
           1,
           1,
           1,
           0,
           1,
           3,
           1,
           2,
           2,
           1,
           1,
           3,
           2,
           1,
           3
          ],
          "coloraxis": "coloraxis",
          "symbol": "circle"
         },
         "mode": "markers",
         "name": "",
         "orientation": "v",
         "showlegend": false,
         "type": "scatter",
         "x": [
          22.091279983520508,
          -0.8652610182762146,
          5.978273391723633,
          -0.6287239193916321,
          11.251628875732422,
          11.227068901062012,
          -3.285200834274292,
          0.3432774543762207,
          23.026132583618164,
          14.785508155822754,
          14.19273567199707,
          1.4825152158737183,
          -25.67582130432129,
          -26.4129581451416,
          28.389453887939453,
          -6.625389099121094,
          23.692977905273438,
          26.60521125793457,
          -20.261308670043945,
          -21.85587501525879,
          9.682053565979004,
          20.015308380126953,
          -1.7225570678710938,
          -23.22789192199707,
          -2.057018756866455,
          20.217952728271484,
          7.897318363189697,
          -9.49779987335205,
          -28.55850601196289,
          -5.047317981719971,
          14.763269424438477,
          4.7875142097473145,
          2.2969534397125244,
          18.25836753845215,
          23.84916877746582,
          -15.121747970581055,
          29.004596710205078,
          -13.170894622802734,
          -6.945094108581543,
          1.6062074899673462,
          -0.5920615196228027,
          23.890939712524414,
          22.389869689941406,
          -11.203934669494629,
          22.906816482543945,
          -21.843997955322266,
          12.394320487976074,
          13.108037948608398,
          -24.990522384643555,
          24.278858184814453,
          -20.791484832763672,
          -10.277311325073242,
          27.997772216796875,
          -3.0320210456848145,
          -27.715953826904297,
          -12.652792930603027,
          -12.318657875061035,
          -15.826089859008789,
          25.580793380737305,
          -14.52183723449707,
          12.302339553833008,
          6.63625955581665,
          -9.329676628112793,
          2.237743377685547,
          10.831525802612305,
          -8.413331031799316,
          -3.3966596126556396,
          -24.62980842590332,
          22.44952964782715,
          8.305765151977539,
          -14.794418334960938,
          -11.020031929016113,
          12.18187427520752,
          11.499792098999023,
          20.40974998474121,
          -1.8859399557113647,
          3.9104068279266357,
          1.078498125076294,
          -3.971221685409546,
          27.01302719116211,
          -13.243040084838867,
          30.678897857666016,
          3.2934648990631104,
          21.318679809570312,
          -17.139820098876953,
          -18.68789291381836,
          25.583072662353516,
          -17.504749298095703,
          -14.500737190246582,
          23.471294403076172,
          7.036816120147705,
          30.695112228393555,
          10.30185317993164,
          -0.18968191742897034,
          3.1585657596588135,
          -9.864060401916504,
          -2.147451639175415,
          27.77970314025879,
          11.363608360290527,
          6.86233377456665,
          27.932048797607422,
          -22.099903106689453,
          -5.10892391204834,
          22.930095672607422,
          -5.606575012207031,
          0.18816642463207245,
          -24.082813262939453,
          9.094747543334961,
          -3.633697748184204,
          6.977405548095703,
          -11.767186164855957,
          -25.573976516723633,
          -5.4515862464904785,
          29.258386611938477,
          -25.184268951416016,
          -1.175437331199646,
          -7.587973117828369,
          26.483545303344727,
          -24.40194320678711,
          4.1668925285339355,
          25.61209487915039,
          12.508814811706543,
          -17.869218826293945,
          29.269899368286133,
          -19.84950065612793,
          -14.489144325256348,
          -6.287437438964844,
          12.313251495361328,
          -2.294872522354126,
          13.638501167297363,
          16.96896743774414,
          -20.070518493652344,
          23.753883361816406,
          -12.122057914733887,
          7.961954593658447,
          21.367557525634766,
          -8.038704872131348,
          -1.5439403057098389,
          -26.37391471862793,
          -2.185443639755249,
          5.218609809875488,
          29.325456619262695,
          -23.91802215576172,
          14.154966354370117,
          25.403413772583008,
          -2.8527567386627197,
          0.814372718334198,
          -19.63148307800293,
          19.558448791503906,
          2.078674793243408,
          3.6666815280914307,
          7.054777145385742,
          -1.2847424745559692,
          -2.7200570106506348,
          3.1607744693756104,
          17.638996124267578,
          15.673439979553223,
          -14.759446144104004,
          26.150651931762695,
          13.569541931152344,
          4.5251617431640625,
          -19.58544158935547,
          -4.665503025054932,
          17.206233978271484,
          16.205780029296875,
          -24.65558433532715,
          5.2969818115234375,
          3.580538272857666,
          -11.054614067077637,
          -11.76941204071045,
          -23.055036544799805,
          7.796108722686768,
          12.622105598449707,
          -4.804101467132568,
          -3.9948172569274902,
          24.678922653198242,
          24.880788803100586,
          -3.104382276535034,
          16.213220596313477,
          -7.2387285232543945,
          -0.3563367426395416,
          16.978242874145508,
          21.466310501098633,
          27.39418601989746,
          13.632092475891113,
          -29.078706741333008,
          0.14843201637268066,
          10.345765113830566,
          14.332657814025879,
          21.718217849731445,
          -7.152070999145508,
          21.123069763183594,
          -18.476890563964844,
          -9.543848037719727,
          9.246716499328613,
          10.150765419006348,
          -0.529625415802002,
          22.720687866210938,
          -19.933555603027344,
          -5.850619316101074,
          -6.238615036010742,
          6.4523797035217285,
          -24.325170516967773,
          7.877577781677246,
          -17.80209732055664,
          -9.53467082977295,
          -1.7862420082092285,
          -17.81717300415039,
          7.527100563049316,
          24.327289581298828,
          -16.60203742980957,
          -22.306255340576172,
          23.996591567993164,
          -16.605205535888672,
          -21.12739372253418,
          -4.372517108917236,
          25.220617294311523,
          19.625181198120117,
          -19.4044189453125,
          -23.02018928527832,
          30.466522216796875,
          -9.97899055480957,
          5.936975955963135,
          -16.586078643798828,
          -21.58266258239746,
          15.294763565063477,
          -28.623258590698242,
          -6.232712745666504,
          20.068161010742188,
          -5.442078590393066,
          -18.711809158325195,
          -16.8709659576416,
          2.0749762058258057,
          -14.071706771850586,
          -29.764266967773438,
          20.903417587280273,
          0.8608494400978088,
          11.308513641357422,
          -3.4530398845672607,
          -22.65353775024414,
          13.396024703979492,
          -18.612924575805664,
          28.342979431152344,
          -3.463423252105713,
          -21.056964874267578,
          24.642623901367188,
          -0.5382897853851318,
          8.943172454833984,
          -18.84740447998047,
          -7.943143844604492,
          -3.737400531768799,
          -3.034715175628662,
          -11.730290412902832,
          13.412796020507812,
          -8.929031372070312,
          -2.889063596725464,
          -19.51645278930664,
          17.391084671020508,
          13.27475643157959,
          -25.79582977294922,
          -14.232121467590332,
          -27.365833282470703,
          -20.684406280517578,
          -17.878097534179688,
          28.692445755004883,
          12.522546768188477,
          18.285968780517578,
          -0.2951907515525818,
          29.765615463256836,
          -6.857973575592041,
          -19.906906127929688,
          9.569872856140137,
          24.97722053527832,
          23.894641876220703,
          14.230731010437012,
          -12.479571342468262,
          -15.624029159545898,
          -2.675039052963257,
          -0.6724098920822144,
          9.766469955444336,
          -5.368992805480957,
          -28.92269515991211,
          -19.56151008605957,
          -14.953685760498047,
          13.491130828857422,
          -10.12861156463623,
          3.185534715652466,
          1.821065068244934,
          3.067399501800537,
          4.678431034088135,
          6.104618549346924,
          -10.427704811096191,
          -1.6500688791275024,
          11.277482032775879,
          21.265575408935547,
          -4.972274303436279,
          -2.2707221508026123,
          -26.618860244750977,
          -12.776740074157715,
          4.4172444343566895,
          -24.83255958557129,
          20.248432159423828,
          -1.3212604522705078,
          15.838152885437012,
          -12.120171546936035,
          7.840804576873779,
          16.38282012939453,
          -0.8332418203353882,
          2.284133195877075,
          8.7900390625,
          -3.139615774154663,
          -20.872535705566406,
          22.642593383789062,
          -1.1861207485198975,
          18.250247955322266,
          4.440657615661621,
          0.3630707561969757,
          4.6590657234191895,
          -15.853686332702637,
          1.7043153047561646,
          13.435049057006836,
          -27.31315803527832,
          -5.06149435043335,
          -13.83279800415039,
          4.577256202697754,
          -10.946724891662598,
          -5.324646472930908,
          25.861042022705078,
          -27.595388412475586,
          22.232175827026367,
          -6.871992588043213,
          20.560958862304688,
          -15.682065963745117,
          -16.703472137451172,
          -14.664567947387695,
          5.0892438888549805,
          -7.568934440612793,
          -4.522641181945801,
          -28.51371955871582,
          22.862098693847656,
          -18.994457244873047,
          20.92182731628418,
          17.71194076538086,
          -4.450852394104004,
          3.224024534225464,
          20.1239013671875,
          -17.005165100097656,
          23.76348876953125,
          27.070796966552734,
          19.220884323120117,
          -2.083716869354248,
          -11.300230979919434,
          -5.94052267074585,
          12.003277778625488,
          0.9076762795448303,
          -10.513736724853516,
          12.37069320678711,
          -17.73935890197754,
          -15.538461685180664,
          11.719342231750488,
          -8.713998794555664,
          14.830607414245605,
          13.831771850585938,
          0.5680149793624878,
          27.190128326416016,
          -11.48008918762207,
          -18.40450668334961,
          22.591266632080078,
          -7.72381067276001,
          10.317192077636719,
          14.595239639282227,
          -20.522512435913086,
          5.848757266998291,
          2.679696559906006,
          9.253022193908691,
          21.940645217895508,
          -0.6281531453132629,
          15.932209968566895,
          -9.8411283493042,
          13.686782836914062,
          -15.883467674255371,
          24.417463302612305,
          21.02425193786621,
          -7.5006537437438965,
          -5.632469654083252,
          14.124441146850586,
          4.84036111831665,
          23.48038673400879,
          1.6908738613128662,
          -27.46428871154785,
          3.9386608600616455,
          -15.081806182861328,
          1.5944896936416626,
          -1.9759800434112549,
          9.571444511413574,
          -10.635655403137207,
          -4.218723773956299,
          2.7804837226867676,
          17.561559677124023,
          -24.548776626586914,
          16.535615921020508,
          21.55623435974121,
          22.256053924560547,
          -9.414728164672852,
          -7.0097808837890625,
          12.018991470336914,
          -22.021690368652344,
          8.013724327087402,
          20.32830047607422,
          -16.003398895263672,
          -18.99245834350586,
          -5.956712245941162,
          7.850819110870361,
          1.0665372610092163,
          0.15436360239982605,
          23.686664581298828,
          -14.248705863952637,
          -1.3415541648864746,
          -5.471009254455566,
          -4.665060043334961,
          30.834068298339844,
          -2.900186777114868,
          -17.269840240478516,
          3.866928815841675,
          13.776851654052734,
          21.512683868408203,
          -4.001660346984863,
          -0.27174726128578186,
          -22.081228256225586,
          10.910722732543945,
          -1.4998522996902466,
          -15.024344444274902
         ],
         "xaxis": "x",
         "y": [
          12.94282054901123,
          3.030543088912964,
          3.6635072231292725,
          1.9701014757156372,
          -0.05593452230095863,
          14.006936073303223,
          -4.51508092880249,
          -3.913573741912842,
          14.132681846618652,
          -1.8373005390167236,
          4.105058670043945,
          13.072674751281738,
          -4.398728370666504,
          0.1859353631734848,
          2.726592540740967,
          10.028388977050781,
          9.387893676757812,
          2.969367027282715,
          3.532876491546631,
          -4.273531436920166,
          -1.7939785718917847,
          11.448145866394043,
          14.979817390441895,
          -6.468105316162109,
          -12.592435836791992,
          -0.9864441156387329,
          -2.1412668228149414,
          -5.09768009185791,
          2.3145861625671387,
          -11.64214038848877,
          -4.947640895843506,
          14.207530975341797,
          -7.344839572906494,
          -2.8402981758117676,
          0.22990955412387848,
          7.209109306335449,
          7.2436981201171875,
          -0.3884695768356323,
          -13.245662689208984,
          -5.493208885192871,
          4.371467590332031,
          6.8694610595703125,
          6.735304355621338,
          -5.299462795257568,
          -3.5606322288513184,
          -7.577418804168701,
          -6.6102294921875,
          1.3786951303482056,
          -4.467679023742676,
          6.479531764984131,
          -1.5400925874710083,
          -3.9340105056762695,
          4.6708984375,
          12.463008880615234,
          -9.444917678833008,
          -3.3873414993286133,
          -10.774707794189453,
          3.6460354328155518,
          10.210907936096191,
          -4.4685797691345215,
          0.13812559843063354,
          1.5549354553222656,
          -9.423314094543457,
          7.776520729064941,
          0.6611563563346863,
          -6.772706508636475,
          1.7799261808395386,
          -8.750978469848633,
          0.6978331804275513,
          14.257146835327148,
          8.835020065307617,
          -3.038167715072632,
          7.602297306060791,
          9.280895233154297,
          -7.763299465179443,
          -11.218721389770508,
          -9.273049354553223,
          -12.864656448364258,
          -18.241901397705078,
          5.3073344230651855,
          -10.330023765563965,
          2.885368824005127,
          -6.060584545135498,
          14.84554386138916,
          0.8208728432655334,
          6.316864967346191,
          9.17756462097168,
          -3.4198246002197266,
          4.073105812072754,
          -4.30355978012085,
          -1.7970105409622192,
          5.915121078491211,
          -6.536510467529297,
          3.0691757202148438,
          15.15933895111084,
          -7.756598949432373,
          -6.999435901641846,
          8.950774192810059,
          13.516542434692383,
          5.3662614822387695,
          6.28026008605957,
          -0.19141840934753418,
          4.274328231811523,
          14.707398414611816,
          11.117061614990234,
          -7.526605606079102,
          -1.7796884775161743,
          -0.17148825526237488,
          -7.799384117126465,
          -9.9385347366333,
          6.541940689086914,
          -9.686785697937012,
          -3.8095428943634033,
          5.097994804382324,
          -8.946070671081543,
          -3.6618382930755615,
          -13.285737037658691,
          4.656358242034912,
          -2.631709337234497,
          -3.9033403396606445,
          3.412156820297241,
          4.346432685852051,
          4.292697906494141,
          9.949871063232422,
          4.144440650939941,
          1.3768151998519897,
          -7.131828784942627,
          14.492042541503906,
          -8.227861404418945,
          8.203851699829102,
          -3.6920952796936035,
          -7.287822246551514,
          4.531869411468506,
          3.2647690773010254,
          9.037412643432617,
          2.2331624031066895,
          -13.91631031036377,
          1.957526445388794,
          0.17972877621650696,
          1.3926646709442139,
          2.899717092514038,
          1.1226333379745483,
          -4.741002559661865,
          -10.598240852355957,
          -3.237778902053833,
          0.6309404969215393,
          1.7573473453521729,
          -10.106226921081543,
          5.457961559295654,
          -11.510787963867188,
          13.825685501098633,
          -10.534272193908691,
          -0.33120107650756836,
          15.184271812438965,
          -5.133410453796387,
          4.317495346069336,
          -1.1914546489715576,
          -4.522239685058594,
          1.0402518510818481,
          -9.219443321228027,
          -0.06708787381649017,
          1.1763967275619507,
          -8.15353012084961,
          5.433635711669922,
          14.058161735534668,
          -5.299136161804199,
          9.963613510131836,
          -4.5194621086120605,
          -6.548418998718262,
          -1.9018747806549072,
          -5.323436737060547,
          -1.046021819114685,
          -5.9205169677734375,
          -6.347882270812988,
          -11.221385955810547,
          7.885180473327637,
          1.3850055932998657,
          -14.595710754394531,
          0.5525749325752258,
          6.5223002433776855,
          15.00924015045166,
          12.620708465576172,
          -5.894371032714844,
          9.146270751953125,
          -3.1115469932556152,
          -4.277921676635742,
          0.10598549991846085,
          -1.0892963409423828,
          5.903893947601318,
          6.226474761962891,
          0.6191913485527039,
          13.46249008178711,
          2.2403478622436523,
          8.958845138549805,
          -5.887833118438721,
          -6.103879451751709,
          -5.403105735778809,
          -6.597840785980225,
          -8.67356014251709,
          8.655804634094238,
          0.11552416533231735,
          14.26395034790039,
          -7.082577228546143,
          -10.738070487976074,
          -11.519742012023926,
          -2.775801420211792,
          -12.528367042541504,
          0.12517522275447845,
          3.498908281326294,
          5.345875263214111,
          -9.02435302734375,
          -2.1992807388305664,
          1.4777066707611084,
          3.659888505935669,
          3.5785536766052246,
          15.1000337600708,
          7.001089096069336,
          -0.6406880617141724,
          -5.457581043243408,
          4.2165703773498535,
          3.5492379665374756,
          -3.3195321559906006,
          15.219966888427734,
          -6.446621417999268,
          -3.684354782104492,
          14.631793022155762,
          2.4480247497558594,
          -16.491466522216797,
          -7.914119720458984,
          -16.013587951660156,
          -5.33353853225708,
          -1.0876264572143555,
          3.221846342086792,
          1.8133572340011597,
          -3.525564670562744,
          8.260986328125,
          -10.348371505737305,
          -4.292513847351074,
          -2.98405385017395,
          -12.046030044555664,
          -3.324512004852295,
          -10.279491424560547,
          4.075895309448242,
          -6.108700275421143,
          0.2827187180519104,
          -1.837894320487976,
          -4.434964656829834,
          -7.599264144897461,
          -6.309225559234619,
          -9.264652252197266,
          14.986067771911621,
          2.960242986679077,
          5.133868217468262,
          0.41097185015678406,
          2.2673282623291016,
          8.81894302368164,
          -8.061538696289062,
          3.5390686988830566,
          -5.197278022766113,
          -6.700868606567383,
          -8.341002464294434,
          -1.5173392295837402,
          5.807373523712158,
          -6.961581707000732,
          5.70356559753418,
          13.266249656677246,
          -1.0303677320480347,
          3.824216365814209,
          7.995779991149902,
          -12.662285804748535,
          -9.870895385742188,
          -11.081542015075684,
          2.4014999866485596,
          -2.06797194480896,
          -6.144885540008545,
          -6.056339740753174,
          -9.870945930480957,
          9.699835777282715,
          -5.944187164306641,
          -7.967597961425781,
          -13.340447425842285,
          -5.392667293548584,
          -1.619222640991211,
          -0.9312523603439331,
          12.084211349487305,
          -2.31685471534729,
          -13.510293960571289,
          3.7727441787719727,
          13.221357345581055,
          -9.053781509399414,
          9.127785682678223,
          -0.7776447534561157,
          -10.385721206665039,
          -4.97476053237915,
          -8.296035766601562,
          -8.598891258239746,
          6.4911370277404785,
          -5.49534273147583,
          3.2377867698669434,
          4.859023094177246,
          -6.017516136169434,
          1.7587236166000366,
          -6.274747371673584,
          -6.597223281860352,
          -3.259155035018921,
          5.777115345001221,
          12.945141792297363,
          11.446150779724121,
          0.41624513268470764,
          -1.2331464290618896,
          -9.03954792022705,
          -3.703153610229492,
          10.483301162719727,
          8.16992473602295,
          0.23204639554023743,
          -6.824007034301758,
          12.184799194335938,
          7.9928765296936035,
          6.938808441162109,
          1.1021196842193604,
          -9.62392807006836,
          -9.767929077148438,
          9.859989166259766,
          5.718310832977295,
          2.778818368911743,
          5.439865589141846,
          -10.110149383544922,
          1.9333189725875854,
          -8.951351165771484,
          -4.584941387176514,
          -5.344135284423828,
          13.175517082214355,
          0.0046761734411120415,
          8.483013153076172,
          6.989624977111816,
          8.50908374786377,
          9.73592758178711,
          -7.659054279327393,
          -4.46818208694458,
          -4.697946071624756,
          -3.493786573410034,
          12.306437492370605,
          0.410319983959198,
          2.9489235877990723,
          14.32982349395752,
          2.340595245361328,
          2.7342751026153564,
          10.012212753295898,
          1.2653011083602905,
          -4.843220233917236,
          -5.477621555328369,
          1.726657509803772,
          -10.242423057556152,
          7.203105449676514,
          10.852755546569824,
          2.943207025527954,
          4.7520036697387695,
          -2.2550621032714844,
          5.071768760681152,
          6.722827911376953,
          -7.520893573760986,
          -7.677015781402588,
          0.7050352692604065,
          -11.934937477111816,
          7.133447647094727,
          7.832830905914307,
          1.7964563369750977,
          2.8560478687286377,
          -3.009972095489502,
          6.045888900756836,
          -9.526154518127441,
          -2.0614449977874756,
          -7.355849742889404,
          5.804162502288818,
          1.717231273651123,
          9.920221328735352,
          -0.2760840952396393,
          13.504708290100098,
          2.7253003120422363,
          12.329206466674805,
          -5.817923069000244,
          -3.5920939445495605,
          0.29583558440208435,
          -11.927773475646973,
          -2.145536422729492,
          11.278242111206055,
          -0.1636345237493515,
          7.482247829437256,
          12.141013145446777,
          0.3621657192707062,
          -10.674452781677246,
          0.41875478625297546,
          -0.8036680221557617,
          4.021505355834961,
          3.548839569091797,
          -7.71609354019165,
          7.207180500030518,
          -9.166827201843262,
          14.610962867736816,
          -3.668269395828247,
          5.127745151519775,
          -3.469069004058838,
          -1.6363990306854248,
          -0.8943741917610168,
          6.76548957824707,
          -3.4860615730285645,
          3.9523088932037354,
          0.010760253295302391,
          4.749363899230957,
          -2.2953484058380127,
          5.563838481903076,
          2.5919041633605957,
          1.6373873949050903,
          4.941215991973877,
          -9.368407249450684,
          11.34377384185791,
          5.564268589019775,
          15.060540199279785,
          -15.452059745788574,
          -4.526696681976318,
          4.6850762367248535,
          11.31863784790039,
          -9.543320655822754,
          -11.389639854431152,
          -6.5581769943237305,
          2.674849510192871,
          -18.17365837097168,
          -13.556632995605469,
          0.7924125790596008,
          -11.560879707336426,
          10.138784408569336,
          -11.949337005615234
         ],
         "yaxis": "y"
        }
       ],
       "layout": {
        "coloraxis": {
         "colorbar": {
          "title": {
           "text": "cluster"
          }
         },
         "colorscale": [
          [
           0,
           "#0d0887"
          ],
          [
           0.1111111111111111,
           "#46039f"
          ],
          [
           0.2222222222222222,
           "#7201a8"
          ],
          [
           0.3333333333333333,
           "#9c179e"
          ],
          [
           0.4444444444444444,
           "#bd3786"
          ],
          [
           0.5555555555555556,
           "#d8576b"
          ],
          [
           0.6666666666666666,
           "#ed7953"
          ],
          [
           0.7777777777777778,
           "#fb9f3a"
          ],
          [
           0.8888888888888888,
           "#fdca26"
          ],
          [
           1,
           "#f0f921"
          ]
         ]
        },
        "height": 600,
        "legend": {
         "tracegroupgap": 0
        },
        "template": {
         "data": {
          "bar": [
           {
            "error_x": {
             "color": "#2a3f5f"
            },
            "error_y": {
             "color": "#2a3f5f"
            },
            "marker": {
             "line": {
              "color": "#E5ECF6",
              "width": 0.5
             },
             "pattern": {
              "fillmode": "overlay",
              "size": 10,
              "solidity": 0.2
             }
            },
            "type": "bar"
           }
          ],
          "barpolar": [
           {
            "marker": {
             "line": {
              "color": "#E5ECF6",
              "width": 0.5
             },
             "pattern": {
              "fillmode": "overlay",
              "size": 10,
              "solidity": 0.2
             }
            },
            "type": "barpolar"
           }
          ],
          "carpet": [
           {
            "aaxis": {
             "endlinecolor": "#2a3f5f",
             "gridcolor": "white",
             "linecolor": "white",
             "minorgridcolor": "white",
             "startlinecolor": "#2a3f5f"
            },
            "baxis": {
             "endlinecolor": "#2a3f5f",
             "gridcolor": "white",
             "linecolor": "white",
             "minorgridcolor": "white",
             "startlinecolor": "#2a3f5f"
            },
            "type": "carpet"
           }
          ],
          "choropleth": [
           {
            "colorbar": {
             "outlinewidth": 0,
             "ticks": ""
            },
            "type": "choropleth"
           }
          ],
          "contour": [
           {
            "colorbar": {
             "outlinewidth": 0,
             "ticks": ""
            },
            "colorscale": [
             [
              0,
              "#0d0887"
             ],
             [
              0.1111111111111111,
              "#46039f"
             ],
             [
              0.2222222222222222,
              "#7201a8"
             ],
             [
              0.3333333333333333,
              "#9c179e"
             ],
             [
              0.4444444444444444,
              "#bd3786"
             ],
             [
              0.5555555555555556,
              "#d8576b"
             ],
             [
              0.6666666666666666,
              "#ed7953"
             ],
             [
              0.7777777777777778,
              "#fb9f3a"
             ],
             [
              0.8888888888888888,
              "#fdca26"
             ],
             [
              1,
              "#f0f921"
             ]
            ],
            "type": "contour"
           }
          ],
          "contourcarpet": [
           {
            "colorbar": {
             "outlinewidth": 0,
             "ticks": ""
            },
            "type": "contourcarpet"
           }
          ],
          "heatmap": [
           {
            "colorbar": {
             "outlinewidth": 0,
             "ticks": ""
            },
            "colorscale": [
             [
              0,
              "#0d0887"
             ],
             [
              0.1111111111111111,
              "#46039f"
             ],
             [
              0.2222222222222222,
              "#7201a8"
             ],
             [
              0.3333333333333333,
              "#9c179e"
             ],
             [
              0.4444444444444444,
              "#bd3786"
             ],
             [
              0.5555555555555556,
              "#d8576b"
             ],
             [
              0.6666666666666666,
              "#ed7953"
             ],
             [
              0.7777777777777778,
              "#fb9f3a"
             ],
             [
              0.8888888888888888,
              "#fdca26"
             ],
             [
              1,
              "#f0f921"
             ]
            ],
            "type": "heatmap"
           }
          ],
          "heatmapgl": [
           {
            "colorbar": {
             "outlinewidth": 0,
             "ticks": ""
            },
            "colorscale": [
             [
              0,
              "#0d0887"
             ],
             [
              0.1111111111111111,
              "#46039f"
             ],
             [
              0.2222222222222222,
              "#7201a8"
             ],
             [
              0.3333333333333333,
              "#9c179e"
             ],
             [
              0.4444444444444444,
              "#bd3786"
             ],
             [
              0.5555555555555556,
              "#d8576b"
             ],
             [
              0.6666666666666666,
              "#ed7953"
             ],
             [
              0.7777777777777778,
              "#fb9f3a"
             ],
             [
              0.8888888888888888,
              "#fdca26"
             ],
             [
              1,
              "#f0f921"
             ]
            ],
            "type": "heatmapgl"
           }
          ],
          "histogram": [
           {
            "marker": {
             "pattern": {
              "fillmode": "overlay",
              "size": 10,
              "solidity": 0.2
             }
            },
            "type": "histogram"
           }
          ],
          "histogram2d": [
           {
            "colorbar": {
             "outlinewidth": 0,
             "ticks": ""
            },
            "colorscale": [
             [
              0,
              "#0d0887"
             ],
             [
              0.1111111111111111,
              "#46039f"
             ],
             [
              0.2222222222222222,
              "#7201a8"
             ],
             [
              0.3333333333333333,
              "#9c179e"
             ],
             [
              0.4444444444444444,
              "#bd3786"
             ],
             [
              0.5555555555555556,
              "#d8576b"
             ],
             [
              0.6666666666666666,
              "#ed7953"
             ],
             [
              0.7777777777777778,
              "#fb9f3a"
             ],
             [
              0.8888888888888888,
              "#fdca26"
             ],
             [
              1,
              "#f0f921"
             ]
            ],
            "type": "histogram2d"
           }
          ],
          "histogram2dcontour": [
           {
            "colorbar": {
             "outlinewidth": 0,
             "ticks": ""
            },
            "colorscale": [
             [
              0,
              "#0d0887"
             ],
             [
              0.1111111111111111,
              "#46039f"
             ],
             [
              0.2222222222222222,
              "#7201a8"
             ],
             [
              0.3333333333333333,
              "#9c179e"
             ],
             [
              0.4444444444444444,
              "#bd3786"
             ],
             [
              0.5555555555555556,
              "#d8576b"
             ],
             [
              0.6666666666666666,
              "#ed7953"
             ],
             [
              0.7777777777777778,
              "#fb9f3a"
             ],
             [
              0.8888888888888888,
              "#fdca26"
             ],
             [
              1,
              "#f0f921"
             ]
            ],
            "type": "histogram2dcontour"
           }
          ],
          "mesh3d": [
           {
            "colorbar": {
             "outlinewidth": 0,
             "ticks": ""
            },
            "type": "mesh3d"
           }
          ],
          "parcoords": [
           {
            "line": {
             "colorbar": {
              "outlinewidth": 0,
              "ticks": ""
             }
            },
            "type": "parcoords"
           }
          ],
          "pie": [
           {
            "automargin": true,
            "type": "pie"
           }
          ],
          "scatter": [
           {
            "fillpattern": {
             "fillmode": "overlay",
             "size": 10,
             "solidity": 0.2
            },
            "type": "scatter"
           }
          ],
          "scatter3d": [
           {
            "line": {
             "colorbar": {
              "outlinewidth": 0,
              "ticks": ""
             }
            },
            "marker": {
             "colorbar": {
              "outlinewidth": 0,
              "ticks": ""
             }
            },
            "type": "scatter3d"
           }
          ],
          "scattercarpet": [
           {
            "marker": {
             "colorbar": {
              "outlinewidth": 0,
              "ticks": ""
             }
            },
            "type": "scattercarpet"
           }
          ],
          "scattergeo": [
           {
            "marker": {
             "colorbar": {
              "outlinewidth": 0,
              "ticks": ""
             }
            },
            "type": "scattergeo"
           }
          ],
          "scattergl": [
           {
            "marker": {
             "colorbar": {
              "outlinewidth": 0,
              "ticks": ""
             }
            },
            "type": "scattergl"
           }
          ],
          "scattermapbox": [
           {
            "marker": {
             "colorbar": {
              "outlinewidth": 0,
              "ticks": ""
             }
            },
            "type": "scattermapbox"
           }
          ],
          "scatterpolar": [
           {
            "marker": {
             "colorbar": {
              "outlinewidth": 0,
              "ticks": ""
             }
            },
            "type": "scatterpolar"
           }
          ],
          "scatterpolargl": [
           {
            "marker": {
             "colorbar": {
              "outlinewidth": 0,
              "ticks": ""
             }
            },
            "type": "scatterpolargl"
           }
          ],
          "scatterternary": [
           {
            "marker": {
             "colorbar": {
              "outlinewidth": 0,
              "ticks": ""
             }
            },
            "type": "scatterternary"
           }
          ],
          "surface": [
           {
            "colorbar": {
             "outlinewidth": 0,
             "ticks": ""
            },
            "colorscale": [
             [
              0,
              "#0d0887"
             ],
             [
              0.1111111111111111,
              "#46039f"
             ],
             [
              0.2222222222222222,
              "#7201a8"
             ],
             [
              0.3333333333333333,
              "#9c179e"
             ],
             [
              0.4444444444444444,
              "#bd3786"
             ],
             [
              0.5555555555555556,
              "#d8576b"
             ],
             [
              0.6666666666666666,
              "#ed7953"
             ],
             [
              0.7777777777777778,
              "#fb9f3a"
             ],
             [
              0.8888888888888888,
              "#fdca26"
             ],
             [
              1,
              "#f0f921"
             ]
            ],
            "type": "surface"
           }
          ],
          "table": [
           {
            "cells": {
             "fill": {
              "color": "#EBF0F8"
             },
             "line": {
              "color": "white"
             }
            },
            "header": {
             "fill": {
              "color": "#C8D4E3"
             },
             "line": {
              "color": "white"
             }
            },
            "type": "table"
           }
          ]
         },
         "layout": {
          "annotationdefaults": {
           "arrowcolor": "#2a3f5f",
           "arrowhead": 0,
           "arrowwidth": 1
          },
          "autotypenumbers": "strict",
          "coloraxis": {
           "colorbar": {
            "outlinewidth": 0,
            "ticks": ""
           }
          },
          "colorscale": {
           "diverging": [
            [
             0,
             "#8e0152"
            ],
            [
             0.1,
             "#c51b7d"
            ],
            [
             0.2,
             "#de77ae"
            ],
            [
             0.3,
             "#f1b6da"
            ],
            [
             0.4,
             "#fde0ef"
            ],
            [
             0.5,
             "#f7f7f7"
            ],
            [
             0.6,
             "#e6f5d0"
            ],
            [
             0.7,
             "#b8e186"
            ],
            [
             0.8,
             "#7fbc41"
            ],
            [
             0.9,
             "#4d9221"
            ],
            [
             1,
             "#276419"
            ]
           ],
           "sequential": [
            [
             0,
             "#0d0887"
            ],
            [
             0.1111111111111111,
             "#46039f"
            ],
            [
             0.2222222222222222,
             "#7201a8"
            ],
            [
             0.3333333333333333,
             "#9c179e"
            ],
            [
             0.4444444444444444,
             "#bd3786"
            ],
            [
             0.5555555555555556,
             "#d8576b"
            ],
            [
             0.6666666666666666,
             "#ed7953"
            ],
            [
             0.7777777777777778,
             "#fb9f3a"
            ],
            [
             0.8888888888888888,
             "#fdca26"
            ],
            [
             1,
             "#f0f921"
            ]
           ],
           "sequentialminus": [
            [
             0,
             "#0d0887"
            ],
            [
             0.1111111111111111,
             "#46039f"
            ],
            [
             0.2222222222222222,
             "#7201a8"
            ],
            [
             0.3333333333333333,
             "#9c179e"
            ],
            [
             0.4444444444444444,
             "#bd3786"
            ],
            [
             0.5555555555555556,
             "#d8576b"
            ],
            [
             0.6666666666666666,
             "#ed7953"
            ],
            [
             0.7777777777777778,
             "#fb9f3a"
            ],
            [
             0.8888888888888888,
             "#fdca26"
            ],
            [
             1,
             "#f0f921"
            ]
           ]
          },
          "colorway": [
           "#636efa",
           "#EF553B",
           "#00cc96",
           "#ab63fa",
           "#FFA15A",
           "#19d3f3",
           "#FF6692",
           "#B6E880",
           "#FF97FF",
           "#FECB52"
          ],
          "font": {
           "color": "#2a3f5f"
          },
          "geo": {
           "bgcolor": "white",
           "lakecolor": "white",
           "landcolor": "#E5ECF6",
           "showlakes": true,
           "showland": true,
           "subunitcolor": "white"
          },
          "hoverlabel": {
           "align": "left"
          },
          "hovermode": "closest",
          "mapbox": {
           "style": "light"
          },
          "paper_bgcolor": "white",
          "plot_bgcolor": "#E5ECF6",
          "polar": {
           "angularaxis": {
            "gridcolor": "white",
            "linecolor": "white",
            "ticks": ""
           },
           "bgcolor": "#E5ECF6",
           "radialaxis": {
            "gridcolor": "white",
            "linecolor": "white",
            "ticks": ""
           }
          },
          "scene": {
           "xaxis": {
            "backgroundcolor": "#E5ECF6",
            "gridcolor": "white",
            "gridwidth": 2,
            "linecolor": "white",
            "showbackground": true,
            "ticks": "",
            "zerolinecolor": "white"
           },
           "yaxis": {
            "backgroundcolor": "#E5ECF6",
            "gridcolor": "white",
            "gridwidth": 2,
            "linecolor": "white",
            "showbackground": true,
            "ticks": "",
            "zerolinecolor": "white"
           },
           "zaxis": {
            "backgroundcolor": "#E5ECF6",
            "gridcolor": "white",
            "gridwidth": 2,
            "linecolor": "white",
            "showbackground": true,
            "ticks": "",
            "zerolinecolor": "white"
           }
          },
          "shapedefaults": {
           "line": {
            "color": "#2a3f5f"
           }
          },
          "ternary": {
           "aaxis": {
            "gridcolor": "white",
            "linecolor": "white",
            "ticks": ""
           },
           "baxis": {
            "gridcolor": "white",
            "linecolor": "white",
            "ticks": ""
           },
           "bgcolor": "#E5ECF6",
           "caxis": {
            "gridcolor": "white",
            "linecolor": "white",
            "ticks": ""
           }
          },
          "title": {
           "x": 0.05
          },
          "xaxis": {
           "automargin": true,
           "gridcolor": "white",
           "linecolor": "white",
           "ticks": "",
           "title": {
            "standoff": 15
           },
           "zerolinecolor": "white",
           "zerolinewidth": 2
          },
          "yaxis": {
           "automargin": true,
           "gridcolor": "white",
           "linecolor": "white",
           "ticks": "",
           "title": {
            "standoff": 15
           },
           "zerolinecolor": "white",
           "zerolinewidth": 2
          }
         }
        },
        "title": {
         "text": "NBA Players Clustering (t-SNE)"
        },
        "width": 800,
        "xaxis": {
         "anchor": "y",
         "domain": [
          0,
          1
         ],
         "title": {
          "text": "t-SNE Component 1"
         }
        },
        "yaxis": {
         "anchor": "x",
         "domain": [
          0,
          1
         ],
         "title": {
          "text": "t-SNE Component 2"
         }
        }
       }
      }
     },
     "metadata": {},
     "output_type": "display_data"
    }
   ],
   "source": [
    "reg_preprocessor = ColumnTransformer(\n",
    "    transformers=[\n",
    "        ('num', StandardScaler(), X.columns),\n",
    "        ('cat', OneHotEncoder(), ['Pos'])\n",
    "    ]\n",
    ")\n",
    "\n",
    "\n",
    "X_processed = reg_preprocessor.fit_transform(X)\n",
    "\n",
    "kmeans = KMeans(n_clusters=4, random_state=42)\n",
    "reg_stats['cluster'] = kmeans.fit_predict(X_processed)\n",
    "\n",
    "# Reduce dimensions for visualization using t-SNE\n",
    "tsne = TSNE(n_components=2, random_state=42) \n",
    "X_tsne = tsne.fit_transform(X_processed) \n",
    "\n",
    "# Add the t-SNE components to the DataFrame for plotting\n",
    "reg_stats['TSNE1'] = X_tsne[:, 0]  \n",
    "reg_stats['TSNE2'] = X_tsne[:, 1]\n",
    "\n",
    "# Create a scatter plot using Plotly\n",
    "fig = px.scatter(\n",
    "    reg_stats,\n",
    "    x='TSNE1',\n",
    "    y='TSNE2',\n",
    "    color='cluster',\n",
    "    hover_name=reg_stats['Player'], \n",
    "    title='NBA Players Clustering (t-SNE)',\n",
    "    labels={'TSNE1': 't-SNE Component 1', 'TSNE2': 't-SNE Component 2'},\n",
    ")\n",
    "\n",
    "# Update the layout for the plot dimensions\n",
    "fig.update_layout(\n",
    "    width=800,  # Width of the plot in pixels\n",
    "    height=600  # Height of the plot in pixels\n",
    ")\n",
    "\n",
    "# Show the plot\n",
    "fig.show()\n"
   ]
  },
  {
   "cell_type": "code",
   "execution_count": null,
   "metadata": {},
   "outputs": [
    {
     "data": {
      "application/vnd.plotly.v1+json": {
       "config": {
        "plotlyServerURL": "https://plot.ly"
       },
       "data": [
        {
         "hovertemplate": "<b>%{hovertext}</b><br><br>TSNE Component 1=%{x}<br>TSNE Component 2=%{y}<br>point_size=%{marker.size}<br>cluster=%{marker.color}<extra></extra>",
         "hovertext": [
          "Bam Adebayo",
          "Ochai Agbaji",
          "Santi Aldama",
          "Nickeil Alexander-Walker",
          "Grayson Allen",
          "Jarrett Allen",
          "Jose Alvarado",
          "Kyle Anderson",
          "Giannis Antetokounmpo",
          "Cole Anthony",
          "Deni Avdija",
          "Marvin Bagley III",
          "Amari Bailey",
          "Patrick Baldwin Jr.",
          "LaMelo Ball",
          "Mo Bamba",
          "Paolo Banchero",
          "Desmond Bane",
          "Dalano Banton",
          "Dominick Barlow",
          "Harrison Barnes",
          "Scottie Barnes",
          "Charles Bassey",
          "Emoni Bates",
          "Keita Bates-Diop",
          "Bradley Beal",
          "Malik Beasley",
          "MarJon Beauchamp",
          "Dāvis Bertāns",
          "Patrick Beverley",
          "Saddiq Bey",
          "Goga Bitadze",
          "Anthony Black",
          "Bogdan Bogdanović",
          "Bojan Bogdanović",
          "Bol Bol",
          "Devin Booker",
          "Brandon Boston Jr.",
          "Chris Boucher",
          "Malaki Branham",
          "Christian Braun",
          "Mikal Bridges",
          "Miles Bridges",
          "Oshae Brissett",
          "Malcolm Brogdon",
          "Armoni Brooks",
          "Dillon Brooks",
          "Bruce Brown",
          "Greg Brown III",
          "Jaylen Brown",
          "Kobe Brown",
          "Troy Brown Jr.",
          "Jalen Brunson",
          "Thomas Bryant",
          "Kobe Bufkin",
          "Reggie Bullock",
          "Alec Burks",
          "Jared Butler",
          "Jimmy Butler",
          "Jamal Cain",
          "Kentavious Caldwell-Pope",
          "Toumani Camara",
          "Jevon Carter",
          "Wendell Carter Jr.",
          "Alex Caruso",
          "Julian Champagnie",
          "Max Christie",
          "Sidy Cissoko",
          "Jordan Clarkson",
          "Nic Claxton",
          "Noah Clowney",
          "Amir Coffey",
          "John Collins",
          "Zach Collins",
          "Mike Conley",
          "Pat Connaughton",
          "Bilal Coulibaly",
          "Torrey Craig",
          "Jae Crowder",
          "Cade Cunningham",
          "Seth Curry",
          "Stephen Curry",
          "Dyson Daniels",
          "Anthony Davis",
          "Johnny Davis",
          "Dexter Dennis",
          "DeMar DeRozan",
          "Gradey Dick",
          "Ousmane Dieng",
          "Spencer Dinwiddie",
          "Donte DiVincenzo",
          "Luka Dončić",
          "Luguentz Dort",
          "Ayo Dosunmu",
          "Andre Drummond",
          "Chris Duarte",
          "Kris Dunn",
          "Kevin Durant",
          "Jalen Duren",
          "Tari Eason",
          "Anthony Edwards",
          "Kessler Edwards",
          "Keon Ellis",
          "Joel Embiid",
          "Drew Eubanks",
          "Dante Exum",
          "Bruno Fernando",
          "Dorian Finney-Smith",
          "Malachi Flynn",
          "Simone Fontecchio",
          "Jordan Ford",
          "Trent Forrest",
          "Evan Fournier",
          "De'Aaron Fox",
          "Alex Fudge",
          "Markelle Fultz",
          "Danilo Gallinari",
          "Darius Garland",
          "Luka Garza",
          "Keyonte George",
          "Paul George",
          "Josh Giddey",
          "Harry Giles",
          "Shai Gilgeous-Alexander",
          "Anthony Gill",
          "Collin Gillespie",
          "Jacob Gilyard",
          "Rudy Gobert",
          "Jordan Goodwin",
          "Aaron Gordon",
          "Eric Gordon",
          "Devonte' Graham",
          "Jerami Grant",
          "A.J. Green",
          "Draymond Green",
          "Jalen Green",
          "Jeff Green",
          "Josh Green",
          "AJ Griffin",
          "Quentin Grimes",
          "Rui Hachimura",
          "Tyrese Haliburton",
          "R.J. Hampton",
          "Tim Hardaway Jr.",
          "James Harden",
          "Jaden Hardy",
          "Gary Harris",
          "Joe Harris",
          "Tobias Harris",
          "Josh Hart",
          "Isaiah Hartenstein",
          "Sam Hauser",
          "Jordan Hawkins",
          "Jaxson Hayes",
          "Killian Hayes",
          "Gordon Hayward",
          "Scoot Henderson",
          "Taylor Hendricks",
          "Tyler Herro",
          "Buddy Hield",
          "Haywood Highsmith",
          "D'Moi Hodge",
          "Aaron Holiday",
          "Jrue Holiday",
          "Chet Holmgren",
          "Jalen Hood-Schifino",
          "Al Horford",
          "Talen Horton-Tucker",
          "Danuel House Jr.",
          "Caleb Houstan",
          "Jett Howard",
          "Kevin Huerter",
          "De'Andre Hunter",
          "Bones Hyland",
          "Joe Ingles",
          "Brandon Ingram",
          "Kyrie Irving",
          "Jonathan Isaac",
          "Jaden Ivey",
          "Andre Jackson Jr.",
          "Isaiah Jackson",
          "Jaren Jackson Jr.",
          "Reggie Jackson",
          "LeBron James",
          "Jaime Jaquez Jr.",
          "DaQuan Jeffries",
          "Isaiah Joe",
          "Cameron Johnson",
          "Jalen Johnson",
          "Keldon Johnson",
          "Keon Johnson",
          "Nikola Jokić",
          "Colby Jones",
          "Damian Jones",
          "Derrick Jones Jr.",
          "Herbert Jones",
          "Tre Jones",
          "Tyus Jones",
          "Cory Joseph",
          "Nikola Jović",
          "Luke Kennard",
          "Walker Kessler",
          "Braxton Key",
          "Corey Kispert",
          "Maxi Kleber",
          "Kevin Knox",
          "John Konchar",
          "Furkan Korkmaz",
          "Jonathan Kuminga",
          "Kyle Kuzma",
          "Jock Landale",
          "Jake LaRavia",
          "Zach LaVine",
          "A.J. Lawson",
          "Saben Lee",
          "Alex Len",
          "Kawhi Leonard",
          "Caris LeVert",
          "Kira Lewis Jr.",
          "E.J. Liddell",
          "Damian Lillard",
          "Nassir Little",
          "Dereck Lively II",
          "Isaiah Livers",
          "Kenneth Lofton Jr.",
          "Brook Lopez",
          "Robin Lopez",
          "Kevin Love",
          "Kyle Lowry",
          "Trey Lyles",
          "Théo Maledon",
          "Sandro Mamukelashvili",
          "Terance Mann",
          "Tre Mann",
          "Boban Marjanović",
          "Lauri Markkanen",
          "Naji Marshall",
          "Caleb Martin",
          "Cody Martin",
          "Garrison Mathews",
          "Bennedict Mathurin",
          "Wesley Matthews",
          "Tyrese Maxey",
          "Skylar Mays",
          "Miles McBride",
          "CJ McCollum",
          "T.J. McConnell",
          "Jaden McDaniels",
          "Jalen McDaniels",
          "Doug McDermott",
          "JaVale McGee",
          "Bryce McGowens",
          "Jordan McLaughlin",
          "De'Anthony Melton",
          "Sam Merrill",
          "Chimezie Metu",
          "Vasilije Micić",
          "Khris Middleton",
          "Brandon Miller",
          "Dariq Whitehead",
          "Shake Milton",
          "Justin Minaya",
          "Josh Minott",
          "Davion Mitchell",
          "Donovan Mitchell",
          "Evan Mobley",
          "Malik Monk",
          "Moses Moody",
          "Ja Morant",
          "Marcus Morris",
          "Markieff Morris",
          "Trey Murphy III",
          "Dejounte Murray",
          "Jamal Murray",
          "Keegan Murray",
          "Kris Murray",
          "Mike Muscala",
          "Larry Nance Jr.",
          "Andrew Nembhard",
          "Aaron Nesmith",
          "Georges Niang",
          "Daishen Nix",
          "Zeke Nnaji",
          "Jaylen Nowell",
          "Jusuf Nurkić",
          "Jordan Nwora",
          "Royce O'Neale",
          "Josh Okogie",
          "Onyeka Okongwu",
          "Isaac Okoro",
          "Kelly Olynyk",
          "Eugene Omoruyi",
          "Cedi Osman",
          "Kelly Oubre Jr.",
          "Chris Paul",
          "Cameron Payne",
          "Gary Payton II",
          "Julian Phillips",
          "Jalen Pickett",
          "Brandin Podziemski",
          "Aleksej Pokusevski",
          "Jordan Poole",
          "Craig Porter Jr.",
          "Michael Porter Jr.",
          "Otto Porter Jr.",
          "Bobby Portis",
          "Kristaps Porziņģis",
          "Dwight Powell",
          "Norman Powell",
          "Taurean Prince",
          "Payton Pritchard",
          "Olivier-Maxence Prosper",
          "Julius Randle",
          "Duop Reath",
          "Austin Reaves",
          "Cam Reddish",
          "Paul Reed",
          "Naz Reid",
          "Jared Rhoden",
          "Josh Richardson",
          "Duncan Robinson",
          "Jerome Robinson",
          "Orlando Robinson",
          "Jeremiah Robinson-Earl",
          "David Roddy",
          "Ryan Rollins",
          "Derrick Rose",
          "Terry Rozier",
          "Rayan Rupert",
          "D'Angelo Russell",
          "Matt Ryan",
          "Domantas Sabonis",
          "Luka Šamanić",
          "Jermaine Samuels",
          "Gui Santos",
          "Dario Šarić",
          "Olivier Sarr",
          "Marcus Sasser",
          "Admiral Schofield",
          "Dennis Schröder",
          "Dereon Seabron",
          "Alperen Şengün",
          "Collin Sexton",
          "Landry Shamet",
          "Day'Ron Sharpe",
          "Shaedon Sharpe",
          "Ben Sheppard",
          "Pascal Siakam",
          "Anfernee Simons",
          "Marcus Smart",
          "Dennis Smith Jr.",
          "Dru Smith",
          "Ish Smith",
          "Jabari Smith Jr.",
          "Jalen Smith",
          "Nick Smith Jr.",
          "Jeremy Sochan",
          "Jaden Springer",
          "Lamar Stevens",
          "Isaiah Stewart",
          "Julian Strawther",
          "Max Strus",
          "Jalen Suggs",
          "Jae'Sean Tate",
          "Jayson Tatum",
          "Garrett Temple",
          "Dalen Terry",
          "Cam Thomas",
          "Amen Thompson",
          "Ausar Thompson",
          "Klay Thompson",
          "JT Thor",
          "Matisse Thybulle",
          "Xavier Tillman Sr.",
          "Obi Toppin",
          "Karl-Anthony Towns",
          "Gary Trent Jr.",
          "Myles Turner",
          "Stanley Umude",
          "Jonas Valančiūnas",
          "Jarred Vanderbilt",
          "Fred VanVleet",
          "Devin Vassell",
          "Sasha Vezenkov",
          "Gabe Vincent",
          "Nikola Vučević",
          "Dean Wade",
          "Franz Wagner",
          "Moritz Wagner",
          "Ish Wainright",
          "Jabari Walker",
          "Jarace Walker",
          "Lonnie Walker IV",
          "Cason Wallace",
          "P.J. Washington",
          "Yuta Watanabe",
          "Trendon Watford",
          "Peyton Watson",
          "Victor Wembanyama",
          "Blake Wesley",
          "Russell Westbrook",
          "Coby White",
          "Derrick White",
          "Cam Whitmore",
          "Aaron Wiggins",
          "Andrew Wiggins",
          "Lindell Wigginton",
          "Grant Williams",
          "Jalen Williams",
          "Jaylin Williams",
          "Jeenathan Williams",
          "Kenrich Williams",
          "Patrick Williams",
          "Vince Williams Jr.",
          "Ziaire Williams",
          "Zion Williamson",
          "Jalen Wilson",
          "James Wiseman",
          "Christian Wood",
          "Delon Wright",
          "Trae Young",
          "Omer Yurtseven",
          "Cody Zeller",
          "Precious Achiuwa",
          "OG Anunoby",
          "RJ Barrett",
          "Nicolas Batum",
          "Robert Covington",
          "KJ Martin",
          "Immanuel Quickley",
          "Daniel Theis",
          "P.J. Tucker"
         ],
         "legendgroup": "",
         "marker": {
          "color": [
           0,
           1,
           2,
           1,
           2,
           2,
           1,
           1,
           0,
           2,
           2,
           1,
           3,
           3,
           0,
           1,
           0,
           0,
           3,
           3,
           2,
           0,
           1,
           3,
           1,
           2,
           2,
           1,
           3,
           1,
           2,
           2,
           1,
           2,
           2,
           1,
           0,
           3,
           1,
           1,
           1,
           0,
           0,
           1,
           2,
           3,
           2,
           2,
           3,
           0,
           1,
           1,
           0,
           1,
           3,
           3,
           1,
           1,
           0,
           1,
           2,
           2,
           1,
           2,
           2,
           1,
           1,
           3,
           0,
           2,
           1,
           1,
           2,
           2,
           2,
           1,
           1,
           1,
           1,
           0,
           1,
           0,
           1,
           0,
           3,
           1,
           0,
           3,
           1,
           2,
           2,
           0,
           2,
           1,
           2,
           1,
           1,
           0,
           2,
           2,
           0,
           3,
           1,
           0,
           1,
           1,
           3,
           2,
           1,
           1,
           1,
           3,
           3,
           0,
           3,
           2,
           1,
           0,
           3,
           2,
           0,
           2,
           3,
           0,
           3,
           3,
           1,
           2,
           1,
           2,
           2,
           3,
           0,
           1,
           2,
           2,
           1,
           1,
           3,
           1,
           1,
           0,
           3,
           2,
           0,
           1,
           1,
           3,
           2,
           2,
           2,
           1,
           1,
           1,
           2,
           2,
           2,
           1,
           0,
           2,
           1,
           3,
           1,
           2,
           2,
           3,
           2,
           2,
           1,
           1,
           3,
           2,
           2,
           1,
           1,
           0,
           0,
           1,
           2,
           1,
           1,
           0,
           2,
           0,
           2,
           3,
           1,
           2,
           2,
           2,
           1,
           0,
           3,
           1,
           2,
           2,
           1,
           2,
           3,
           1,
           1,
           2,
           3,
           1,
           3,
           1,
           1,
           3,
           2,
           0,
           3,
           3,
           0,
           1,
           3,
           1,
           0,
           2,
           3,
           3,
           0,
           1,
           2,
           3,
           3,
           2,
           3,
           2,
           2,
           1,
           3,
           3,
           1,
           1,
           3,
           0,
           1,
           2,
           1,
           3,
           2,
           3,
           0,
           1,
           1,
           0,
           1,
           2,
           3,
           1,
           1,
           1,
           1,
           2,
           1,
           1,
           3,
           2,
           2,
           3,
           1,
           3,
           3,
           3,
           0,
           2,
           2,
           1,
           0,
           1,
           3,
           2,
           0,
           0,
           2,
           3,
           1,
           1,
           1,
           2,
           1,
           3,
           1,
           3,
           2,
           1,
           2,
           1,
           2,
           2,
           2,
           1,
           1,
           2,
           2,
           1,
           1,
           3,
           1,
           2,
           3,
           2,
           1,
           2,
           1,
           2,
           0,
           1,
           2,
           2,
           1,
           3,
           0,
           1,
           2,
           1,
           1,
           2,
           1,
           1,
           2,
           3,
           1,
           1,
           1,
           1,
           1,
           0,
           3,
           2,
           1,
           0,
           3,
           1,
           1,
           2,
           1,
           1,
           3,
           2,
           3,
           0,
           2,
           1,
           2,
           2,
           3,
           0,
           0,
           2,
           1,
           1,
           1,
           2,
           1,
           1,
           2,
           3,
           1,
           2,
           1,
           2,
           2,
           1,
           0,
           1,
           3,
           0,
           1,
           2,
           2,
           3,
           1,
           1,
           2,
           0,
           1,
           2,
           1,
           2,
           3,
           0,
           2,
           1,
           1,
           2,
           1,
           0,
           2,
           3,
           1,
           3,
           1,
           1,
           2,
           1,
           1,
           1,
           0,
           3,
           2,
           2,
           2,
           1,
           1,
           2,
           3,
           2,
           2,
           1,
           3,
           1,
           2,
           1,
           1,
           0,
           1,
           1,
           1,
           1,
           0,
           1,
           3,
           1,
           2,
           2,
           1,
           1,
           3,
           2,
           1,
           3
          ],
          "coloraxis": "coloraxis",
          "size": [
           1,
           1,
           1,
           1,
           1,
           1,
           1,
           1,
           1,
           1,
           1,
           1,
           1,
           1,
           1,
           1,
           1,
           1,
           1,
           1,
           1,
           1,
           1,
           1,
           1,
           1,
           1,
           1,
           1,
           1,
           1,
           1,
           1,
           1,
           1,
           1,
           1,
           1,
           1,
           1,
           1,
           1,
           1,
           1,
           1,
           1,
           1,
           1,
           1,
           1,
           1,
           1,
           1,
           1,
           1,
           1,
           1,
           1,
           1,
           1,
           1,
           1,
           1,
           1,
           1,
           1,
           1,
           1,
           1,
           1,
           1,
           1,
           1,
           1,
           1,
           1,
           1,
           1,
           1,
           1,
           1,
           1,
           1,
           1,
           1,
           1,
           1,
           1,
           1,
           1,
           1,
           1,
           1,
           1,
           1,
           1,
           1,
           1,
           1,
           1,
           1,
           1,
           1,
           1,
           1,
           1,
           1,
           1,
           1,
           1,
           1,
           1,
           1,
           1,
           1,
           1,
           1,
           1,
           1,
           1,
           1,
           1,
           1,
           1,
           1,
           1,
           1,
           1,
           1,
           1,
           1,
           1,
           1,
           1,
           1,
           1,
           1,
           1,
           1,
           1,
           1,
           1,
           1,
           1,
           1,
           1,
           1,
           1,
           1,
           1,
           1,
           1,
           1,
           1,
           1,
           1,
           1,
           1,
           1,
           1,
           1,
           1,
           1,
           1,
           1,
           1,
           1,
           1,
           1,
           1,
           1,
           1,
           1,
           1,
           1,
           1,
           1,
           1,
           1,
           1,
           1,
           1,
           1,
           1,
           1,
           1,
           1,
           1,
           1,
           1,
           1,
           1,
           1,
           1,
           1,
           1,
           1,
           1,
           1,
           1,
           1,
           1,
           1,
           1,
           1,
           1,
           1,
           1,
           1,
           1,
           1,
           1,
           1,
           1,
           1,
           1,
           1,
           1,
           1,
           1,
           1,
           1,
           1,
           1,
           1,
           1,
           1,
           1,
           1,
           1,
           1,
           1,
           1,
           1,
           1,
           1,
           1,
           1,
           1,
           1,
           1,
           1,
           1,
           1,
           1,
           1,
           1,
           1,
           1,
           1,
           1,
           1,
           1,
           1,
           1,
           1,
           1,
           1,
           1,
           1,
           1,
           1,
           1,
           1,
           1,
           1,
           1,
           1,
           1,
           1,
           1,
           1,
           1,
           15,
           1,
           1,
           1,
           1,
           1,
           1,
           1,
           1,
           1,
           1,
           1,
           1,
           1,
           1,
           1,
           1,
           1,
           1,
           1,
           1,
           1,
           1,
           1,
           1,
           1,
           1,
           1,
           1,
           1,
           1,
           1,
           1,
           1,
           1,
           1,
           1,
           1,
           1,
           1,
           1,
           1,
           1,
           1,
           1,
           1,
           1,
           1,
           1,
           1,
           1,
           1,
           1,
           1,
           1,
           1,
           1,
           1,
           1,
           1,
           1,
           1,
           1,
           1,
           1,
           1,
           1,
           1,
           1,
           1,
           1,
           1,
           1,
           1,
           1,
           1,
           1,
           1,
           1,
           1,
           1,
           1,
           1,
           1,
           1,
           1,
           1,
           1,
           1,
           1,
           1,
           1,
           1,
           1,
           1,
           1,
           1,
           1,
           1,
           1,
           1,
           1,
           1,
           1,
           1,
           1,
           1,
           1,
           1,
           1,
           1,
           1,
           1,
           1,
           1,
           1,
           1,
           1,
           1,
           1,
           1,
           1,
           1,
           1,
           1,
           1,
           1,
           1,
           1,
           1,
           1,
           1,
           1,
           1,
           1,
           1,
           1,
           1,
           1,
           1,
           1,
           1,
           1,
           1,
           1,
           1,
           1,
           1,
           1,
           1,
           1,
           1,
           1,
           1,
           1,
           1,
           1,
           1,
           1
          ],
          "sizemode": "area",
          "sizeref": 0.0375,
          "symbol": "circle"
         },
         "mode": "markers",
         "name": "",
         "orientation": "v",
         "showlegend": false,
         "type": "scatter",
         "x": [
          22.091279983520508,
          -0.8652610182762146,
          5.978273391723633,
          -0.6287239193916321,
          11.251628875732422,
          11.227068901062012,
          -3.285200834274292,
          0.3432774543762207,
          23.026132583618164,
          14.785508155822754,
          14.19273567199707,
          1.4825152158737183,
          -25.67582130432129,
          -26.4129581451416,
          28.389453887939453,
          -6.625389099121094,
          23.692977905273438,
          26.60521125793457,
          -20.261308670043945,
          -21.85587501525879,
          9.682053565979004,
          20.015308380126953,
          -1.7225570678710938,
          -23.22789192199707,
          -2.057018756866455,
          20.217952728271484,
          7.897318363189697,
          -9.49779987335205,
          -28.55850601196289,
          -5.047317981719971,
          14.763269424438477,
          4.7875142097473145,
          2.2969534397125244,
          18.25836753845215,
          23.84916877746582,
          -15.121747970581055,
          29.004596710205078,
          -13.170894622802734,
          -6.945094108581543,
          1.6062074899673462,
          -0.5920615196228027,
          23.890939712524414,
          22.389869689941406,
          -11.203934669494629,
          22.906816482543945,
          -21.843997955322266,
          12.394320487976074,
          13.108037948608398,
          -24.990522384643555,
          24.278858184814453,
          -20.791484832763672,
          -10.277311325073242,
          27.997772216796875,
          -3.0320210456848145,
          -27.715953826904297,
          -12.652792930603027,
          -12.318657875061035,
          -15.826089859008789,
          25.580793380737305,
          -14.52183723449707,
          12.302339553833008,
          6.63625955581665,
          -9.329676628112793,
          2.237743377685547,
          10.831525802612305,
          -8.413331031799316,
          -3.3966596126556396,
          -24.62980842590332,
          22.44952964782715,
          8.305765151977539,
          -14.794418334960938,
          -11.020031929016113,
          12.18187427520752,
          11.499792098999023,
          20.40974998474121,
          -1.8859399557113647,
          3.9104068279266357,
          1.078498125076294,
          -3.971221685409546,
          27.01302719116211,
          -13.243040084838867,
          30.678897857666016,
          3.2934648990631104,
          21.318679809570312,
          -17.139820098876953,
          -18.68789291381836,
          25.583072662353516,
          -17.504749298095703,
          -14.500737190246582,
          23.471294403076172,
          7.036816120147705,
          30.695112228393555,
          10.30185317993164,
          -0.18968191742897034,
          3.1585657596588135,
          -9.864060401916504,
          -2.147451639175415,
          27.77970314025879,
          11.363608360290527,
          6.86233377456665,
          27.932048797607422,
          -22.099903106689453,
          -5.10892391204834,
          22.930095672607422,
          -5.606575012207031,
          0.18816642463207245,
          -24.082813262939453,
          9.094747543334961,
          -3.633697748184204,
          6.977405548095703,
          -11.767186164855957,
          -25.573976516723633,
          -5.4515862464904785,
          29.258386611938477,
          -25.184268951416016,
          -1.175437331199646,
          -7.587973117828369,
          26.483545303344727,
          -24.40194320678711,
          4.1668925285339355,
          25.61209487915039,
          12.508814811706543,
          -17.869218826293945,
          29.269899368286133,
          -19.84950065612793,
          -14.489144325256348,
          -6.287437438964844,
          12.313251495361328,
          -2.294872522354126,
          13.638501167297363,
          16.96896743774414,
          -20.070518493652344,
          23.753883361816406,
          -12.122057914733887,
          7.961954593658447,
          21.367557525634766,
          -8.038704872131348,
          -1.5439403057098389,
          -26.37391471862793,
          -2.185443639755249,
          5.218609809875488,
          29.325456619262695,
          -23.91802215576172,
          14.154966354370117,
          25.403413772583008,
          -2.8527567386627197,
          0.814372718334198,
          -19.63148307800293,
          19.558448791503906,
          2.078674793243408,
          3.6666815280914307,
          7.054777145385742,
          -1.2847424745559692,
          -2.7200570106506348,
          3.1607744693756104,
          17.638996124267578,
          15.673439979553223,
          -14.759446144104004,
          26.150651931762695,
          13.569541931152344,
          4.5251617431640625,
          -19.58544158935547,
          -4.665503025054932,
          17.206233978271484,
          16.205780029296875,
          -24.65558433532715,
          5.2969818115234375,
          3.580538272857666,
          -11.054614067077637,
          -11.76941204071045,
          -23.055036544799805,
          7.796108722686768,
          12.622105598449707,
          -4.804101467132568,
          -3.9948172569274902,
          24.678922653198242,
          24.880788803100586,
          -3.104382276535034,
          16.213220596313477,
          -7.2387285232543945,
          -0.3563367426395416,
          16.978242874145508,
          21.466310501098633,
          27.39418601989746,
          13.632092475891113,
          -29.078706741333008,
          0.14843201637268066,
          10.345765113830566,
          14.332657814025879,
          21.718217849731445,
          -7.152070999145508,
          21.123069763183594,
          -18.476890563964844,
          -9.543848037719727,
          9.246716499328613,
          10.150765419006348,
          -0.529625415802002,
          22.720687866210938,
          -19.933555603027344,
          -5.850619316101074,
          -6.238615036010742,
          6.4523797035217285,
          -24.325170516967773,
          7.877577781677246,
          -17.80209732055664,
          -9.53467082977295,
          -1.7862420082092285,
          -17.81717300415039,
          7.527100563049316,
          24.327289581298828,
          -16.60203742980957,
          -22.306255340576172,
          23.996591567993164,
          -16.605205535888672,
          -21.12739372253418,
          -4.372517108917236,
          25.220617294311523,
          19.625181198120117,
          -19.4044189453125,
          -23.02018928527832,
          30.466522216796875,
          -9.97899055480957,
          5.936975955963135,
          -16.586078643798828,
          -21.58266258239746,
          15.294763565063477,
          -28.623258590698242,
          -6.232712745666504,
          20.068161010742188,
          -5.442078590393066,
          -18.711809158325195,
          -16.8709659576416,
          2.0749762058258057,
          -14.071706771850586,
          -29.764266967773438,
          20.903417587280273,
          0.8608494400978088,
          11.308513641357422,
          -3.4530398845672607,
          -22.65353775024414,
          13.396024703979492,
          -18.612924575805664,
          28.342979431152344,
          -3.463423252105713,
          -21.056964874267578,
          24.642623901367188,
          -0.5382897853851318,
          8.943172454833984,
          -18.84740447998047,
          -7.943143844604492,
          -3.737400531768799,
          -3.034715175628662,
          -11.730290412902832,
          13.412796020507812,
          -8.929031372070312,
          -2.889063596725464,
          -19.51645278930664,
          17.391084671020508,
          13.27475643157959,
          -25.79582977294922,
          -14.232121467590332,
          -27.365833282470703,
          -20.684406280517578,
          -17.878097534179688,
          28.692445755004883,
          12.522546768188477,
          18.285968780517578,
          -0.2951907515525818,
          29.765615463256836,
          -6.857973575592041,
          -19.906906127929688,
          9.569872856140137,
          24.97722053527832,
          23.894641876220703,
          14.230731010437012,
          -12.479571342468262,
          -15.624029159545898,
          -2.675039052963257,
          -0.6724098920822144,
          9.766469955444336,
          -5.368992805480957,
          -28.92269515991211,
          -19.56151008605957,
          -14.953685760498047,
          13.491130828857422,
          -10.12861156463623,
          3.185534715652466,
          1.821065068244934,
          3.067399501800537,
          4.678431034088135,
          6.104618549346924,
          -10.427704811096191,
          -1.6500688791275024,
          11.277482032775879,
          21.265575408935547,
          -4.972274303436279,
          -2.2707221508026123,
          -26.618860244750977,
          -12.776740074157715,
          4.4172444343566895,
          -24.83255958557129,
          20.248432159423828,
          -1.3212604522705078,
          15.838152885437012,
          -12.120171546936035,
          7.840804576873779,
          16.38282012939453,
          -0.8332418203353882,
          2.284133195877075,
          8.7900390625,
          -3.139615774154663,
          -20.872535705566406,
          22.642593383789062,
          -1.1861207485198975,
          18.250247955322266,
          4.440657615661621,
          0.3630707561969757,
          4.6590657234191895,
          -15.853686332702637,
          1.7043153047561646,
          13.435049057006836,
          -27.31315803527832,
          -5.06149435043335,
          -13.83279800415039,
          4.577256202697754,
          -10.946724891662598,
          -5.324646472930908,
          25.861042022705078,
          -27.595388412475586,
          22.232175827026367,
          -6.871992588043213,
          20.560958862304688,
          -15.682065963745117,
          -16.703472137451172,
          -14.664567947387695,
          5.0892438888549805,
          -7.568934440612793,
          -4.522641181945801,
          -28.51371955871582,
          22.862098693847656,
          -18.994457244873047,
          20.92182731628418,
          17.71194076538086,
          -4.450852394104004,
          3.224024534225464,
          20.1239013671875,
          -17.005165100097656,
          23.76348876953125,
          27.070796966552734,
          19.220884323120117,
          -2.083716869354248,
          -11.300230979919434,
          -5.94052267074585,
          12.003277778625488,
          0.9076762795448303,
          -10.513736724853516,
          12.37069320678711,
          -17.73935890197754,
          -15.538461685180664,
          11.719342231750488,
          -8.713998794555664,
          14.830607414245605,
          13.831771850585938,
          0.5680149793624878,
          27.190128326416016,
          -11.48008918762207,
          -18.40450668334961,
          22.591266632080078,
          -7.72381067276001,
          10.317192077636719,
          14.595239639282227,
          -20.522512435913086,
          5.848757266998291,
          2.679696559906006,
          9.253022193908691,
          21.940645217895508,
          -0.6281531453132629,
          15.932209968566895,
          -9.8411283493042,
          13.686782836914062,
          -15.883467674255371,
          24.417463302612305,
          21.02425193786621,
          -7.5006537437438965,
          -5.632469654083252,
          14.124441146850586,
          4.84036111831665,
          23.48038673400879,
          1.6908738613128662,
          -27.46428871154785,
          3.9386608600616455,
          -15.081806182861328,
          1.5944896936416626,
          -1.9759800434112549,
          9.571444511413574,
          -10.635655403137207,
          -4.218723773956299,
          2.7804837226867676,
          17.561559677124023,
          -24.548776626586914,
          16.535615921020508,
          21.55623435974121,
          22.256053924560547,
          -9.414728164672852,
          -7.0097808837890625,
          12.018991470336914,
          -22.021690368652344,
          8.013724327087402,
          20.32830047607422,
          -16.003398895263672,
          -18.99245834350586,
          -5.956712245941162,
          7.850819110870361,
          1.0665372610092163,
          0.15436360239982605,
          23.686664581298828,
          -14.248705863952637,
          -1.3415541648864746,
          -5.471009254455566,
          -4.665060043334961,
          30.834068298339844,
          -2.900186777114868,
          -17.269840240478516,
          3.866928815841675,
          13.776851654052734,
          21.512683868408203,
          -4.001660346984863,
          -0.27174726128578186,
          -22.081228256225586,
          10.910722732543945,
          -1.4998522996902466,
          -15.024344444274902
         ],
         "xaxis": "x",
         "y": [
          12.94282054901123,
          3.030543088912964,
          3.6635072231292725,
          1.9701014757156372,
          -0.05593452230095863,
          14.006936073303223,
          -4.51508092880249,
          -3.913573741912842,
          14.132681846618652,
          -1.8373005390167236,
          4.105058670043945,
          13.072674751281738,
          -4.398728370666504,
          0.1859353631734848,
          2.726592540740967,
          10.028388977050781,
          9.387893676757812,
          2.969367027282715,
          3.532876491546631,
          -4.273531436920166,
          -1.7939785718917847,
          11.448145866394043,
          14.979817390441895,
          -6.468105316162109,
          -12.592435836791992,
          -0.9864441156387329,
          -2.1412668228149414,
          -5.09768009185791,
          2.3145861625671387,
          -11.64214038848877,
          -4.947640895843506,
          14.207530975341797,
          -7.344839572906494,
          -2.8402981758117676,
          0.22990955412387848,
          7.209109306335449,
          7.2436981201171875,
          -0.3884695768356323,
          -13.245662689208984,
          -5.493208885192871,
          4.371467590332031,
          6.8694610595703125,
          6.735304355621338,
          -5.299462795257568,
          -3.5606322288513184,
          -7.577418804168701,
          -6.6102294921875,
          1.3786951303482056,
          -4.467679023742676,
          6.479531764984131,
          -1.5400925874710083,
          -3.9340105056762695,
          4.6708984375,
          12.463008880615234,
          -9.444917678833008,
          -3.3873414993286133,
          -10.774707794189453,
          3.6460354328155518,
          10.210907936096191,
          -4.4685797691345215,
          0.13812559843063354,
          1.5549354553222656,
          -9.423314094543457,
          7.776520729064941,
          0.6611563563346863,
          -6.772706508636475,
          1.7799261808395386,
          -8.750978469848633,
          0.6978331804275513,
          14.257146835327148,
          8.835020065307617,
          -3.038167715072632,
          7.602297306060791,
          9.280895233154297,
          -7.763299465179443,
          -11.218721389770508,
          -9.273049354553223,
          -12.864656448364258,
          -18.241901397705078,
          5.3073344230651855,
          -10.330023765563965,
          2.885368824005127,
          -6.060584545135498,
          14.84554386138916,
          0.8208728432655334,
          6.316864967346191,
          9.17756462097168,
          -3.4198246002197266,
          4.073105812072754,
          -4.30355978012085,
          -1.7970105409622192,
          5.915121078491211,
          -6.536510467529297,
          3.0691757202148438,
          15.15933895111084,
          -7.756598949432373,
          -6.999435901641846,
          8.950774192810059,
          13.516542434692383,
          5.3662614822387695,
          6.28026008605957,
          -0.19141840934753418,
          4.274328231811523,
          14.707398414611816,
          11.117061614990234,
          -7.526605606079102,
          -1.7796884775161743,
          -0.17148825526237488,
          -7.799384117126465,
          -9.9385347366333,
          6.541940689086914,
          -9.686785697937012,
          -3.8095428943634033,
          5.097994804382324,
          -8.946070671081543,
          -3.6618382930755615,
          -13.285737037658691,
          4.656358242034912,
          -2.631709337234497,
          -3.9033403396606445,
          3.412156820297241,
          4.346432685852051,
          4.292697906494141,
          9.949871063232422,
          4.144440650939941,
          1.3768151998519897,
          -7.131828784942627,
          14.492042541503906,
          -8.227861404418945,
          8.203851699829102,
          -3.6920952796936035,
          -7.287822246551514,
          4.531869411468506,
          3.2647690773010254,
          9.037412643432617,
          2.2331624031066895,
          -13.91631031036377,
          1.957526445388794,
          0.17972877621650696,
          1.3926646709442139,
          2.899717092514038,
          1.1226333379745483,
          -4.741002559661865,
          -10.598240852355957,
          -3.237778902053833,
          0.6309404969215393,
          1.7573473453521729,
          -10.106226921081543,
          5.457961559295654,
          -11.510787963867188,
          13.825685501098633,
          -10.534272193908691,
          -0.33120107650756836,
          15.184271812438965,
          -5.133410453796387,
          4.317495346069336,
          -1.1914546489715576,
          -4.522239685058594,
          1.0402518510818481,
          -9.219443321228027,
          -0.06708787381649017,
          1.1763967275619507,
          -8.15353012084961,
          5.433635711669922,
          14.058161735534668,
          -5.299136161804199,
          9.963613510131836,
          -4.5194621086120605,
          -6.548418998718262,
          -1.9018747806549072,
          -5.323436737060547,
          -1.046021819114685,
          -5.9205169677734375,
          -6.347882270812988,
          -11.221385955810547,
          7.885180473327637,
          1.3850055932998657,
          -14.595710754394531,
          0.5525749325752258,
          6.5223002433776855,
          15.00924015045166,
          12.620708465576172,
          -5.894371032714844,
          9.146270751953125,
          -3.1115469932556152,
          -4.277921676635742,
          0.10598549991846085,
          -1.0892963409423828,
          5.903893947601318,
          6.226474761962891,
          0.6191913485527039,
          13.46249008178711,
          2.2403478622436523,
          8.958845138549805,
          -5.887833118438721,
          -6.103879451751709,
          -5.403105735778809,
          -6.597840785980225,
          -8.67356014251709,
          8.655804634094238,
          0.11552416533231735,
          14.26395034790039,
          -7.082577228546143,
          -10.738070487976074,
          -11.519742012023926,
          -2.775801420211792,
          -12.528367042541504,
          0.12517522275447845,
          3.498908281326294,
          5.345875263214111,
          -9.02435302734375,
          -2.1992807388305664,
          1.4777066707611084,
          3.659888505935669,
          3.5785536766052246,
          15.1000337600708,
          7.001089096069336,
          -0.6406880617141724,
          -5.457581043243408,
          4.2165703773498535,
          3.5492379665374756,
          -3.3195321559906006,
          15.219966888427734,
          -6.446621417999268,
          -3.684354782104492,
          14.631793022155762,
          2.4480247497558594,
          -16.491466522216797,
          -7.914119720458984,
          -16.013587951660156,
          -5.33353853225708,
          -1.0876264572143555,
          3.221846342086792,
          1.8133572340011597,
          -3.525564670562744,
          8.260986328125,
          -10.348371505737305,
          -4.292513847351074,
          -2.98405385017395,
          -12.046030044555664,
          -3.324512004852295,
          -10.279491424560547,
          4.075895309448242,
          -6.108700275421143,
          0.2827187180519104,
          -1.837894320487976,
          -4.434964656829834,
          -7.599264144897461,
          -6.309225559234619,
          -9.264652252197266,
          14.986067771911621,
          2.960242986679077,
          5.133868217468262,
          0.41097185015678406,
          2.2673282623291016,
          8.81894302368164,
          -8.061538696289062,
          3.5390686988830566,
          -5.197278022766113,
          -6.700868606567383,
          -8.341002464294434,
          -1.5173392295837402,
          5.807373523712158,
          -6.961581707000732,
          5.70356559753418,
          13.266249656677246,
          -1.0303677320480347,
          3.824216365814209,
          7.995779991149902,
          -12.662285804748535,
          -9.870895385742188,
          -11.081542015075684,
          2.4014999866485596,
          -2.06797194480896,
          -6.144885540008545,
          -6.056339740753174,
          -9.870945930480957,
          9.699835777282715,
          -5.944187164306641,
          -7.967597961425781,
          -13.340447425842285,
          -5.392667293548584,
          -1.619222640991211,
          -0.9312523603439331,
          12.084211349487305,
          -2.31685471534729,
          -13.510293960571289,
          3.7727441787719727,
          13.221357345581055,
          -9.053781509399414,
          9.127785682678223,
          -0.7776447534561157,
          -10.385721206665039,
          -4.97476053237915,
          -8.296035766601562,
          -8.598891258239746,
          6.4911370277404785,
          -5.49534273147583,
          3.2377867698669434,
          4.859023094177246,
          -6.017516136169434,
          1.7587236166000366,
          -6.274747371673584,
          -6.597223281860352,
          -3.259155035018921,
          5.777115345001221,
          12.945141792297363,
          11.446150779724121,
          0.41624513268470764,
          -1.2331464290618896,
          -9.03954792022705,
          -3.703153610229492,
          10.483301162719727,
          8.16992473602295,
          0.23204639554023743,
          -6.824007034301758,
          12.184799194335938,
          7.9928765296936035,
          6.938808441162109,
          1.1021196842193604,
          -9.62392807006836,
          -9.767929077148438,
          9.859989166259766,
          5.718310832977295,
          2.778818368911743,
          5.439865589141846,
          -10.110149383544922,
          1.9333189725875854,
          -8.951351165771484,
          -4.584941387176514,
          -5.344135284423828,
          13.175517082214355,
          0.0046761734411120415,
          8.483013153076172,
          6.989624977111816,
          8.50908374786377,
          9.73592758178711,
          -7.659054279327393,
          -4.46818208694458,
          -4.697946071624756,
          -3.493786573410034,
          12.306437492370605,
          0.410319983959198,
          2.9489235877990723,
          14.32982349395752,
          2.340595245361328,
          2.7342751026153564,
          10.012212753295898,
          1.2653011083602905,
          -4.843220233917236,
          -5.477621555328369,
          1.726657509803772,
          -10.242423057556152,
          7.203105449676514,
          10.852755546569824,
          2.943207025527954,
          4.7520036697387695,
          -2.2550621032714844,
          5.071768760681152,
          6.722827911376953,
          -7.520893573760986,
          -7.677015781402588,
          0.7050352692604065,
          -11.934937477111816,
          7.133447647094727,
          7.832830905914307,
          1.7964563369750977,
          2.8560478687286377,
          -3.009972095489502,
          6.045888900756836,
          -9.526154518127441,
          -2.0614449977874756,
          -7.355849742889404,
          5.804162502288818,
          1.717231273651123,
          9.920221328735352,
          -0.2760840952396393,
          13.504708290100098,
          2.7253003120422363,
          12.329206466674805,
          -5.817923069000244,
          -3.5920939445495605,
          0.29583558440208435,
          -11.927773475646973,
          -2.145536422729492,
          11.278242111206055,
          -0.1636345237493515,
          7.482247829437256,
          12.141013145446777,
          0.3621657192707062,
          -10.674452781677246,
          0.41875478625297546,
          -0.8036680221557617,
          4.021505355834961,
          3.548839569091797,
          -7.71609354019165,
          7.207180500030518,
          -9.166827201843262,
          14.610962867736816,
          -3.668269395828247,
          5.127745151519775,
          -3.469069004058838,
          -1.6363990306854248,
          -0.8943741917610168,
          6.76548957824707,
          -3.4860615730285645,
          3.9523088932037354,
          0.010760253295302391,
          4.749363899230957,
          -2.2953484058380127,
          5.563838481903076,
          2.5919041633605957,
          1.6373873949050903,
          4.941215991973877,
          -9.368407249450684,
          11.34377384185791,
          5.564268589019775,
          15.060540199279785,
          -15.452059745788574,
          -4.526696681976318,
          4.6850762367248535,
          11.31863784790039,
          -9.543320655822754,
          -11.389639854431152,
          -6.5581769943237305,
          2.674849510192871,
          -18.17365837097168,
          -13.556632995605469,
          0.7924125790596008,
          -11.560879707336426,
          10.138784408569336,
          -11.949337005615234
         ],
         "yaxis": "y"
        }
       ],
       "layout": {
        "coloraxis": {
         "colorbar": {
          "title": {
           "text": "cluster"
          }
         },
         "colorscale": [
          [
           0,
           "#0d0887"
          ],
          [
           0.1111111111111111,
           "#46039f"
          ],
          [
           0.2222222222222222,
           "#7201a8"
          ],
          [
           0.3333333333333333,
           "#9c179e"
          ],
          [
           0.4444444444444444,
           "#bd3786"
          ],
          [
           0.5555555555555556,
           "#d8576b"
          ],
          [
           0.6666666666666666,
           "#ed7953"
          ],
          [
           0.7777777777777778,
           "#fb9f3a"
          ],
          [
           0.8888888888888888,
           "#fdca26"
          ],
          [
           1,
           "#f0f921"
          ]
         ]
        },
        "height": 600,
        "legend": {
         "itemsizing": "constant",
         "tracegroupgap": 0
        },
        "template": {
         "data": {
          "bar": [
           {
            "error_x": {
             "color": "#2a3f5f"
            },
            "error_y": {
             "color": "#2a3f5f"
            },
            "marker": {
             "line": {
              "color": "#E5ECF6",
              "width": 0.5
             },
             "pattern": {
              "fillmode": "overlay",
              "size": 10,
              "solidity": 0.2
             }
            },
            "type": "bar"
           }
          ],
          "barpolar": [
           {
            "marker": {
             "line": {
              "color": "#E5ECF6",
              "width": 0.5
             },
             "pattern": {
              "fillmode": "overlay",
              "size": 10,
              "solidity": 0.2
             }
            },
            "type": "barpolar"
           }
          ],
          "carpet": [
           {
            "aaxis": {
             "endlinecolor": "#2a3f5f",
             "gridcolor": "white",
             "linecolor": "white",
             "minorgridcolor": "white",
             "startlinecolor": "#2a3f5f"
            },
            "baxis": {
             "endlinecolor": "#2a3f5f",
             "gridcolor": "white",
             "linecolor": "white",
             "minorgridcolor": "white",
             "startlinecolor": "#2a3f5f"
            },
            "type": "carpet"
           }
          ],
          "choropleth": [
           {
            "colorbar": {
             "outlinewidth": 0,
             "ticks": ""
            },
            "type": "choropleth"
           }
          ],
          "contour": [
           {
            "colorbar": {
             "outlinewidth": 0,
             "ticks": ""
            },
            "colorscale": [
             [
              0,
              "#0d0887"
             ],
             [
              0.1111111111111111,
              "#46039f"
             ],
             [
              0.2222222222222222,
              "#7201a8"
             ],
             [
              0.3333333333333333,
              "#9c179e"
             ],
             [
              0.4444444444444444,
              "#bd3786"
             ],
             [
              0.5555555555555556,
              "#d8576b"
             ],
             [
              0.6666666666666666,
              "#ed7953"
             ],
             [
              0.7777777777777778,
              "#fb9f3a"
             ],
             [
              0.8888888888888888,
              "#fdca26"
             ],
             [
              1,
              "#f0f921"
             ]
            ],
            "type": "contour"
           }
          ],
          "contourcarpet": [
           {
            "colorbar": {
             "outlinewidth": 0,
             "ticks": ""
            },
            "type": "contourcarpet"
           }
          ],
          "heatmap": [
           {
            "colorbar": {
             "outlinewidth": 0,
             "ticks": ""
            },
            "colorscale": [
             [
              0,
              "#0d0887"
             ],
             [
              0.1111111111111111,
              "#46039f"
             ],
             [
              0.2222222222222222,
              "#7201a8"
             ],
             [
              0.3333333333333333,
              "#9c179e"
             ],
             [
              0.4444444444444444,
              "#bd3786"
             ],
             [
              0.5555555555555556,
              "#d8576b"
             ],
             [
              0.6666666666666666,
              "#ed7953"
             ],
             [
              0.7777777777777778,
              "#fb9f3a"
             ],
             [
              0.8888888888888888,
              "#fdca26"
             ],
             [
              1,
              "#f0f921"
             ]
            ],
            "type": "heatmap"
           }
          ],
          "heatmapgl": [
           {
            "colorbar": {
             "outlinewidth": 0,
             "ticks": ""
            },
            "colorscale": [
             [
              0,
              "#0d0887"
             ],
             [
              0.1111111111111111,
              "#46039f"
             ],
             [
              0.2222222222222222,
              "#7201a8"
             ],
             [
              0.3333333333333333,
              "#9c179e"
             ],
             [
              0.4444444444444444,
              "#bd3786"
             ],
             [
              0.5555555555555556,
              "#d8576b"
             ],
             [
              0.6666666666666666,
              "#ed7953"
             ],
             [
              0.7777777777777778,
              "#fb9f3a"
             ],
             [
              0.8888888888888888,
              "#fdca26"
             ],
             [
              1,
              "#f0f921"
             ]
            ],
            "type": "heatmapgl"
           }
          ],
          "histogram": [
           {
            "marker": {
             "pattern": {
              "fillmode": "overlay",
              "size": 10,
              "solidity": 0.2
             }
            },
            "type": "histogram"
           }
          ],
          "histogram2d": [
           {
            "colorbar": {
             "outlinewidth": 0,
             "ticks": ""
            },
            "colorscale": [
             [
              0,
              "#0d0887"
             ],
             [
              0.1111111111111111,
              "#46039f"
             ],
             [
              0.2222222222222222,
              "#7201a8"
             ],
             [
              0.3333333333333333,
              "#9c179e"
             ],
             [
              0.4444444444444444,
              "#bd3786"
             ],
             [
              0.5555555555555556,
              "#d8576b"
             ],
             [
              0.6666666666666666,
              "#ed7953"
             ],
             [
              0.7777777777777778,
              "#fb9f3a"
             ],
             [
              0.8888888888888888,
              "#fdca26"
             ],
             [
              1,
              "#f0f921"
             ]
            ],
            "type": "histogram2d"
           }
          ],
          "histogram2dcontour": [
           {
            "colorbar": {
             "outlinewidth": 0,
             "ticks": ""
            },
            "colorscale": [
             [
              0,
              "#0d0887"
             ],
             [
              0.1111111111111111,
              "#46039f"
             ],
             [
              0.2222222222222222,
              "#7201a8"
             ],
             [
              0.3333333333333333,
              "#9c179e"
             ],
             [
              0.4444444444444444,
              "#bd3786"
             ],
             [
              0.5555555555555556,
              "#d8576b"
             ],
             [
              0.6666666666666666,
              "#ed7953"
             ],
             [
              0.7777777777777778,
              "#fb9f3a"
             ],
             [
              0.8888888888888888,
              "#fdca26"
             ],
             [
              1,
              "#f0f921"
             ]
            ],
            "type": "histogram2dcontour"
           }
          ],
          "mesh3d": [
           {
            "colorbar": {
             "outlinewidth": 0,
             "ticks": ""
            },
            "type": "mesh3d"
           }
          ],
          "parcoords": [
           {
            "line": {
             "colorbar": {
              "outlinewidth": 0,
              "ticks": ""
             }
            },
            "type": "parcoords"
           }
          ],
          "pie": [
           {
            "automargin": true,
            "type": "pie"
           }
          ],
          "scatter": [
           {
            "fillpattern": {
             "fillmode": "overlay",
             "size": 10,
             "solidity": 0.2
            },
            "type": "scatter"
           }
          ],
          "scatter3d": [
           {
            "line": {
             "colorbar": {
              "outlinewidth": 0,
              "ticks": ""
             }
            },
            "marker": {
             "colorbar": {
              "outlinewidth": 0,
              "ticks": ""
             }
            },
            "type": "scatter3d"
           }
          ],
          "scattercarpet": [
           {
            "marker": {
             "colorbar": {
              "outlinewidth": 0,
              "ticks": ""
             }
            },
            "type": "scattercarpet"
           }
          ],
          "scattergeo": [
           {
            "marker": {
             "colorbar": {
              "outlinewidth": 0,
              "ticks": ""
             }
            },
            "type": "scattergeo"
           }
          ],
          "scattergl": [
           {
            "marker": {
             "colorbar": {
              "outlinewidth": 0,
              "ticks": ""
             }
            },
            "type": "scattergl"
           }
          ],
          "scattermapbox": [
           {
            "marker": {
             "colorbar": {
              "outlinewidth": 0,
              "ticks": ""
             }
            },
            "type": "scattermapbox"
           }
          ],
          "scatterpolar": [
           {
            "marker": {
             "colorbar": {
              "outlinewidth": 0,
              "ticks": ""
             }
            },
            "type": "scatterpolar"
           }
          ],
          "scatterpolargl": [
           {
            "marker": {
             "colorbar": {
              "outlinewidth": 0,
              "ticks": ""
             }
            },
            "type": "scatterpolargl"
           }
          ],
          "scatterternary": [
           {
            "marker": {
             "colorbar": {
              "outlinewidth": 0,
              "ticks": ""
             }
            },
            "type": "scatterternary"
           }
          ],
          "surface": [
           {
            "colorbar": {
             "outlinewidth": 0,
             "ticks": ""
            },
            "colorscale": [
             [
              0,
              "#0d0887"
             ],
             [
              0.1111111111111111,
              "#46039f"
             ],
             [
              0.2222222222222222,
              "#7201a8"
             ],
             [
              0.3333333333333333,
              "#9c179e"
             ],
             [
              0.4444444444444444,
              "#bd3786"
             ],
             [
              0.5555555555555556,
              "#d8576b"
             ],
             [
              0.6666666666666666,
              "#ed7953"
             ],
             [
              0.7777777777777778,
              "#fb9f3a"
             ],
             [
              0.8888888888888888,
              "#fdca26"
             ],
             [
              1,
              "#f0f921"
             ]
            ],
            "type": "surface"
           }
          ],
          "table": [
           {
            "cells": {
             "fill": {
              "color": "#EBF0F8"
             },
             "line": {
              "color": "white"
             }
            },
            "header": {
             "fill": {
              "color": "#C8D4E3"
             },
             "line": {
              "color": "white"
             }
            },
            "type": "table"
           }
          ]
         },
         "layout": {
          "annotationdefaults": {
           "arrowcolor": "#2a3f5f",
           "arrowhead": 0,
           "arrowwidth": 1
          },
          "autotypenumbers": "strict",
          "coloraxis": {
           "colorbar": {
            "outlinewidth": 0,
            "ticks": ""
           }
          },
          "colorscale": {
           "diverging": [
            [
             0,
             "#8e0152"
            ],
            [
             0.1,
             "#c51b7d"
            ],
            [
             0.2,
             "#de77ae"
            ],
            [
             0.3,
             "#f1b6da"
            ],
            [
             0.4,
             "#fde0ef"
            ],
            [
             0.5,
             "#f7f7f7"
            ],
            [
             0.6,
             "#e6f5d0"
            ],
            [
             0.7,
             "#b8e186"
            ],
            [
             0.8,
             "#7fbc41"
            ],
            [
             0.9,
             "#4d9221"
            ],
            [
             1,
             "#276419"
            ]
           ],
           "sequential": [
            [
             0,
             "#0d0887"
            ],
            [
             0.1111111111111111,
             "#46039f"
            ],
            [
             0.2222222222222222,
             "#7201a8"
            ],
            [
             0.3333333333333333,
             "#9c179e"
            ],
            [
             0.4444444444444444,
             "#bd3786"
            ],
            [
             0.5555555555555556,
             "#d8576b"
            ],
            [
             0.6666666666666666,
             "#ed7953"
            ],
            [
             0.7777777777777778,
             "#fb9f3a"
            ],
            [
             0.8888888888888888,
             "#fdca26"
            ],
            [
             1,
             "#f0f921"
            ]
           ],
           "sequentialminus": [
            [
             0,
             "#0d0887"
            ],
            [
             0.1111111111111111,
             "#46039f"
            ],
            [
             0.2222222222222222,
             "#7201a8"
            ],
            [
             0.3333333333333333,
             "#9c179e"
            ],
            [
             0.4444444444444444,
             "#bd3786"
            ],
            [
             0.5555555555555556,
             "#d8576b"
            ],
            [
             0.6666666666666666,
             "#ed7953"
            ],
            [
             0.7777777777777778,
             "#fb9f3a"
            ],
            [
             0.8888888888888888,
             "#fdca26"
            ],
            [
             1,
             "#f0f921"
            ]
           ]
          },
          "colorway": [
           "#636efa",
           "#EF553B",
           "#00cc96",
           "#ab63fa",
           "#FFA15A",
           "#19d3f3",
           "#FF6692",
           "#B6E880",
           "#FF97FF",
           "#FECB52"
          ],
          "font": {
           "color": "#2a3f5f"
          },
          "geo": {
           "bgcolor": "white",
           "lakecolor": "white",
           "landcolor": "#E5ECF6",
           "showlakes": true,
           "showland": true,
           "subunitcolor": "white"
          },
          "hoverlabel": {
           "align": "left"
          },
          "hovermode": "closest",
          "mapbox": {
           "style": "light"
          },
          "paper_bgcolor": "white",
          "plot_bgcolor": "#E5ECF6",
          "polar": {
           "angularaxis": {
            "gridcolor": "white",
            "linecolor": "white",
            "ticks": ""
           },
           "bgcolor": "#E5ECF6",
           "radialaxis": {
            "gridcolor": "white",
            "linecolor": "white",
            "ticks": ""
           }
          },
          "scene": {
           "xaxis": {
            "backgroundcolor": "#E5ECF6",
            "gridcolor": "white",
            "gridwidth": 2,
            "linecolor": "white",
            "showbackground": true,
            "ticks": "",
            "zerolinecolor": "white"
           },
           "yaxis": {
            "backgroundcolor": "#E5ECF6",
            "gridcolor": "white",
            "gridwidth": 2,
            "linecolor": "white",
            "showbackground": true,
            "ticks": "",
            "zerolinecolor": "white"
           },
           "zaxis": {
            "backgroundcolor": "#E5ECF6",
            "gridcolor": "white",
            "gridwidth": 2,
            "linecolor": "white",
            "showbackground": true,
            "ticks": "",
            "zerolinecolor": "white"
           }
          },
          "shapedefaults": {
           "line": {
            "color": "#2a3f5f"
           }
          },
          "ternary": {
           "aaxis": {
            "gridcolor": "white",
            "linecolor": "white",
            "ticks": ""
           },
           "baxis": {
            "gridcolor": "white",
            "linecolor": "white",
            "ticks": ""
           },
           "bgcolor": "#E5ECF6",
           "caxis": {
            "gridcolor": "white",
            "linecolor": "white",
            "ticks": ""
           }
          },
          "title": {
           "x": 0.05
          },
          "xaxis": {
           "automargin": true,
           "gridcolor": "white",
           "linecolor": "white",
           "ticks": "",
           "title": {
            "standoff": 15
           },
           "zerolinecolor": "white",
           "zerolinewidth": 2
          },
          "yaxis": {
           "automargin": true,
           "gridcolor": "white",
           "linecolor": "white",
           "ticks": "",
           "title": {
            "standoff": 15
           },
           "zerolinecolor": "white",
           "zerolinewidth": 2
          }
         }
        },
        "title": {
         "text": "NBA Players Clustering (Highlight: Jamal Murray)"
        },
        "width": 800,
        "xaxis": {
         "anchor": "y",
         "domain": [
          0,
          1
         ],
         "title": {
          "text": "TSNE Component 1"
         }
        },
        "yaxis": {
         "anchor": "x",
         "domain": [
          0,
          1
         ],
         "title": {
          "text": "TSNE Component 2"
         }
        }
       }
      }
     },
     "metadata": {},
     "output_type": "display_data"
    }
   ],
   "source": [
    "def plot_player_highlight(df, player_name):\n",
    "    \"\"\"\n",
    "    Generates an interactive scatter plot with a specific player highlighted.\n",
    "    \n",
    "    Parameters:\n",
    "    df (pd.DataFrame): DataFrame containing the player data, including PCA components and cluster labels.\n",
    "    player_name (str): The name of the player to highlight.\n",
    "    \n",
    "    Returns:\n",
    "    plotly.graph_objects.Figure: The generated plot with the highlighted player.\n",
    "    \"\"\"\n",
    "    \n",
    "    # Check if the player_name exists in the DataFrame\n",
    "    if not df['Player'].str.contains(player_name).any():\n",
    "        raise ValueError(f\"Player '{player_name}' not found in the DataFrame index.\")\n",
    "    \n",
    "    # increase size for the highlighted player\n",
    "    df['point_size'] = df['Player'].map(lambda x: 15 if x == player_name else 1)\n",
    "    \n",
    "    # distinct color for the highlighted player\n",
    "    df['highlight_color'] = df['Player'].map(lambda x: 'red' if x == player_name else 'blue')\n",
    "\n",
    "    # Plot using Plotly\n",
    "    fig = px.scatter(\n",
    "        df,\n",
    "        x='TSNE1',\n",
    "        y='TSNE2',\n",
    "        color='cluster',\n",
    "        hover_name=df['Player'], \n",
    "        size='point_size', \n",
    "        color_discrete_sequence=df['highlight_color'],  # Custom colors\n",
    "        title=f'NBA Players Clustering (Highlight: {player_name})',\n",
    "        labels={'TSNE1': 'TSNE Component 1', 'TSNE2': 'TSNE Component 2'},\n",
    "    )\n",
    "\n",
    "    fig.update_layout(\n",
    "    width=800,  # Width of the plot in pixels\n",
    "    height=600  # Height of the plot in pixels\n",
    "    )\n",
    "\n",
    "    # Show the plot\n",
    "    fig.show()\n",
    "\n",
    "# Example usage\n",
    "# plot_player_highlight(df, 'LeBron James')\n",
    "\n",
    "plot_player_highlight(reg_stats, 'Jamal Murray')"
   ]
  },
  {
   "cell_type": "code",
   "execution_count": 37,
   "metadata": {},
   "outputs": [
    {
     "data": {
      "text/plain": [
       "Index(['Player', 'Pos', 'Age', 'Tm', 'G', 'GS', 'MP', 'FG', 'FGA', 'FG%', '3P',\n",
       "       '3PA', '3P%', '2P', '2PA', '2P%', 'eFG%', 'FT', 'FTA', 'FT%', 'ORB',\n",
       "       'DRB', 'TRB', 'AST', 'STL', 'BLK', 'TOV', 'PF', 'PTS', 'cluster',\n",
       "       'TSNE1', 'TSNE2', 'point_size', 'highlight_color'],\n",
       "      dtype='object')"
      ]
     },
     "execution_count": 37,
     "metadata": {},
     "output_type": "execute_result"
    }
   ],
   "source": [
    "reg_stats.columns"
   ]
  },
  {
   "cell_type": "code",
   "execution_count": null,
   "metadata": {},
   "outputs": [],
   "source": []
  }
 ],
 "metadata": {
  "kernelspec": {
   "display_name": "base",
   "language": "python",
   "name": "python3"
  },
  "language_info": {
   "codemirror_mode": {
    "name": "ipython",
    "version": 3
   },
   "file_extension": ".py",
   "mimetype": "text/x-python",
   "name": "python",
   "nbconvert_exporter": "python",
   "pygments_lexer": "ipython3",
   "version": "3.8.8"
  }
 },
 "nbformat": 4,
 "nbformat_minor": 2
}
